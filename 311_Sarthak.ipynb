{
  "cells": [
    {
      "cell_type": "code",
      "execution_count": null,
      "metadata": {
        "colab": {
          "base_uri": "https://localhost:8080/"
        },
        "id": "0GTHglLgxfh8",
        "outputId": "9e63f1a9-3277-4b89-c385-a5d9f1974c0a"
      },
      "outputs": [
        {
          "name": "stdout",
          "output_type": "stream",
          "text": [
            "a as int 25\n",
            "b as long 54868\n",
            "c as float 14.25\n",
            "d as complex 3.14j\n",
            "Welcome to python\n",
            "[15, 25.6, 'python']\n",
            "(21, 'python', 21.45)\n",
            "{'Aradhana': 21, 'Prarthana': 100, 'Rugved': 23}\n"
          ]
        }
      ],
      "source": [
        "a=25\n",
        "print(\"a as int\",a)\n",
        "b=54868\n",
        "print(\"b as long\",b)\n",
        "c=14.25\n",
        "print(\"c as float\",c)\n",
        "d=3.14j\n",
        "print(\"d as complex\",d)\n",
        "str1=\"Welcome to python\"\n",
        "print(str1)\n",
        "l1=[15,25.6,\"python\"]\n",
        "print(l1)\n",
        "t1=(21,\"python\",21.45)\n",
        "print(t1)\n",
        "d1={\"Aradhana\": 21,\"Prarthana\":100,\"Rugved\":23}\n",
        "print(d1)"
      ]
    },
    {
      "cell_type": "code",
      "source": [],
      "metadata": {
        "id": "lDSBlyilnvdQ"
      },
      "execution_count": null,
      "outputs": []
    },
    {
      "cell_type": "code",
      "execution_count": null,
      "metadata": {
        "colab": {
          "base_uri": "https://localhost:8080/"
        },
        "id": "m8LOB2yBRi_M",
        "outputId": "7e77a2bc-24d3-418e-b0c6-2c55f14b20f3"
      },
      "outputs": [
        {
          "name": "stdout",
          "output_type": "stream",
          "text": [
            "23\n",
            "55\n",
            "65\n",
            "65 is largest\n",
            "Enter a number\n",
            "856\n",
            "856 is even\n",
            "55\n",
            "22\n",
            "66\n",
            "66 is largest\n",
            "main area ends\n",
            "Enter any number\n",
            "23\n",
            "23 is odd\n"
          ]
        }
      ],
      "source": [
        " n1n1n1n1=int(input())\n",
        "n2=int(input())\n",
        "n3=int(input())\n",
        "if n1>n2 and n1>n3 :\n",
        "    print(n1,\"is largest\")\n",
        "if n2>n1 and n2>n3 :\n",
        "  print(n2,\"is largest\")\n",
        "if n3>n1 and n3>n2 :\n",
        "  print(n3,\"is largest\")\n",
        "print(\"Enter a number\")\n",
        "num=int(input())\n",
        "if num%2==0:\n",
        "  print(num,\"is even\")\n",
        "else:\n",
        "  print(num,\"is odd\")\n",
        "n1=int(input())\n",
        "n2=int(input())\n",
        "n3=int(input())\n",
        "if n1>n2:\n",
        "  if n1>n3:\n",
        "    print(n1,\"is largest\")\n",
        "if n2>n1:\n",
        "  if n2>n3:\n",
        "    print(n2,\"is largest\")\n",
        "if n3>n1:\n",
        "  if n3>n2:\n",
        "    print(n3,\"is largest\")\n",
        "print(\"main area ends\")\n",
        "print(\"Enter any number\")\n",
        "num=int(input())\n",
        "print(num,\"is even\") if num%2==0 else print(num,\"is odd\")\n"
      ]
    },
    {
      "cell_type": "code",
      "source": [
        "import pandas as pd\n",
        "df1= pd.read_csv(r'/content/310_eds.csv')\n",
        "display(df1)"
      ],
      "metadata": {
        "id": "oL11abDb_2ET",
        "colab": {
          "base_uri": "https://localhost:8080/",
          "height": 645
        },
        "outputId": "777bf718-578c-4e4d-8490-73414074e653"
      },
      "execution_count": null,
      "outputs": [
        {
          "output_type": "display_data",
          "data": {
            "text/plain": [
              "    sr.no       Name   Novel  Science  GK  Maths  Journel  Litreture  fiction\n",
              "0       1    NutanLIB     54      254  14    587      147        592      562\n",
              "1       2     MIT LIB     52      265  12    410      158        258      241\n",
              "2       4     DPU LIB     15      214  14    150      852        752      125\n",
              "3       5     WPU LIB     35      145  58    140      963        952      126\n",
              "4       6    AISSMLIB     26      236  26    159      259        358      248\n",
              "5       7     NGP LIB     25      478  58    321      753        125      147\n",
              "6       8     AMT LIB     45      459  57    352      951        159      145\n",
              "7       9    SSD LIB      45      569  59    365      752        359      589\n",
              "8      10    ARYA LIB     12      458  25    258      925        256      458\n",
              "9      11  PHONIX LIB     10      478  69    147      442        154      785\n",
              "10     12      AM LIB     32      125  58    458      269        145      456\n",
              "11     13     ARNOLD      75      148  48    459      258        145      457\n",
              "12     14    AXON LIB     65      129  49    102      247        125      841\n",
              "13     15    NETWORK      42      357  47    301      147        452      962\n",
              "14     16       Clone     25      544  14    258      478        145      632\n",
              "15     17    Zoro LIB     24      145  45    247      458        752      523\n",
              "16     18   Cambridge     26      147  56    752      569        235      359\n",
              "17     19    Remo LIB     14      147  48    785      256        156      248\n",
              "18     20  Shamks LIB     15      247  69    145      236        248      145"
            ],
            "text/html": [
              "\n",
              "  <div id=\"df-aa6f1fec-0feb-48f1-a77b-3b823612c31f\">\n",
              "    <div class=\"colab-df-container\">\n",
              "      <div>\n",
              "<style scoped>\n",
              "    .dataframe tbody tr th:only-of-type {\n",
              "        vertical-align: middle;\n",
              "    }\n",
              "\n",
              "    .dataframe tbody tr th {\n",
              "        vertical-align: top;\n",
              "    }\n",
              "\n",
              "    .dataframe thead th {\n",
              "        text-align: right;\n",
              "    }\n",
              "</style>\n",
              "<table border=\"1\" class=\"dataframe\">\n",
              "  <thead>\n",
              "    <tr style=\"text-align: right;\">\n",
              "      <th></th>\n",
              "      <th>sr.no</th>\n",
              "      <th>Name</th>\n",
              "      <th>Novel</th>\n",
              "      <th>Science</th>\n",
              "      <th>GK</th>\n",
              "      <th>Maths</th>\n",
              "      <th>Journel</th>\n",
              "      <th>Litreture</th>\n",
              "      <th>fiction</th>\n",
              "    </tr>\n",
              "  </thead>\n",
              "  <tbody>\n",
              "    <tr>\n",
              "      <th>0</th>\n",
              "      <td>1</td>\n",
              "      <td>NutanLIB</td>\n",
              "      <td>54</td>\n",
              "      <td>254</td>\n",
              "      <td>14</td>\n",
              "      <td>587</td>\n",
              "      <td>147</td>\n",
              "      <td>592</td>\n",
              "      <td>562</td>\n",
              "    </tr>\n",
              "    <tr>\n",
              "      <th>1</th>\n",
              "      <td>2</td>\n",
              "      <td>MIT LIB</td>\n",
              "      <td>52</td>\n",
              "      <td>265</td>\n",
              "      <td>12</td>\n",
              "      <td>410</td>\n",
              "      <td>158</td>\n",
              "      <td>258</td>\n",
              "      <td>241</td>\n",
              "    </tr>\n",
              "    <tr>\n",
              "      <th>2</th>\n",
              "      <td>4</td>\n",
              "      <td>DPU LIB</td>\n",
              "      <td>15</td>\n",
              "      <td>214</td>\n",
              "      <td>14</td>\n",
              "      <td>150</td>\n",
              "      <td>852</td>\n",
              "      <td>752</td>\n",
              "      <td>125</td>\n",
              "    </tr>\n",
              "    <tr>\n",
              "      <th>3</th>\n",
              "      <td>5</td>\n",
              "      <td>WPU LIB</td>\n",
              "      <td>35</td>\n",
              "      <td>145</td>\n",
              "      <td>58</td>\n",
              "      <td>140</td>\n",
              "      <td>963</td>\n",
              "      <td>952</td>\n",
              "      <td>126</td>\n",
              "    </tr>\n",
              "    <tr>\n",
              "      <th>4</th>\n",
              "      <td>6</td>\n",
              "      <td>AISSMLIB</td>\n",
              "      <td>26</td>\n",
              "      <td>236</td>\n",
              "      <td>26</td>\n",
              "      <td>159</td>\n",
              "      <td>259</td>\n",
              "      <td>358</td>\n",
              "      <td>248</td>\n",
              "    </tr>\n",
              "    <tr>\n",
              "      <th>5</th>\n",
              "      <td>7</td>\n",
              "      <td>NGP LIB</td>\n",
              "      <td>25</td>\n",
              "      <td>478</td>\n",
              "      <td>58</td>\n",
              "      <td>321</td>\n",
              "      <td>753</td>\n",
              "      <td>125</td>\n",
              "      <td>147</td>\n",
              "    </tr>\n",
              "    <tr>\n",
              "      <th>6</th>\n",
              "      <td>8</td>\n",
              "      <td>AMT LIB</td>\n",
              "      <td>45</td>\n",
              "      <td>459</td>\n",
              "      <td>57</td>\n",
              "      <td>352</td>\n",
              "      <td>951</td>\n",
              "      <td>159</td>\n",
              "      <td>145</td>\n",
              "    </tr>\n",
              "    <tr>\n",
              "      <th>7</th>\n",
              "      <td>9</td>\n",
              "      <td>SSD LIB</td>\n",
              "      <td>45</td>\n",
              "      <td>569</td>\n",
              "      <td>59</td>\n",
              "      <td>365</td>\n",
              "      <td>752</td>\n",
              "      <td>359</td>\n",
              "      <td>589</td>\n",
              "    </tr>\n",
              "    <tr>\n",
              "      <th>8</th>\n",
              "      <td>10</td>\n",
              "      <td>ARYA LIB</td>\n",
              "      <td>12</td>\n",
              "      <td>458</td>\n",
              "      <td>25</td>\n",
              "      <td>258</td>\n",
              "      <td>925</td>\n",
              "      <td>256</td>\n",
              "      <td>458</td>\n",
              "    </tr>\n",
              "    <tr>\n",
              "      <th>9</th>\n",
              "      <td>11</td>\n",
              "      <td>PHONIX LIB</td>\n",
              "      <td>10</td>\n",
              "      <td>478</td>\n",
              "      <td>69</td>\n",
              "      <td>147</td>\n",
              "      <td>442</td>\n",
              "      <td>154</td>\n",
              "      <td>785</td>\n",
              "    </tr>\n",
              "    <tr>\n",
              "      <th>10</th>\n",
              "      <td>12</td>\n",
              "      <td>AM LIB</td>\n",
              "      <td>32</td>\n",
              "      <td>125</td>\n",
              "      <td>58</td>\n",
              "      <td>458</td>\n",
              "      <td>269</td>\n",
              "      <td>145</td>\n",
              "      <td>456</td>\n",
              "    </tr>\n",
              "    <tr>\n",
              "      <th>11</th>\n",
              "      <td>13</td>\n",
              "      <td>ARNOLD</td>\n",
              "      <td>75</td>\n",
              "      <td>148</td>\n",
              "      <td>48</td>\n",
              "      <td>459</td>\n",
              "      <td>258</td>\n",
              "      <td>145</td>\n",
              "      <td>457</td>\n",
              "    </tr>\n",
              "    <tr>\n",
              "      <th>12</th>\n",
              "      <td>14</td>\n",
              "      <td>AXON LIB</td>\n",
              "      <td>65</td>\n",
              "      <td>129</td>\n",
              "      <td>49</td>\n",
              "      <td>102</td>\n",
              "      <td>247</td>\n",
              "      <td>125</td>\n",
              "      <td>841</td>\n",
              "    </tr>\n",
              "    <tr>\n",
              "      <th>13</th>\n",
              "      <td>15</td>\n",
              "      <td>NETWORK</td>\n",
              "      <td>42</td>\n",
              "      <td>357</td>\n",
              "      <td>47</td>\n",
              "      <td>301</td>\n",
              "      <td>147</td>\n",
              "      <td>452</td>\n",
              "      <td>962</td>\n",
              "    </tr>\n",
              "    <tr>\n",
              "      <th>14</th>\n",
              "      <td>16</td>\n",
              "      <td>Clone</td>\n",
              "      <td>25</td>\n",
              "      <td>544</td>\n",
              "      <td>14</td>\n",
              "      <td>258</td>\n",
              "      <td>478</td>\n",
              "      <td>145</td>\n",
              "      <td>632</td>\n",
              "    </tr>\n",
              "    <tr>\n",
              "      <th>15</th>\n",
              "      <td>17</td>\n",
              "      <td>Zoro LIB</td>\n",
              "      <td>24</td>\n",
              "      <td>145</td>\n",
              "      <td>45</td>\n",
              "      <td>247</td>\n",
              "      <td>458</td>\n",
              "      <td>752</td>\n",
              "      <td>523</td>\n",
              "    </tr>\n",
              "    <tr>\n",
              "      <th>16</th>\n",
              "      <td>18</td>\n",
              "      <td>Cambridge</td>\n",
              "      <td>26</td>\n",
              "      <td>147</td>\n",
              "      <td>56</td>\n",
              "      <td>752</td>\n",
              "      <td>569</td>\n",
              "      <td>235</td>\n",
              "      <td>359</td>\n",
              "    </tr>\n",
              "    <tr>\n",
              "      <th>17</th>\n",
              "      <td>19</td>\n",
              "      <td>Remo LIB</td>\n",
              "      <td>14</td>\n",
              "      <td>147</td>\n",
              "      <td>48</td>\n",
              "      <td>785</td>\n",
              "      <td>256</td>\n",
              "      <td>156</td>\n",
              "      <td>248</td>\n",
              "    </tr>\n",
              "    <tr>\n",
              "      <th>18</th>\n",
              "      <td>20</td>\n",
              "      <td>Shamks LIB</td>\n",
              "      <td>15</td>\n",
              "      <td>247</td>\n",
              "      <td>69</td>\n",
              "      <td>145</td>\n",
              "      <td>236</td>\n",
              "      <td>248</td>\n",
              "      <td>145</td>\n",
              "    </tr>\n",
              "  </tbody>\n",
              "</table>\n",
              "</div>\n",
              "      <button class=\"colab-df-convert\" onclick=\"convertToInteractive('df-aa6f1fec-0feb-48f1-a77b-3b823612c31f')\"\n",
              "              title=\"Convert this dataframe to an interactive table.\"\n",
              "              style=\"display:none;\">\n",
              "        \n",
              "  <svg xmlns=\"http://www.w3.org/2000/svg\" height=\"24px\"viewBox=\"0 0 24 24\"\n",
              "       width=\"24px\">\n",
              "    <path d=\"M0 0h24v24H0V0z\" fill=\"none\"/>\n",
              "    <path d=\"M18.56 5.44l.94 2.06.94-2.06 2.06-.94-2.06-.94-.94-2.06-.94 2.06-2.06.94zm-11 1L8.5 8.5l.94-2.06 2.06-.94-2.06-.94L8.5 2.5l-.94 2.06-2.06.94zm10 10l.94 2.06.94-2.06 2.06-.94-2.06-.94-.94-2.06-.94 2.06-2.06.94z\"/><path d=\"M17.41 7.96l-1.37-1.37c-.4-.4-.92-.59-1.43-.59-.52 0-1.04.2-1.43.59L10.3 9.45l-7.72 7.72c-.78.78-.78 2.05 0 2.83L4 21.41c.39.39.9.59 1.41.59.51 0 1.02-.2 1.41-.59l7.78-7.78 2.81-2.81c.8-.78.8-2.07 0-2.86zM5.41 20L4 18.59l7.72-7.72 1.47 1.35L5.41 20z\"/>\n",
              "  </svg>\n",
              "      </button>\n",
              "      \n",
              "  <style>\n",
              "    .colab-df-container {\n",
              "      display:flex;\n",
              "      flex-wrap:wrap;\n",
              "      gap: 12px;\n",
              "    }\n",
              "\n",
              "    .colab-df-convert {\n",
              "      background-color: #E8F0FE;\n",
              "      border: none;\n",
              "      border-radius: 50%;\n",
              "      cursor: pointer;\n",
              "      display: none;\n",
              "      fill: #1967D2;\n",
              "      height: 32px;\n",
              "      padding: 0 0 0 0;\n",
              "      width: 32px;\n",
              "    }\n",
              "\n",
              "    .colab-df-convert:hover {\n",
              "      background-color: #E2EBFA;\n",
              "      box-shadow: 0px 1px 2px rgba(60, 64, 67, 0.3), 0px 1px 3px 1px rgba(60, 64, 67, 0.15);\n",
              "      fill: #174EA6;\n",
              "    }\n",
              "\n",
              "    [theme=dark] .colab-df-convert {\n",
              "      background-color: #3B4455;\n",
              "      fill: #D2E3FC;\n",
              "    }\n",
              "\n",
              "    [theme=dark] .colab-df-convert:hover {\n",
              "      background-color: #434B5C;\n",
              "      box-shadow: 0px 1px 3px 1px rgba(0, 0, 0, 0.15);\n",
              "      filter: drop-shadow(0px 1px 2px rgba(0, 0, 0, 0.3));\n",
              "      fill: #FFFFFF;\n",
              "    }\n",
              "  </style>\n",
              "\n",
              "      <script>\n",
              "        const buttonEl =\n",
              "          document.querySelector('#df-aa6f1fec-0feb-48f1-a77b-3b823612c31f button.colab-df-convert');\n",
              "        buttonEl.style.display =\n",
              "          google.colab.kernel.accessAllowed ? 'block' : 'none';\n",
              "\n",
              "        async function convertToInteractive(key) {\n",
              "          const element = document.querySelector('#df-aa6f1fec-0feb-48f1-a77b-3b823612c31f');\n",
              "          const dataTable =\n",
              "            await google.colab.kernel.invokeFunction('convertToInteractive',\n",
              "                                                     [key], {});\n",
              "          if (!dataTable) return;\n",
              "\n",
              "          const docLinkHtml = 'Like what you see? Visit the ' +\n",
              "            '<a target=\"_blank\" href=https://colab.research.google.com/notebooks/data_table.ipynb>data table notebook</a>'\n",
              "            + ' to learn more about interactive tables.';\n",
              "          element.innerHTML = '';\n",
              "          dataTable['output_type'] = 'display_data';\n",
              "          await google.colab.output.renderOutput(dataTable, element);\n",
              "          const docLink = document.createElement('div');\n",
              "          docLink.innerHTML = docLinkHtml;\n",
              "          element.appendChild(docLink);\n",
              "        }\n",
              "      </script>\n",
              "    </div>\n",
              "  </div>\n",
              "  "
            ]
          },
          "metadata": {}
        }
      ]
    },
    {
      "cell_type": "code",
      "source": [],
      "metadata": {
        "id": "HBRLkpdcYomZ"
      },
      "execution_count": null,
      "outputs": []
    },
    {
      "cell_type": "code",
      "source": [],
      "metadata": {
        "id": "r5fKBwi1KhTC"
      },
      "execution_count": null,
      "outputs": []
    },
    {
      "cell_type": "code",
      "source": [
        "import pandas as pd\n",
        "df1 = pd.read_csv('/content/310_eds.csv')\n",
        "df1.sort_values(by=[\"GK\"],ascending=True)"
      ],
      "metadata": {
        "id": "v1u5bwfWFBUx",
        "colab": {
          "base_uri": "https://localhost:8080/",
          "height": 645
        },
        "outputId": "dd3c68ef-39b3-4370-b4f7-d1d8d5fba7f1"
      },
      "execution_count": null,
      "outputs": [
        {
          "output_type": "execute_result",
          "data": {
            "text/plain": [
              "    sr.no       Name   Novel  Science  GK  Maths  Journel  Litreture  fiction\n",
              "1       2     MIT LIB     52      265  12    410      158        258      241\n",
              "0       1    NutanLIB     54      254  14    587      147        592      562\n",
              "2       4     DPU LIB     15      214  14    150      852        752      125\n",
              "14     16       Clone     25      544  14    258      478        145      632\n",
              "8      10    ARYA LIB     12      458  25    258      925        256      458\n",
              "4       6    AISSMLIB     26      236  26    159      259        358      248\n",
              "15     17    Zoro LIB     24      145  45    247      458        752      523\n",
              "13     15    NETWORK      42      357  47    301      147        452      962\n",
              "17     19    Remo LIB     14      147  48    785      256        156      248\n",
              "11     13     ARNOLD      75      148  48    459      258        145      457\n",
              "12     14    AXON LIB     65      129  49    102      247        125      841\n",
              "16     18   Cambridge     26      147  56    752      569        235      359\n",
              "6       8     AMT LIB     45      459  57    352      951        159      145\n",
              "5       7     NGP LIB     25      478  58    321      753        125      147\n",
              "10     12      AM LIB     32      125  58    458      269        145      456\n",
              "3       5     WPU LIB     35      145  58    140      963        952      126\n",
              "7       9    SSD LIB      45      569  59    365      752        359      589\n",
              "9      11  PHONIX LIB     10      478  69    147      442        154      785\n",
              "18     20  Shamks LIB     15      247  69    145      236        248      145"
            ],
            "text/html": [
              "\n",
              "  <div id=\"df-54b22a90-0f42-4633-b2d2-0e37d5d92cf1\">\n",
              "    <div class=\"colab-df-container\">\n",
              "      <div>\n",
              "<style scoped>\n",
              "    .dataframe tbody tr th:only-of-type {\n",
              "        vertical-align: middle;\n",
              "    }\n",
              "\n",
              "    .dataframe tbody tr th {\n",
              "        vertical-align: top;\n",
              "    }\n",
              "\n",
              "    .dataframe thead th {\n",
              "        text-align: right;\n",
              "    }\n",
              "</style>\n",
              "<table border=\"1\" class=\"dataframe\">\n",
              "  <thead>\n",
              "    <tr style=\"text-align: right;\">\n",
              "      <th></th>\n",
              "      <th>sr.no</th>\n",
              "      <th>Name</th>\n",
              "      <th>Novel</th>\n",
              "      <th>Science</th>\n",
              "      <th>GK</th>\n",
              "      <th>Maths</th>\n",
              "      <th>Journel</th>\n",
              "      <th>Litreture</th>\n",
              "      <th>fiction</th>\n",
              "    </tr>\n",
              "  </thead>\n",
              "  <tbody>\n",
              "    <tr>\n",
              "      <th>1</th>\n",
              "      <td>2</td>\n",
              "      <td>MIT LIB</td>\n",
              "      <td>52</td>\n",
              "      <td>265</td>\n",
              "      <td>12</td>\n",
              "      <td>410</td>\n",
              "      <td>158</td>\n",
              "      <td>258</td>\n",
              "      <td>241</td>\n",
              "    </tr>\n",
              "    <tr>\n",
              "      <th>0</th>\n",
              "      <td>1</td>\n",
              "      <td>NutanLIB</td>\n",
              "      <td>54</td>\n",
              "      <td>254</td>\n",
              "      <td>14</td>\n",
              "      <td>587</td>\n",
              "      <td>147</td>\n",
              "      <td>592</td>\n",
              "      <td>562</td>\n",
              "    </tr>\n",
              "    <tr>\n",
              "      <th>2</th>\n",
              "      <td>4</td>\n",
              "      <td>DPU LIB</td>\n",
              "      <td>15</td>\n",
              "      <td>214</td>\n",
              "      <td>14</td>\n",
              "      <td>150</td>\n",
              "      <td>852</td>\n",
              "      <td>752</td>\n",
              "      <td>125</td>\n",
              "    </tr>\n",
              "    <tr>\n",
              "      <th>14</th>\n",
              "      <td>16</td>\n",
              "      <td>Clone</td>\n",
              "      <td>25</td>\n",
              "      <td>544</td>\n",
              "      <td>14</td>\n",
              "      <td>258</td>\n",
              "      <td>478</td>\n",
              "      <td>145</td>\n",
              "      <td>632</td>\n",
              "    </tr>\n",
              "    <tr>\n",
              "      <th>8</th>\n",
              "      <td>10</td>\n",
              "      <td>ARYA LIB</td>\n",
              "      <td>12</td>\n",
              "      <td>458</td>\n",
              "      <td>25</td>\n",
              "      <td>258</td>\n",
              "      <td>925</td>\n",
              "      <td>256</td>\n",
              "      <td>458</td>\n",
              "    </tr>\n",
              "    <tr>\n",
              "      <th>4</th>\n",
              "      <td>6</td>\n",
              "      <td>AISSMLIB</td>\n",
              "      <td>26</td>\n",
              "      <td>236</td>\n",
              "      <td>26</td>\n",
              "      <td>159</td>\n",
              "      <td>259</td>\n",
              "      <td>358</td>\n",
              "      <td>248</td>\n",
              "    </tr>\n",
              "    <tr>\n",
              "      <th>15</th>\n",
              "      <td>17</td>\n",
              "      <td>Zoro LIB</td>\n",
              "      <td>24</td>\n",
              "      <td>145</td>\n",
              "      <td>45</td>\n",
              "      <td>247</td>\n",
              "      <td>458</td>\n",
              "      <td>752</td>\n",
              "      <td>523</td>\n",
              "    </tr>\n",
              "    <tr>\n",
              "      <th>13</th>\n",
              "      <td>15</td>\n",
              "      <td>NETWORK</td>\n",
              "      <td>42</td>\n",
              "      <td>357</td>\n",
              "      <td>47</td>\n",
              "      <td>301</td>\n",
              "      <td>147</td>\n",
              "      <td>452</td>\n",
              "      <td>962</td>\n",
              "    </tr>\n",
              "    <tr>\n",
              "      <th>17</th>\n",
              "      <td>19</td>\n",
              "      <td>Remo LIB</td>\n",
              "      <td>14</td>\n",
              "      <td>147</td>\n",
              "      <td>48</td>\n",
              "      <td>785</td>\n",
              "      <td>256</td>\n",
              "      <td>156</td>\n",
              "      <td>248</td>\n",
              "    </tr>\n",
              "    <tr>\n",
              "      <th>11</th>\n",
              "      <td>13</td>\n",
              "      <td>ARNOLD</td>\n",
              "      <td>75</td>\n",
              "      <td>148</td>\n",
              "      <td>48</td>\n",
              "      <td>459</td>\n",
              "      <td>258</td>\n",
              "      <td>145</td>\n",
              "      <td>457</td>\n",
              "    </tr>\n",
              "    <tr>\n",
              "      <th>12</th>\n",
              "      <td>14</td>\n",
              "      <td>AXON LIB</td>\n",
              "      <td>65</td>\n",
              "      <td>129</td>\n",
              "      <td>49</td>\n",
              "      <td>102</td>\n",
              "      <td>247</td>\n",
              "      <td>125</td>\n",
              "      <td>841</td>\n",
              "    </tr>\n",
              "    <tr>\n",
              "      <th>16</th>\n",
              "      <td>18</td>\n",
              "      <td>Cambridge</td>\n",
              "      <td>26</td>\n",
              "      <td>147</td>\n",
              "      <td>56</td>\n",
              "      <td>752</td>\n",
              "      <td>569</td>\n",
              "      <td>235</td>\n",
              "      <td>359</td>\n",
              "    </tr>\n",
              "    <tr>\n",
              "      <th>6</th>\n",
              "      <td>8</td>\n",
              "      <td>AMT LIB</td>\n",
              "      <td>45</td>\n",
              "      <td>459</td>\n",
              "      <td>57</td>\n",
              "      <td>352</td>\n",
              "      <td>951</td>\n",
              "      <td>159</td>\n",
              "      <td>145</td>\n",
              "    </tr>\n",
              "    <tr>\n",
              "      <th>5</th>\n",
              "      <td>7</td>\n",
              "      <td>NGP LIB</td>\n",
              "      <td>25</td>\n",
              "      <td>478</td>\n",
              "      <td>58</td>\n",
              "      <td>321</td>\n",
              "      <td>753</td>\n",
              "      <td>125</td>\n",
              "      <td>147</td>\n",
              "    </tr>\n",
              "    <tr>\n",
              "      <th>10</th>\n",
              "      <td>12</td>\n",
              "      <td>AM LIB</td>\n",
              "      <td>32</td>\n",
              "      <td>125</td>\n",
              "      <td>58</td>\n",
              "      <td>458</td>\n",
              "      <td>269</td>\n",
              "      <td>145</td>\n",
              "      <td>456</td>\n",
              "    </tr>\n",
              "    <tr>\n",
              "      <th>3</th>\n",
              "      <td>5</td>\n",
              "      <td>WPU LIB</td>\n",
              "      <td>35</td>\n",
              "      <td>145</td>\n",
              "      <td>58</td>\n",
              "      <td>140</td>\n",
              "      <td>963</td>\n",
              "      <td>952</td>\n",
              "      <td>126</td>\n",
              "    </tr>\n",
              "    <tr>\n",
              "      <th>7</th>\n",
              "      <td>9</td>\n",
              "      <td>SSD LIB</td>\n",
              "      <td>45</td>\n",
              "      <td>569</td>\n",
              "      <td>59</td>\n",
              "      <td>365</td>\n",
              "      <td>752</td>\n",
              "      <td>359</td>\n",
              "      <td>589</td>\n",
              "    </tr>\n",
              "    <tr>\n",
              "      <th>9</th>\n",
              "      <td>11</td>\n",
              "      <td>PHONIX LIB</td>\n",
              "      <td>10</td>\n",
              "      <td>478</td>\n",
              "      <td>69</td>\n",
              "      <td>147</td>\n",
              "      <td>442</td>\n",
              "      <td>154</td>\n",
              "      <td>785</td>\n",
              "    </tr>\n",
              "    <tr>\n",
              "      <th>18</th>\n",
              "      <td>20</td>\n",
              "      <td>Shamks LIB</td>\n",
              "      <td>15</td>\n",
              "      <td>247</td>\n",
              "      <td>69</td>\n",
              "      <td>145</td>\n",
              "      <td>236</td>\n",
              "      <td>248</td>\n",
              "      <td>145</td>\n",
              "    </tr>\n",
              "  </tbody>\n",
              "</table>\n",
              "</div>\n",
              "      <button class=\"colab-df-convert\" onclick=\"convertToInteractive('df-54b22a90-0f42-4633-b2d2-0e37d5d92cf1')\"\n",
              "              title=\"Convert this dataframe to an interactive table.\"\n",
              "              style=\"display:none;\">\n",
              "        \n",
              "  <svg xmlns=\"http://www.w3.org/2000/svg\" height=\"24px\"viewBox=\"0 0 24 24\"\n",
              "       width=\"24px\">\n",
              "    <path d=\"M0 0h24v24H0V0z\" fill=\"none\"/>\n",
              "    <path d=\"M18.56 5.44l.94 2.06.94-2.06 2.06-.94-2.06-.94-.94-2.06-.94 2.06-2.06.94zm-11 1L8.5 8.5l.94-2.06 2.06-.94-2.06-.94L8.5 2.5l-.94 2.06-2.06.94zm10 10l.94 2.06.94-2.06 2.06-.94-2.06-.94-.94-2.06-.94 2.06-2.06.94z\"/><path d=\"M17.41 7.96l-1.37-1.37c-.4-.4-.92-.59-1.43-.59-.52 0-1.04.2-1.43.59L10.3 9.45l-7.72 7.72c-.78.78-.78 2.05 0 2.83L4 21.41c.39.39.9.59 1.41.59.51 0 1.02-.2 1.41-.59l7.78-7.78 2.81-2.81c.8-.78.8-2.07 0-2.86zM5.41 20L4 18.59l7.72-7.72 1.47 1.35L5.41 20z\"/>\n",
              "  </svg>\n",
              "      </button>\n",
              "      \n",
              "  <style>\n",
              "    .colab-df-container {\n",
              "      display:flex;\n",
              "      flex-wrap:wrap;\n",
              "      gap: 12px;\n",
              "    }\n",
              "\n",
              "    .colab-df-convert {\n",
              "      background-color: #E8F0FE;\n",
              "      border: none;\n",
              "      border-radius: 50%;\n",
              "      cursor: pointer;\n",
              "      display: none;\n",
              "      fill: #1967D2;\n",
              "      height: 32px;\n",
              "      padding: 0 0 0 0;\n",
              "      width: 32px;\n",
              "    }\n",
              "\n",
              "    .colab-df-convert:hover {\n",
              "      background-color: #E2EBFA;\n",
              "      box-shadow: 0px 1px 2px rgba(60, 64, 67, 0.3), 0px 1px 3px 1px rgba(60, 64, 67, 0.15);\n",
              "      fill: #174EA6;\n",
              "    }\n",
              "\n",
              "    [theme=dark] .colab-df-convert {\n",
              "      background-color: #3B4455;\n",
              "      fill: #D2E3FC;\n",
              "    }\n",
              "\n",
              "    [theme=dark] .colab-df-convert:hover {\n",
              "      background-color: #434B5C;\n",
              "      box-shadow: 0px 1px 3px 1px rgba(0, 0, 0, 0.15);\n",
              "      filter: drop-shadow(0px 1px 2px rgba(0, 0, 0, 0.3));\n",
              "      fill: #FFFFFF;\n",
              "    }\n",
              "  </style>\n",
              "\n",
              "      <script>\n",
              "        const buttonEl =\n",
              "          document.querySelector('#df-54b22a90-0f42-4633-b2d2-0e37d5d92cf1 button.colab-df-convert');\n",
              "        buttonEl.style.display =\n",
              "          google.colab.kernel.accessAllowed ? 'block' : 'none';\n",
              "\n",
              "        async function convertToInteractive(key) {\n",
              "          const element = document.querySelector('#df-54b22a90-0f42-4633-b2d2-0e37d5d92cf1');\n",
              "          const dataTable =\n",
              "            await google.colab.kernel.invokeFunction('convertToInteractive',\n",
              "                                                     [key], {});\n",
              "          if (!dataTable) return;\n",
              "\n",
              "          const docLinkHtml = 'Like what you see? Visit the ' +\n",
              "            '<a target=\"_blank\" href=https://colab.research.google.com/notebooks/data_table.ipynb>data table notebook</a>'\n",
              "            + ' to learn more about interactive tables.';\n",
              "          element.innerHTML = '';\n",
              "          dataTable['output_type'] = 'display_data';\n",
              "          await google.colab.output.renderOutput(dataTable, element);\n",
              "          const docLink = document.createElement('div');\n",
              "          docLink.innerHTML = docLinkHtml;\n",
              "          element.appendChild(docLink);\n",
              "        }\n",
              "      </script>\n",
              "    </div>\n",
              "  </div>\n",
              "  "
            ]
          },
          "metadata": {},
          "execution_count": 8
        }
      ]
    },
    {
      "cell_type": "code",
      "source": [
        "import pandas as pd\n",
        "df1 = pd.read_csv('/content/310_eds.csv')\n",
        "l1 = df1['sr.no'].tolist()\n",
        "l2 = df1['Name'].tolist()\n",
        "l3 = df1 ['Novel'].tolist()\n",
        "l4 = df1 ['Science'].tolist()\n",
        "l5 = df1 ['GK'].tolist()\n",
        "l6 = df1 ['Maths'].tolist()\n",
        "l7 = df1 ['Journel'].tolist()\n",
        "l8 = df1 ['litreture'].tolist()\n",
        "l9 = df1 ['fiction'].tolist()\n",
        "\n",
        "l10 = l1+l2+l3+l4+l5+l6+l7+l8+l9\n",
        "print(l10)"
      ],
      "metadata": {
        "colab": {
          "base_uri": "https://localhost:8080/",
          "height": 501
        },
        "id": "TharsdHpKvvw",
        "outputId": "82d32ceb-83b6-4586-b376-70ed293c8115"
      },
      "execution_count": null,
      "outputs": [
        {
          "output_type": "error",
          "ename": "KeyError",
          "evalue": "ignored",
          "traceback": [
            "\u001b[0;31m---------------------------------------------------------------------------\u001b[0m",
            "\u001b[0;31mKeyError\u001b[0m                                  Traceback (most recent call last)",
            "\u001b[0;32m/usr/local/lib/python3.10/dist-packages/pandas/core/indexes/base.py\u001b[0m in \u001b[0;36mget_loc\u001b[0;34m(self, key, method, tolerance)\u001b[0m\n\u001b[1;32m   3801\u001b[0m             \u001b[0;32mtry\u001b[0m\u001b[0;34m:\u001b[0m\u001b[0;34m\u001b[0m\u001b[0;34m\u001b[0m\u001b[0m\n\u001b[0;32m-> 3802\u001b[0;31m                 \u001b[0;32mreturn\u001b[0m \u001b[0mself\u001b[0m\u001b[0;34m.\u001b[0m\u001b[0m_engine\u001b[0m\u001b[0;34m.\u001b[0m\u001b[0mget_loc\u001b[0m\u001b[0;34m(\u001b[0m\u001b[0mcasted_key\u001b[0m\u001b[0;34m)\u001b[0m\u001b[0;34m\u001b[0m\u001b[0;34m\u001b[0m\u001b[0m\n\u001b[0m\u001b[1;32m   3803\u001b[0m             \u001b[0;32mexcept\u001b[0m \u001b[0mKeyError\u001b[0m \u001b[0;32mas\u001b[0m \u001b[0merr\u001b[0m\u001b[0;34m:\u001b[0m\u001b[0;34m\u001b[0m\u001b[0;34m\u001b[0m\u001b[0m\n",
            "\u001b[0;32m/usr/local/lib/python3.10/dist-packages/pandas/_libs/index.pyx\u001b[0m in \u001b[0;36mpandas._libs.index.IndexEngine.get_loc\u001b[0;34m()\u001b[0m\n",
            "\u001b[0;32m/usr/local/lib/python3.10/dist-packages/pandas/_libs/index.pyx\u001b[0m in \u001b[0;36mpandas._libs.index.IndexEngine.get_loc\u001b[0;34m()\u001b[0m\n",
            "\u001b[0;32mpandas/_libs/hashtable_class_helper.pxi\u001b[0m in \u001b[0;36mpandas._libs.hashtable.PyObjectHashTable.get_item\u001b[0;34m()\u001b[0m\n",
            "\u001b[0;32mpandas/_libs/hashtable_class_helper.pxi\u001b[0m in \u001b[0;36mpandas._libs.hashtable.PyObjectHashTable.get_item\u001b[0;34m()\u001b[0m\n",
            "\u001b[0;31mKeyError\u001b[0m: 'Name'",
            "\nThe above exception was the direct cause of the following exception:\n",
            "\u001b[0;31mKeyError\u001b[0m                                  Traceback (most recent call last)",
            "\u001b[0;32m<ipython-input-29-649311089325>\u001b[0m in \u001b[0;36m<cell line: 4>\u001b[0;34m()\u001b[0m\n\u001b[1;32m      2\u001b[0m \u001b[0mdf1\u001b[0m \u001b[0;34m=\u001b[0m \u001b[0mpd\u001b[0m\u001b[0;34m.\u001b[0m\u001b[0mread_csv\u001b[0m\u001b[0;34m(\u001b[0m\u001b[0;34m'/content/310_eds.csv'\u001b[0m\u001b[0;34m)\u001b[0m\u001b[0;34m\u001b[0m\u001b[0;34m\u001b[0m\u001b[0m\n\u001b[1;32m      3\u001b[0m \u001b[0ml1\u001b[0m \u001b[0;34m=\u001b[0m \u001b[0mdf1\u001b[0m\u001b[0;34m[\u001b[0m\u001b[0;34m'sr.no'\u001b[0m\u001b[0;34m]\u001b[0m\u001b[0;34m.\u001b[0m\u001b[0mtolist\u001b[0m\u001b[0;34m(\u001b[0m\u001b[0;34m)\u001b[0m\u001b[0;34m\u001b[0m\u001b[0;34m\u001b[0m\u001b[0m\n\u001b[0;32m----> 4\u001b[0;31m \u001b[0ml2\u001b[0m \u001b[0;34m=\u001b[0m \u001b[0mdf1\u001b[0m\u001b[0;34m[\u001b[0m\u001b[0;34m'Name'\u001b[0m\u001b[0;34m]\u001b[0m\u001b[0;34m.\u001b[0m\u001b[0mtolist\u001b[0m\u001b[0;34m(\u001b[0m\u001b[0;34m)\u001b[0m\u001b[0;34m\u001b[0m\u001b[0;34m\u001b[0m\u001b[0m\n\u001b[0m\u001b[1;32m      5\u001b[0m \u001b[0ml3\u001b[0m \u001b[0;34m=\u001b[0m \u001b[0mdf1\u001b[0m \u001b[0;34m[\u001b[0m\u001b[0;34m'Novel'\u001b[0m\u001b[0;34m]\u001b[0m\u001b[0;34m.\u001b[0m\u001b[0mtolist\u001b[0m\u001b[0;34m(\u001b[0m\u001b[0;34m)\u001b[0m\u001b[0;34m\u001b[0m\u001b[0;34m\u001b[0m\u001b[0m\n\u001b[1;32m      6\u001b[0m \u001b[0ml4\u001b[0m \u001b[0;34m=\u001b[0m \u001b[0mdf1\u001b[0m \u001b[0;34m[\u001b[0m\u001b[0;34m'Science'\u001b[0m\u001b[0;34m]\u001b[0m\u001b[0;34m.\u001b[0m\u001b[0mtolist\u001b[0m\u001b[0;34m(\u001b[0m\u001b[0;34m)\u001b[0m\u001b[0;34m\u001b[0m\u001b[0;34m\u001b[0m\u001b[0m\n",
            "\u001b[0;32m/usr/local/lib/python3.10/dist-packages/pandas/core/frame.py\u001b[0m in \u001b[0;36m__getitem__\u001b[0;34m(self, key)\u001b[0m\n\u001b[1;32m   3805\u001b[0m             \u001b[0;32mif\u001b[0m \u001b[0mself\u001b[0m\u001b[0;34m.\u001b[0m\u001b[0mcolumns\u001b[0m\u001b[0;34m.\u001b[0m\u001b[0mnlevels\u001b[0m \u001b[0;34m>\u001b[0m \u001b[0;36m1\u001b[0m\u001b[0;34m:\u001b[0m\u001b[0;34m\u001b[0m\u001b[0;34m\u001b[0m\u001b[0m\n\u001b[1;32m   3806\u001b[0m                 \u001b[0;32mreturn\u001b[0m \u001b[0mself\u001b[0m\u001b[0;34m.\u001b[0m\u001b[0m_getitem_multilevel\u001b[0m\u001b[0;34m(\u001b[0m\u001b[0mkey\u001b[0m\u001b[0;34m)\u001b[0m\u001b[0;34m\u001b[0m\u001b[0;34m\u001b[0m\u001b[0m\n\u001b[0;32m-> 3807\u001b[0;31m             \u001b[0mindexer\u001b[0m \u001b[0;34m=\u001b[0m \u001b[0mself\u001b[0m\u001b[0;34m.\u001b[0m\u001b[0mcolumns\u001b[0m\u001b[0;34m.\u001b[0m\u001b[0mget_loc\u001b[0m\u001b[0;34m(\u001b[0m\u001b[0mkey\u001b[0m\u001b[0;34m)\u001b[0m\u001b[0;34m\u001b[0m\u001b[0;34m\u001b[0m\u001b[0m\n\u001b[0m\u001b[1;32m   3808\u001b[0m             \u001b[0;32mif\u001b[0m \u001b[0mis_integer\u001b[0m\u001b[0;34m(\u001b[0m\u001b[0mindexer\u001b[0m\u001b[0;34m)\u001b[0m\u001b[0;34m:\u001b[0m\u001b[0;34m\u001b[0m\u001b[0;34m\u001b[0m\u001b[0m\n\u001b[1;32m   3809\u001b[0m                 \u001b[0mindexer\u001b[0m \u001b[0;34m=\u001b[0m \u001b[0;34m[\u001b[0m\u001b[0mindexer\u001b[0m\u001b[0;34m]\u001b[0m\u001b[0;34m\u001b[0m\u001b[0;34m\u001b[0m\u001b[0m\n",
            "\u001b[0;32m/usr/local/lib/python3.10/dist-packages/pandas/core/indexes/base.py\u001b[0m in \u001b[0;36mget_loc\u001b[0;34m(self, key, method, tolerance)\u001b[0m\n\u001b[1;32m   3802\u001b[0m                 \u001b[0;32mreturn\u001b[0m \u001b[0mself\u001b[0m\u001b[0;34m.\u001b[0m\u001b[0m_engine\u001b[0m\u001b[0;34m.\u001b[0m\u001b[0mget_loc\u001b[0m\u001b[0;34m(\u001b[0m\u001b[0mcasted_key\u001b[0m\u001b[0;34m)\u001b[0m\u001b[0;34m\u001b[0m\u001b[0;34m\u001b[0m\u001b[0m\n\u001b[1;32m   3803\u001b[0m             \u001b[0;32mexcept\u001b[0m \u001b[0mKeyError\u001b[0m \u001b[0;32mas\u001b[0m \u001b[0merr\u001b[0m\u001b[0;34m:\u001b[0m\u001b[0;34m\u001b[0m\u001b[0;34m\u001b[0m\u001b[0m\n\u001b[0;32m-> 3804\u001b[0;31m                 \u001b[0;32mraise\u001b[0m \u001b[0mKeyError\u001b[0m\u001b[0;34m(\u001b[0m\u001b[0mkey\u001b[0m\u001b[0;34m)\u001b[0m \u001b[0;32mfrom\u001b[0m \u001b[0merr\u001b[0m\u001b[0;34m\u001b[0m\u001b[0;34m\u001b[0m\u001b[0m\n\u001b[0m\u001b[1;32m   3805\u001b[0m             \u001b[0;32mexcept\u001b[0m \u001b[0mTypeError\u001b[0m\u001b[0;34m:\u001b[0m\u001b[0;34m\u001b[0m\u001b[0;34m\u001b[0m\u001b[0m\n\u001b[1;32m   3806\u001b[0m                 \u001b[0;31m# If we have a listlike key, _check_indexing_error will raise\u001b[0m\u001b[0;34m\u001b[0m\u001b[0;34m\u001b[0m\u001b[0m\n",
            "\u001b[0;31mKeyError\u001b[0m: 'Name'"
          ]
        }
      ]
    },
    {
      "cell_type": "markdown",
      "source": [
        "# New Section"
      ],
      "metadata": {
        "id": "J_tZdu3YBu6z"
      }
    },
    {
      "cell_type": "code",
      "execution_count": null,
      "metadata": {
        "colab": {
          "base_uri": "https://localhost:8080/"
        },
        "id": "K7eMmrC7TQNK",
        "outputId": "ae8c1d23-b090-4574-8f3d-ad375932e753"
      },
      "outputs": [
        {
          "name": "stdout",
          "output_type": "stream",
          "text": [
            "What is the weather today?Sunny\n",
            "It is a great day to go for a picnic!\n"
          ]
        }
      ],
      "source": [
        "weather=input(\"What is the weather today?\")\n",
        "if weather ==\"Sunny\":\n",
        "  print(\"It is a great day to go for a picnic!\")\n"
      ]
    },
    {
      "cell_type": "code",
      "execution_count": null,
      "metadata": {
        "colab": {
          "base_uri": "https://localhost:8080/"
        },
        "id": "wILi_LOgN2EK",
        "outputId": "18a3a74f-d4e9-429d-90cc-c4e1686c95b7"
      },
      "outputs": [
        {
          "name": "stdout",
          "output_type": "stream",
          "text": [
            "What is the weather today?Rainy\n",
            "Remember to bring an umbrella!\n"
          ]
        }
      ],
      "source": [
        "weather = input(\"What is the weather today?\")\n",
        "if weather == \"Sunny\":\n",
        "  print(\"It is a great day to go for picnic!\")\n",
        "elif weather ==\"Cloudy\":\n",
        "  print(\"Don't forget to bring a jacket in case it rains.\")\n",
        "elif weather == \"Rainy\":\n",
        "  print(\"Remember to bring an umbrella!\")\n",
        "else:\n",
        "  print(\"Sorry,I don't understand that weather condition.\")"
      ]
    },
    {
      "cell_type": "code",
      "execution_count": null,
      "metadata": {
        "colab": {
          "base_uri": "https://localhost:8080/"
        },
        "id": "EOO6WvKOPfaU",
        "outputId": "2adedbc9-a72c-442b-9732-d02ecea31cc3"
      },
      "outputs": [
        {
          "name": "stdout",
          "output_type": "stream",
          "text": [
            "Welcome\n",
            "Welcome\n",
            "Welcome\n",
            "Welcome\n",
            "Welcome\n",
            "Welcome\n",
            "Welcome\n",
            "Welcome\n",
            "Welcome\n",
            "Enter a value \n",
            "10\n",
            "Sum 15\n",
            "loop refers to book C++\n",
            "loop refers to book Java\n",
            "loop refers to book Python\n",
            "loop refers to book 21\n",
            "loop refers to book 45.78\n"
          ]
        }
      ],
      "source": [
        "i=1\n",
        "while i<10:\n",
        "  print(\"Welcome\")\n",
        "  i=i+1\n",
        "\n",
        "print(\"Enter a value \")\n",
        "num = int(input())\n",
        "sum=0\n",
        "i=1\n",
        "while i<num:\n",
        "  sum = sum + i\n",
        "  i=i+i\n",
        "print(\"Sum\",sum)\n",
        "# for loop\n",
        "l1 = [\"C++\",\"Java\",\"Python\",21,45.78]\n",
        "for i in l1:\n",
        "  print(\"loop refers to book\",i)"
      ]
    },
    {
      "cell_type": "code",
      "execution_count": null,
      "metadata": {
        "colab": {
          "base_uri": "https://localhost:8080/"
        },
        "id": "uHyx4YXUIGcO",
        "outputId": "73b77192-c5de-4aa2-f1df-947ca8eaabbd"
      },
      "outputs": [
        {
          "name": "stdout",
          "output_type": "stream",
          "text": [
            "Welcome to python\n",
            "Enter a number\n",
            "56\n",
            "56 is even\n"
          ]
        }
      ],
      "source": [
        "def sayHello():\n",
        "  print(\"Welcome to python\")\n",
        "sayHello()\n",
        "def even():\n",
        "      print(\"Enter a number\")\n",
        "      num=int(input())\n",
        "      if(num%2==0):\n",
        "        print(num,\"is even\")\n",
        "      else:\n",
        "        print(num,\"is odd\")\n",
        "even()"
      ]
    },
    {
      "cell_type": "code",
      "execution_count": null,
      "metadata": {
        "colab": {
          "base_uri": "https://localhost:8080/"
        },
        "id": "NqdXF0MwNEwb",
        "outputId": "0b6e6792-2be5-4099-f09a-c002a0526dad"
      },
      "outputs": [
        {
          "name": "stdout",
          "output_type": "stream",
          "text": [
            "<class 'int'>\n",
            "<class 'bool'>\n",
            "<class 'float'>\n",
            "<class 'list'>\n",
            "15\n",
            "False\n",
            "False\n",
            "True\n",
            "False\n",
            "False\n"
          ]
        }
      ],
      "source": [
        "a=10\n",
        "b=True\n",
        "c=16.55\n",
        "d=[10,20,30]\n",
        "print(type(a))\n",
        "print(type(b))\n",
        "print(type(c))\n",
        "print(type(d))\n",
        "print(abs(15))\n",
        "l1=[\"\",\"\",\"\"]\n",
        "l2=[\"a\",\"\",\"\"]\n",
        "l3=[True,True]\n",
        "l4=[True,False]\n",
        "l5=[False,False]\n",
        "print(all(l1))\n",
        "print(all(l2))\n",
        "print(all(l3))\n",
        "print(all(l4))\n",
        "print(all(l5))\n",
        "\n",
        "\n"
      ]
    },
    {
      "cell_type": "code",
      "execution_count": null,
      "metadata": {
        "colab": {
          "base_uri": "https://localhost:8080/"
        },
        "id": "drwf6vK2Oapl",
        "outputId": "c7f89a93-d695-40a1-905c-09679dd486b6"
      },
      "outputs": [
        {
          "name": "stdout",
          "output_type": "stream",
          "text": [
            "True\n",
            "True\n",
            "False\n",
            "False\n"
          ]
        }
      ],
      "source": [
        "print(callable(type))\n",
        "print(callable(all))\n",
        "print(callable([10,20,30]))\n",
        "print(callable('Python'))"
      ]
    },
    {
      "cell_type": "code",
      "execution_count": null,
      "metadata": {
        "colab": {
          "base_uri": "https://localhost:8080/"
        },
        "id": "gzeGaH5-TX3t",
        "outputId": "b123f88e-3b43-4442-b684-b21004f77c55"
      },
      "outputs": [
        {
          "name": "stdout",
          "output_type": "stream",
          "text": [
            "True\n",
            "False\n",
            "True\n",
            "False\n",
            "False\n"
          ]
        }
      ],
      "source": [
        "l1=['a','b','c',12,21.34]\n",
        "l2=['a','','']\n",
        "l3=[True,True]\n",
        "l4=[True,False]\n",
        "l5=[False,False]\n",
        "a=all(l1)\n",
        "b=all(l2)\n",
        "c=all(l3)\n",
        "d=all(l4)\n",
        "e=all(l5)\n",
        "print(a)\n",
        "print(b)\n",
        "print(c)\n",
        "print(d)\n",
        "print(e)\n",
        "\n"
      ]
    },
    {
      "cell_type": "code",
      "execution_count": null,
      "metadata": {
        "colab": {
          "base_uri": "https://localhost:8080/"
        },
        "id": "WomPfEFcUxyH",
        "outputId": "16deb371-2053-423d-f74a-d9081d3a7f0c"
      },
      "outputs": [
        {
          "name": "stdout",
          "output_type": "stream",
          "text": [
            "[10, 20, 'Python', 94.2, 314, 21]\n"
          ]
        }
      ],
      "source": [
        "l1=[10,20,\"Python\",94.2,314]\n",
        "l1.append(21)\n",
        "print(l1)"
      ]
    },
    {
      "cell_type": "code",
      "execution_count": null,
      "metadata": {
        "colab": {
          "base_uri": "https://localhost:8080/"
        },
        "id": "TE9mZCs8VGs1",
        "outputId": "355ced30-53e4-44e2-b0e2-ec30d64ab8f3"
      },
      "outputs": [
        {
          "name": "stdout",
          "output_type": "stream",
          "text": [
            "['Python', 'Java', 'Essentials of data science']\n",
            "['Python', 'Java', 'Hadoop', 'Essentials of data science']\n"
          ]
        }
      ],
      "source": [
        "l1 = [\"Python\",\"Java\",\"Essentials of data science\"]\n",
        "print(l1)\n",
        "l1.insert(2,\"Hadoop\")\n",
        "print(l1)"
      ]
    },
    {
      "cell_type": "code",
      "execution_count": null,
      "metadata": {
        "colab": {
          "base_uri": "https://localhost:8080/"
        },
        "id": "snvprOMPWXVi",
        "outputId": "85010e23-11d9-4533-8d4e-b7a436377c77"
      },
      "outputs": [
        {
          "name": "stdout",
          "output_type": "stream",
          "text": [
            "[10, 20, 30, 15, 35, 45, 55]\n"
          ]
        }
      ],
      "source": [
        "l1=[10,20,30]\n",
        "l2=[15,35,45,55]\n",
        "l1.extend(l2)\n",
        "print(l1)"
      ]
    },
    {
      "cell_type": "code",
      "execution_count": null,
      "metadata": {
        "colab": {
          "base_uri": "https://localhost:8080/"
        },
        "id": "qj9Pqi6NW46F",
        "outputId": "bcd7c99a-5cbc-448a-86e8-86764fc9a6e6"
      },
      "outputs": [
        {
          "name": "stdout",
          "output_type": "stream",
          "text": [
            "4\n"
          ]
        }
      ],
      "source": [
        "l1=[485,21.344,\"Python\",25678]\n",
        "a = l1.__len__()\n",
        "print(a)"
      ]
    },
    {
      "cell_type": "code",
      "execution_count": null,
      "metadata": {
        "colab": {
          "base_uri": "https://localhost:8080/"
        },
        "id": "Y2ZRhWsEUWIv",
        "outputId": "ef565ac4-c0b6-406a-f451-228ecc90d3d3"
      },
      "outputs": [
        {
          "name": "stdout",
          "output_type": "stream",
          "text": [
            "    Sr no.  Employee ID          Employee Name Date of birth  Age\n",
            "0        1         1001             Baki Hanma    1999-05-11   24\n",
            "1        2         1002           Yujiro Hanma    2004-02-29   18\n",
            "2        3         1003        Monkey D. Luffy    1976-05-12   47\n",
            "3        4         1004         Monkey D. Garp    1983-07-15   40\n",
            "4        5         1005          Trafalgar Law    1999-10-26   24\n",
            "5        6         1006             Alva Morte    2002-09-21   21\n",
            "6        7         1007       Miyamoto Musashi    1998-07-16   25\n",
            "7        8         1008         Shinmen Takezo    1989-07-18   34\n",
            "8        9         1009  Christopher Fernandez    2000-12-31   23\n",
            "9       10         1010            Virat Kohli    1994-06-08   29\n",
            "10      11         1011           Rohit Sharma    1968-07-03   55\n",
            "11      12         1012              John Wick    2004-02-20   18\n",
            "12      13         1013      Robert Downey Jr.    2004-06-30   18\n",
            "13      14         1014        Christ McCarthy    1998-11-26   25\n",
            "14      15         1015           Jesus Christ    1974-08-15   49\n",
            "15      16         1016             Doflamingo    1997-06-26   26\n",
            "16      17         1017            Bruce Wayne    1996-07-10   27\n",
            "17      18         1018            Andrew Tate    1968-08-11   55\n",
            "18      19         1019          Elon The Musk    1993-10-09   30\n",
            "19      20         1020             Robin Hood    1997-07-07   26\n",
            "    Sr no.  Employee ID          Employee Name   Salary\n",
            "0        1         1001             Baki Hanma   400000\n",
            "1        2         1002           Yujiro Hanma   500000\n",
            "2        3         1003        Monkey D. Luffy   600000\n",
            "3        4         1004         Monkey D. Garp   700000\n",
            "4        5         1005          Trafalgar Law   800000\n",
            "5        6         1006             Alva Morte   900000\n",
            "6        7         1007       Miyamoto Musashi  1000000\n",
            "7        8         1008         Shinmen Takezo  1100000\n",
            "8        9         1009  Christopher Fernandez  1200000\n",
            "9       10         1010            Virat Kohli  1300000\n",
            "10      11         1011           Rohit Sharma  1400000\n",
            "11      12         1012              John Wick  1500000\n",
            "12      13         1013      Robert Downey Jr.  1600000\n",
            "13      14         1014        Christ McCarthy  1700000\n",
            "14      15         1015           Jesus Christ  1800000\n",
            "15      16         1016             Doflamingo  1900000\n",
            "16      17         1017            Bruce Wayne  2000000\n",
            "17      18         1018            Andrew Tate  2100000\n",
            "18      19         1019          Elon The Musk  2200000\n",
            "19      20         1020             Robin Hood  2300000\n"
          ]
        }
      ],
      "source": [
        "import pandas as pd\n",
        "df = pd.read_excel(r'/content/drive/MyDrive/employee.xlsx')\n",
        "print(df)\n",
        "df1=pd.read_excel('/content/drive/MyDrive/salary.xlsx')\n",
        "print(df1)\n"
      ]
    },
    {
      "cell_type": "code",
      "execution_count": null,
      "metadata": {
        "colab": {
          "base_uri": "https://localhost:8080/",
          "height": 676
        },
        "id": "6yL4HZHRtTbe",
        "outputId": "ca60fbe7-021d-494f-a66c-2b419bc3c754"
      },
      "outputs": [
        {
          "data": {
            "text/html": [
              "\n",
              "  <div id=\"df-f417bfa0-dfc3-42e8-b79c-a465c0b74e69\">\n",
              "    <div class=\"colab-df-container\">\n",
              "      <div>\n",
              "<style scoped>\n",
              "    .dataframe tbody tr th:only-of-type {\n",
              "        vertical-align: middle;\n",
              "    }\n",
              "\n",
              "    .dataframe tbody tr th {\n",
              "        vertical-align: top;\n",
              "    }\n",
              "\n",
              "    .dataframe thead th {\n",
              "        text-align: right;\n",
              "    }\n",
              "</style>\n",
              "<table border=\"1\" class=\"dataframe\">\n",
              "  <thead>\n",
              "    <tr style=\"text-align: right;\">\n",
              "      <th></th>\n",
              "      <th>Sr no.</th>\n",
              "      <th>Employee ID</th>\n",
              "      <th>Employee Name</th>\n",
              "      <th>Salary</th>\n",
              "    </tr>\n",
              "  </thead>\n",
              "  <tbody>\n",
              "    <tr>\n",
              "      <th>0</th>\n",
              "      <td>1</td>\n",
              "      <td>1001</td>\n",
              "      <td>Baki Hanma</td>\n",
              "      <td>400000</td>\n",
              "    </tr>\n",
              "    <tr>\n",
              "      <th>1</th>\n",
              "      <td>2</td>\n",
              "      <td>1002</td>\n",
              "      <td>Yujiro Hanma</td>\n",
              "      <td>500000</td>\n",
              "    </tr>\n",
              "    <tr>\n",
              "      <th>2</th>\n",
              "      <td>3</td>\n",
              "      <td>1003</td>\n",
              "      <td>Monkey D. Luffy</td>\n",
              "      <td>600000</td>\n",
              "    </tr>\n",
              "    <tr>\n",
              "      <th>3</th>\n",
              "      <td>4</td>\n",
              "      <td>1004</td>\n",
              "      <td>Monkey D. Garp</td>\n",
              "      <td>700000</td>\n",
              "    </tr>\n",
              "    <tr>\n",
              "      <th>4</th>\n",
              "      <td>5</td>\n",
              "      <td>1005</td>\n",
              "      <td>Trafalgar Law</td>\n",
              "      <td>800000</td>\n",
              "    </tr>\n",
              "    <tr>\n",
              "      <th>5</th>\n",
              "      <td>6</td>\n",
              "      <td>1006</td>\n",
              "      <td>Alva Morte</td>\n",
              "      <td>900000</td>\n",
              "    </tr>\n",
              "    <tr>\n",
              "      <th>6</th>\n",
              "      <td>7</td>\n",
              "      <td>1007</td>\n",
              "      <td>Miyamoto Musashi</td>\n",
              "      <td>1000000</td>\n",
              "    </tr>\n",
              "    <tr>\n",
              "      <th>7</th>\n",
              "      <td>8</td>\n",
              "      <td>1008</td>\n",
              "      <td>Shinmen Takezo</td>\n",
              "      <td>1100000</td>\n",
              "    </tr>\n",
              "    <tr>\n",
              "      <th>8</th>\n",
              "      <td>9</td>\n",
              "      <td>1009</td>\n",
              "      <td>Christopher Fernandez</td>\n",
              "      <td>1200000</td>\n",
              "    </tr>\n",
              "    <tr>\n",
              "      <th>9</th>\n",
              "      <td>10</td>\n",
              "      <td>1010</td>\n",
              "      <td>Virat Kohli</td>\n",
              "      <td>1300000</td>\n",
              "    </tr>\n",
              "    <tr>\n",
              "      <th>10</th>\n",
              "      <td>11</td>\n",
              "      <td>1011</td>\n",
              "      <td>Rohit Sharma</td>\n",
              "      <td>1400000</td>\n",
              "    </tr>\n",
              "    <tr>\n",
              "      <th>11</th>\n",
              "      <td>12</td>\n",
              "      <td>1012</td>\n",
              "      <td>John Wick</td>\n",
              "      <td>1500000</td>\n",
              "    </tr>\n",
              "    <tr>\n",
              "      <th>12</th>\n",
              "      <td>13</td>\n",
              "      <td>1013</td>\n",
              "      <td>Robert Downey Jr.</td>\n",
              "      <td>1600000</td>\n",
              "    </tr>\n",
              "    <tr>\n",
              "      <th>13</th>\n",
              "      <td>14</td>\n",
              "      <td>1014</td>\n",
              "      <td>Christ McCarthy</td>\n",
              "      <td>1700000</td>\n",
              "    </tr>\n",
              "    <tr>\n",
              "      <th>14</th>\n",
              "      <td>15</td>\n",
              "      <td>1015</td>\n",
              "      <td>Jesus Christ</td>\n",
              "      <td>1800000</td>\n",
              "    </tr>\n",
              "    <tr>\n",
              "      <th>15</th>\n",
              "      <td>16</td>\n",
              "      <td>1016</td>\n",
              "      <td>Doflamingo</td>\n",
              "      <td>1900000</td>\n",
              "    </tr>\n",
              "    <tr>\n",
              "      <th>16</th>\n",
              "      <td>17</td>\n",
              "      <td>1017</td>\n",
              "      <td>Bruce Wayne</td>\n",
              "      <td>2000000</td>\n",
              "    </tr>\n",
              "    <tr>\n",
              "      <th>17</th>\n",
              "      <td>18</td>\n",
              "      <td>1018</td>\n",
              "      <td>Andrew Tate</td>\n",
              "      <td>2100000</td>\n",
              "    </tr>\n",
              "    <tr>\n",
              "      <th>18</th>\n",
              "      <td>19</td>\n",
              "      <td>1019</td>\n",
              "      <td>Elon The Musk</td>\n",
              "      <td>2200000</td>\n",
              "    </tr>\n",
              "    <tr>\n",
              "      <th>19</th>\n",
              "      <td>20</td>\n",
              "      <td>1020</td>\n",
              "      <td>Robin Hood</td>\n",
              "      <td>2300000</td>\n",
              "    </tr>\n",
              "  </tbody>\n",
              "</table>\n",
              "</div>\n",
              "      <button class=\"colab-df-convert\" onclick=\"convertToInteractive('df-f417bfa0-dfc3-42e8-b79c-a465c0b74e69')\"\n",
              "              title=\"Convert this dataframe to an interactive table.\"\n",
              "              style=\"display:none;\">\n",
              "        \n",
              "  <svg xmlns=\"http://www.w3.org/2000/svg\" height=\"24px\"viewBox=\"0 0 24 24\"\n",
              "       width=\"24px\">\n",
              "    <path d=\"M0 0h24v24H0V0z\" fill=\"none\"/>\n",
              "    <path d=\"M18.56 5.44l.94 2.06.94-2.06 2.06-.94-2.06-.94-.94-2.06-.94 2.06-2.06.94zm-11 1L8.5 8.5l.94-2.06 2.06-.94-2.06-.94L8.5 2.5l-.94 2.06-2.06.94zm10 10l.94 2.06.94-2.06 2.06-.94-2.06-.94-.94-2.06-.94 2.06-2.06.94z\"/><path d=\"M17.41 7.96l-1.37-1.37c-.4-.4-.92-.59-1.43-.59-.52 0-1.04.2-1.43.59L10.3 9.45l-7.72 7.72c-.78.78-.78 2.05 0 2.83L4 21.41c.39.39.9.59 1.41.59.51 0 1.02-.2 1.41-.59l7.78-7.78 2.81-2.81c.8-.78.8-2.07 0-2.86zM5.41 20L4 18.59l7.72-7.72 1.47 1.35L5.41 20z\"/>\n",
              "  </svg>\n",
              "      </button>\n",
              "      \n",
              "  <style>\n",
              "    .colab-df-container {\n",
              "      display:flex;\n",
              "      flex-wrap:wrap;\n",
              "      gap: 12px;\n",
              "    }\n",
              "\n",
              "    .colab-df-convert {\n",
              "      background-color: #E8F0FE;\n",
              "      border: none;\n",
              "      border-radius: 50%;\n",
              "      cursor: pointer;\n",
              "      display: none;\n",
              "      fill: #1967D2;\n",
              "      height: 32px;\n",
              "      padding: 0 0 0 0;\n",
              "      width: 32px;\n",
              "    }\n",
              "\n",
              "    .colab-df-convert:hover {\n",
              "      background-color: #E2EBFA;\n",
              "      box-shadow: 0px 1px 2px rgba(60, 64, 67, 0.3), 0px 1px 3px 1px rgba(60, 64, 67, 0.15);\n",
              "      fill: #174EA6;\n",
              "    }\n",
              "\n",
              "    [theme=dark] .colab-df-convert {\n",
              "      background-color: #3B4455;\n",
              "      fill: #D2E3FC;\n",
              "    }\n",
              "\n",
              "    [theme=dark] .colab-df-convert:hover {\n",
              "      background-color: #434B5C;\n",
              "      box-shadow: 0px 1px 3px 1px rgba(0, 0, 0, 0.15);\n",
              "      filter: drop-shadow(0px 1px 2px rgba(0, 0, 0, 0.3));\n",
              "      fill: #FFFFFF;\n",
              "    }\n",
              "  </style>\n",
              "\n",
              "      <script>\n",
              "        const buttonEl =\n",
              "          document.querySelector('#df-f417bfa0-dfc3-42e8-b79c-a465c0b74e69 button.colab-df-convert');\n",
              "        buttonEl.style.display =\n",
              "          google.colab.kernel.accessAllowed ? 'block' : 'none';\n",
              "\n",
              "        async function convertToInteractive(key) {\n",
              "          const element = document.querySelector('#df-f417bfa0-dfc3-42e8-b79c-a465c0b74e69');\n",
              "          const dataTable =\n",
              "            await google.colab.kernel.invokeFunction('convertToInteractive',\n",
              "                                                     [key], {});\n",
              "          if (!dataTable) return;\n",
              "\n",
              "          const docLinkHtml = 'Like what you see? Visit the ' +\n",
              "            '<a target=\"_blank\" href=https://colab.research.google.com/notebooks/data_table.ipynb>data table notebook</a>'\n",
              "            + ' to learn more about interactive tables.';\n",
              "          element.innerHTML = '';\n",
              "          dataTable['output_type'] = 'display_data';\n",
              "          await google.colab.output.renderOutput(dataTable, element);\n",
              "          const docLink = document.createElement('div');\n",
              "          docLink.innerHTML = docLinkHtml;\n",
              "          element.appendChild(docLink);\n",
              "        }\n",
              "      </script>\n",
              "    </div>\n",
              "  </div>\n",
              "  "
            ],
            "text/plain": [
              "    Sr no.  Employee ID          Employee Name   Salary\n",
              "0        1         1001             Baki Hanma   400000\n",
              "1        2         1002           Yujiro Hanma   500000\n",
              "2        3         1003        Monkey D. Luffy   600000\n",
              "3        4         1004         Monkey D. Garp   700000\n",
              "4        5         1005          Trafalgar Law   800000\n",
              "5        6         1006             Alva Morte   900000\n",
              "6        7         1007       Miyamoto Musashi  1000000\n",
              "7        8         1008         Shinmen Takezo  1100000\n",
              "8        9         1009  Christopher Fernandez  1200000\n",
              "9       10         1010            Virat Kohli  1300000\n",
              "10      11         1011           Rohit Sharma  1400000\n",
              "11      12         1012              John Wick  1500000\n",
              "12      13         1013      Robert Downey Jr.  1600000\n",
              "13      14         1014        Christ McCarthy  1700000\n",
              "14      15         1015           Jesus Christ  1800000\n",
              "15      16         1016             Doflamingo  1900000\n",
              "16      17         1017            Bruce Wayne  2000000\n",
              "17      18         1018            Andrew Tate  2100000\n",
              "18      19         1019          Elon The Musk  2200000\n",
              "19      20         1020             Robin Hood  2300000"
            ]
          },
          "execution_count": 6,
          "metadata": {},
          "output_type": "execute_result"
        }
      ],
      "source": [
        "import pandas as pd\n",
        "df1.sort_values(by=['Salary'])"
      ]
    },
    {
      "cell_type": "code",
      "execution_count": null,
      "metadata": {
        "colab": {
          "base_uri": "https://localhost:8080/",
          "height": 676
        },
        "id": "qC3UuZNxYvN4",
        "outputId": "cbaf877b-3309-4a69-9115-30f9ad3fa82b"
      },
      "outputs": [
        {
          "data": {
            "text/html": [
              "\n",
              "  <div id=\"df-73a8e26e-07eb-4e0c-aa28-fcb215fc84ec\">\n",
              "    <div class=\"colab-df-container\">\n",
              "      <div>\n",
              "<style scoped>\n",
              "    .dataframe tbody tr th:only-of-type {\n",
              "        vertical-align: middle;\n",
              "    }\n",
              "\n",
              "    .dataframe tbody tr th {\n",
              "        vertical-align: top;\n",
              "    }\n",
              "\n",
              "    .dataframe thead th {\n",
              "        text-align: right;\n",
              "    }\n",
              "</style>\n",
              "<table border=\"1\" class=\"dataframe\">\n",
              "  <thead>\n",
              "    <tr style=\"text-align: right;\">\n",
              "      <th></th>\n",
              "      <th>Sr no.</th>\n",
              "      <th>Employee ID</th>\n",
              "      <th>Employee Name</th>\n",
              "      <th>Salary</th>\n",
              "    </tr>\n",
              "  </thead>\n",
              "  <tbody>\n",
              "    <tr>\n",
              "      <th>19</th>\n",
              "      <td>20</td>\n",
              "      <td>1020</td>\n",
              "      <td>Robin Hood</td>\n",
              "      <td>2300000</td>\n",
              "    </tr>\n",
              "    <tr>\n",
              "      <th>18</th>\n",
              "      <td>19</td>\n",
              "      <td>1019</td>\n",
              "      <td>Elon The Musk</td>\n",
              "      <td>2200000</td>\n",
              "    </tr>\n",
              "    <tr>\n",
              "      <th>17</th>\n",
              "      <td>18</td>\n",
              "      <td>1018</td>\n",
              "      <td>Andrew Tate</td>\n",
              "      <td>2100000</td>\n",
              "    </tr>\n",
              "    <tr>\n",
              "      <th>16</th>\n",
              "      <td>17</td>\n",
              "      <td>1017</td>\n",
              "      <td>Bruce Wayne</td>\n",
              "      <td>2000000</td>\n",
              "    </tr>\n",
              "    <tr>\n",
              "      <th>15</th>\n",
              "      <td>16</td>\n",
              "      <td>1016</td>\n",
              "      <td>Doflamingo</td>\n",
              "      <td>1900000</td>\n",
              "    </tr>\n",
              "    <tr>\n",
              "      <th>14</th>\n",
              "      <td>15</td>\n",
              "      <td>1015</td>\n",
              "      <td>Jesus Christ</td>\n",
              "      <td>1800000</td>\n",
              "    </tr>\n",
              "    <tr>\n",
              "      <th>13</th>\n",
              "      <td>14</td>\n",
              "      <td>1014</td>\n",
              "      <td>Christ McCarthy</td>\n",
              "      <td>1700000</td>\n",
              "    </tr>\n",
              "    <tr>\n",
              "      <th>12</th>\n",
              "      <td>13</td>\n",
              "      <td>1013</td>\n",
              "      <td>Robert Downey Jr.</td>\n",
              "      <td>1600000</td>\n",
              "    </tr>\n",
              "    <tr>\n",
              "      <th>11</th>\n",
              "      <td>12</td>\n",
              "      <td>1012</td>\n",
              "      <td>John Wick</td>\n",
              "      <td>1500000</td>\n",
              "    </tr>\n",
              "    <tr>\n",
              "      <th>10</th>\n",
              "      <td>11</td>\n",
              "      <td>1011</td>\n",
              "      <td>Rohit Sharma</td>\n",
              "      <td>1400000</td>\n",
              "    </tr>\n",
              "    <tr>\n",
              "      <th>9</th>\n",
              "      <td>10</td>\n",
              "      <td>1010</td>\n",
              "      <td>Virat Kohli</td>\n",
              "      <td>1300000</td>\n",
              "    </tr>\n",
              "    <tr>\n",
              "      <th>8</th>\n",
              "      <td>9</td>\n",
              "      <td>1009</td>\n",
              "      <td>Christopher Fernandez</td>\n",
              "      <td>1200000</td>\n",
              "    </tr>\n",
              "    <tr>\n",
              "      <th>7</th>\n",
              "      <td>8</td>\n",
              "      <td>1008</td>\n",
              "      <td>Shinmen Takezo</td>\n",
              "      <td>1100000</td>\n",
              "    </tr>\n",
              "    <tr>\n",
              "      <th>6</th>\n",
              "      <td>7</td>\n",
              "      <td>1007</td>\n",
              "      <td>Miyamoto Musashi</td>\n",
              "      <td>1000000</td>\n",
              "    </tr>\n",
              "    <tr>\n",
              "      <th>5</th>\n",
              "      <td>6</td>\n",
              "      <td>1006</td>\n",
              "      <td>Alva Morte</td>\n",
              "      <td>900000</td>\n",
              "    </tr>\n",
              "    <tr>\n",
              "      <th>4</th>\n",
              "      <td>5</td>\n",
              "      <td>1005</td>\n",
              "      <td>Trafalgar Law</td>\n",
              "      <td>800000</td>\n",
              "    </tr>\n",
              "    <tr>\n",
              "      <th>3</th>\n",
              "      <td>4</td>\n",
              "      <td>1004</td>\n",
              "      <td>Monkey D. Garp</td>\n",
              "      <td>700000</td>\n",
              "    </tr>\n",
              "    <tr>\n",
              "      <th>2</th>\n",
              "      <td>3</td>\n",
              "      <td>1003</td>\n",
              "      <td>Monkey D. Luffy</td>\n",
              "      <td>600000</td>\n",
              "    </tr>\n",
              "    <tr>\n",
              "      <th>1</th>\n",
              "      <td>2</td>\n",
              "      <td>1002</td>\n",
              "      <td>Yujiro Hanma</td>\n",
              "      <td>500000</td>\n",
              "    </tr>\n",
              "    <tr>\n",
              "      <th>0</th>\n",
              "      <td>1</td>\n",
              "      <td>1001</td>\n",
              "      <td>Baki Hanma</td>\n",
              "      <td>400000</td>\n",
              "    </tr>\n",
              "  </tbody>\n",
              "</table>\n",
              "</div>\n",
              "      <button class=\"colab-df-convert\" onclick=\"convertToInteractive('df-73a8e26e-07eb-4e0c-aa28-fcb215fc84ec')\"\n",
              "              title=\"Convert this dataframe to an interactive table.\"\n",
              "              style=\"display:none;\">\n",
              "        \n",
              "  <svg xmlns=\"http://www.w3.org/2000/svg\" height=\"24px\"viewBox=\"0 0 24 24\"\n",
              "       width=\"24px\">\n",
              "    <path d=\"M0 0h24v24H0V0z\" fill=\"none\"/>\n",
              "    <path d=\"M18.56 5.44l.94 2.06.94-2.06 2.06-.94-2.06-.94-.94-2.06-.94 2.06-2.06.94zm-11 1L8.5 8.5l.94-2.06 2.06-.94-2.06-.94L8.5 2.5l-.94 2.06-2.06.94zm10 10l.94 2.06.94-2.06 2.06-.94-2.06-.94-.94-2.06-.94 2.06-2.06.94z\"/><path d=\"M17.41 7.96l-1.37-1.37c-.4-.4-.92-.59-1.43-.59-.52 0-1.04.2-1.43.59L10.3 9.45l-7.72 7.72c-.78.78-.78 2.05 0 2.83L4 21.41c.39.39.9.59 1.41.59.51 0 1.02-.2 1.41-.59l7.78-7.78 2.81-2.81c.8-.78.8-2.07 0-2.86zM5.41 20L4 18.59l7.72-7.72 1.47 1.35L5.41 20z\"/>\n",
              "  </svg>\n",
              "      </button>\n",
              "      \n",
              "  <style>\n",
              "    .colab-df-container {\n",
              "      display:flex;\n",
              "      flex-wrap:wrap;\n",
              "      gap: 12px;\n",
              "    }\n",
              "\n",
              "    .colab-df-convert {\n",
              "      background-color: #E8F0FE;\n",
              "      border: none;\n",
              "      border-radius: 50%;\n",
              "      cursor: pointer;\n",
              "      display: none;\n",
              "      fill: #1967D2;\n",
              "      height: 32px;\n",
              "      padding: 0 0 0 0;\n",
              "      width: 32px;\n",
              "    }\n",
              "\n",
              "    .colab-df-convert:hover {\n",
              "      background-color: #E2EBFA;\n",
              "      box-shadow: 0px 1px 2px rgba(60, 64, 67, 0.3), 0px 1px 3px 1px rgba(60, 64, 67, 0.15);\n",
              "      fill: #174EA6;\n",
              "    }\n",
              "\n",
              "    [theme=dark] .colab-df-convert {\n",
              "      background-color: #3B4455;\n",
              "      fill: #D2E3FC;\n",
              "    }\n",
              "\n",
              "    [theme=dark] .colab-df-convert:hover {\n",
              "      background-color: #434B5C;\n",
              "      box-shadow: 0px 1px 3px 1px rgba(0, 0, 0, 0.15);\n",
              "      filter: drop-shadow(0px 1px 2px rgba(0, 0, 0, 0.3));\n",
              "      fill: #FFFFFF;\n",
              "    }\n",
              "  </style>\n",
              "\n",
              "      <script>\n",
              "        const buttonEl =\n",
              "          document.querySelector('#df-73a8e26e-07eb-4e0c-aa28-fcb215fc84ec button.colab-df-convert');\n",
              "        buttonEl.style.display =\n",
              "          google.colab.kernel.accessAllowed ? 'block' : 'none';\n",
              "\n",
              "        async function convertToInteractive(key) {\n",
              "          const element = document.querySelector('#df-73a8e26e-07eb-4e0c-aa28-fcb215fc84ec');\n",
              "          const dataTable =\n",
              "            await google.colab.kernel.invokeFunction('convertToInteractive',\n",
              "                                                     [key], {});\n",
              "          if (!dataTable) return;\n",
              "\n",
              "          const docLinkHtml = 'Like what you see? Visit the ' +\n",
              "            '<a target=\"_blank\" href=https://colab.research.google.com/notebooks/data_table.ipynb>data table notebook</a>'\n",
              "            + ' to learn more about interactive tables.';\n",
              "          element.innerHTML = '';\n",
              "          dataTable['output_type'] = 'display_data';\n",
              "          await google.colab.output.renderOutput(dataTable, element);\n",
              "          const docLink = document.createElement('div');\n",
              "          docLink.innerHTML = docLinkHtml;\n",
              "          element.appendChild(docLink);\n",
              "        }\n",
              "      </script>\n",
              "    </div>\n",
              "  </div>\n",
              "  "
            ],
            "text/plain": [
              "    Sr no.  Employee ID          Employee Name   Salary\n",
              "19      20         1020             Robin Hood  2300000\n",
              "18      19         1019          Elon The Musk  2200000\n",
              "17      18         1018            Andrew Tate  2100000\n",
              "16      17         1017            Bruce Wayne  2000000\n",
              "15      16         1016             Doflamingo  1900000\n",
              "14      15         1015           Jesus Christ  1800000\n",
              "13      14         1014        Christ McCarthy  1700000\n",
              "12      13         1013      Robert Downey Jr.  1600000\n",
              "11      12         1012              John Wick  1500000\n",
              "10      11         1011           Rohit Sharma  1400000\n",
              "9       10         1010            Virat Kohli  1300000\n",
              "8        9         1009  Christopher Fernandez  1200000\n",
              "7        8         1008         Shinmen Takezo  1100000\n",
              "6        7         1007       Miyamoto Musashi  1000000\n",
              "5        6         1006             Alva Morte   900000\n",
              "4        5         1005          Trafalgar Law   800000\n",
              "3        4         1004         Monkey D. Garp   700000\n",
              "2        3         1003        Monkey D. Luffy   600000\n",
              "1        2         1002           Yujiro Hanma   500000\n",
              "0        1         1001             Baki Hanma   400000"
            ]
          },
          "execution_count": 26,
          "metadata": {},
          "output_type": "execute_result"
        }
      ],
      "source": [
        "df1.sort_values(by=['Salary'],ascending = False)"
      ]
    },
    {
      "cell_type": "code",
      "execution_count": null,
      "metadata": {
        "colab": {
          "base_uri": "https://localhost:8080/"
        },
        "id": "yLApXil6wbsQ",
        "outputId": "980bb70a-fd3e-429f-d5f5-7939645184dd"
      },
      "outputs": [
        {
          "name": "stdout",
          "output_type": "stream",
          "text": [
            "    Sr no.  Employee ID          Employee Name   Salary\n",
            "19      20         1020             Robin Hood  2300000\n",
            "18      19         1019          Elon The Musk  2200000\n",
            "17      18         1018            Andrew Tate  2100000\n",
            "16      17         1017            Bruce Wayne  2000000\n",
            "15      16         1016             Doflamingo  1900000\n",
            "14      15         1015           Jesus Christ  1800000\n",
            "13      14         1014        Christ McCarthy  1700000\n",
            "12      13         1013      Robert Downey Jr.  1600000\n",
            "11      12         1012              John Wick  1500000\n",
            "10      11         1011           Rohit Sharma  1400000\n",
            "9       10         1010            Virat Kohli  1300000\n",
            "8        9         1009  Christopher Fernandez  1200000\n",
            "7        8         1008         Shinmen Takezo  1100000\n",
            "6        7         1007       Miyamoto Musashi  1000000\n",
            "5        6         1006             Alva Morte   900000\n",
            "4        5         1005          Trafalgar Law   800000\n",
            "3        4         1004         Monkey D. Garp   700000\n",
            "2        3         1003        Monkey D. Luffy   600000\n",
            "1        2         1002           Yujiro Hanma   500000\n",
            "0        1         1001             Baki Hanma   400000\n"
          ]
        }
      ],
      "source": [
        "import pandas as pd\n",
        "\n",
        "df1=pd.read_excel('/content/drive/MyDrive/salary.xlsx')\n",
        "def sal():\n",
        "  a=df1.sort_values(by=['Salary'],ascending=False)\n",
        "  a.nlargest(5,'Salary','first')\n",
        "  print(a)\n",
        "sal()"
      ]
    },
    {
      "cell_type": "code",
      "execution_count": null,
      "metadata": {
        "colab": {
          "base_uri": "https://localhost:8080/",
          "height": 1000
        },
        "id": "6dLKHRdAxi8O",
        "outputId": "d0b8492f-9119-48ed-ee86-5ded6c0acd9f"
      },
      "outputs": [
        {
          "data": {
            "text/html": [
              "\n",
              "  <div id=\"df-5375fb74-bf6a-46ed-bfce-08af7017688d\">\n",
              "    <div class=\"colab-df-container\">\n",
              "      <div>\n",
              "<style scoped>\n",
              "    .dataframe tbody tr th:only-of-type {\n",
              "        vertical-align: middle;\n",
              "    }\n",
              "\n",
              "    .dataframe tbody tr th {\n",
              "        vertical-align: top;\n",
              "    }\n",
              "\n",
              "    .dataframe thead th {\n",
              "        text-align: right;\n",
              "    }\n",
              "</style>\n",
              "<table border=\"1\" class=\"dataframe\">\n",
              "  <thead>\n",
              "    <tr style=\"text-align: right;\">\n",
              "      <th></th>\n",
              "      <th>Sr no.</th>\n",
              "      <th>Employee ID</th>\n",
              "      <th>Employee Name</th>\n",
              "      <th>Date of birth</th>\n",
              "      <th>Age</th>\n",
              "    </tr>\n",
              "  </thead>\n",
              "  <tbody>\n",
              "    <tr>\n",
              "      <th>0</th>\n",
              "      <td>1</td>\n",
              "      <td>1001</td>\n",
              "      <td>Baki Hanma</td>\n",
              "      <td>1999-05-11</td>\n",
              "      <td>24</td>\n",
              "    </tr>\n",
              "    <tr>\n",
              "      <th>1</th>\n",
              "      <td>2</td>\n",
              "      <td>1002</td>\n",
              "      <td>Yujiro Hanma</td>\n",
              "      <td>2004-02-29</td>\n",
              "      <td>18</td>\n",
              "    </tr>\n",
              "    <tr>\n",
              "      <th>2</th>\n",
              "      <td>3</td>\n",
              "      <td>1003</td>\n",
              "      <td>Monkey D. Luffy</td>\n",
              "      <td>1976-05-12</td>\n",
              "      <td>47</td>\n",
              "    </tr>\n",
              "    <tr>\n",
              "      <th>3</th>\n",
              "      <td>4</td>\n",
              "      <td>1004</td>\n",
              "      <td>Monkey D. Garp</td>\n",
              "      <td>1983-07-15</td>\n",
              "      <td>40</td>\n",
              "    </tr>\n",
              "    <tr>\n",
              "      <th>4</th>\n",
              "      <td>5</td>\n",
              "      <td>1005</td>\n",
              "      <td>Trafalgar Law</td>\n",
              "      <td>1999-10-26</td>\n",
              "      <td>24</td>\n",
              "    </tr>\n",
              "    <tr>\n",
              "      <th>5</th>\n",
              "      <td>6</td>\n",
              "      <td>1006</td>\n",
              "      <td>Alva Morte</td>\n",
              "      <td>2002-09-21</td>\n",
              "      <td>21</td>\n",
              "    </tr>\n",
              "    <tr>\n",
              "      <th>6</th>\n",
              "      <td>7</td>\n",
              "      <td>1007</td>\n",
              "      <td>Miyamoto Musashi</td>\n",
              "      <td>1998-07-16</td>\n",
              "      <td>25</td>\n",
              "    </tr>\n",
              "    <tr>\n",
              "      <th>7</th>\n",
              "      <td>8</td>\n",
              "      <td>1008</td>\n",
              "      <td>Shinmen Takezo</td>\n",
              "      <td>1989-07-18</td>\n",
              "      <td>34</td>\n",
              "    </tr>\n",
              "    <tr>\n",
              "      <th>8</th>\n",
              "      <td>9</td>\n",
              "      <td>1009</td>\n",
              "      <td>Christopher Fernandez</td>\n",
              "      <td>2000-12-31</td>\n",
              "      <td>23</td>\n",
              "    </tr>\n",
              "    <tr>\n",
              "      <th>9</th>\n",
              "      <td>10</td>\n",
              "      <td>1010</td>\n",
              "      <td>Virat Kohli</td>\n",
              "      <td>1994-06-08</td>\n",
              "      <td>29</td>\n",
              "    </tr>\n",
              "    <tr>\n",
              "      <th>10</th>\n",
              "      <td>11</td>\n",
              "      <td>1011</td>\n",
              "      <td>Rohit Sharma</td>\n",
              "      <td>1968-07-03</td>\n",
              "      <td>55</td>\n",
              "    </tr>\n",
              "    <tr>\n",
              "      <th>11</th>\n",
              "      <td>12</td>\n",
              "      <td>1012</td>\n",
              "      <td>John Wick</td>\n",
              "      <td>2004-02-20</td>\n",
              "      <td>18</td>\n",
              "    </tr>\n",
              "    <tr>\n",
              "      <th>12</th>\n",
              "      <td>13</td>\n",
              "      <td>1013</td>\n",
              "      <td>Robert Downey Jr.</td>\n",
              "      <td>2004-06-30</td>\n",
              "      <td>18</td>\n",
              "    </tr>\n",
              "    <tr>\n",
              "      <th>13</th>\n",
              "      <td>14</td>\n",
              "      <td>1014</td>\n",
              "      <td>Christ McCarthy</td>\n",
              "      <td>1998-11-26</td>\n",
              "      <td>25</td>\n",
              "    </tr>\n",
              "    <tr>\n",
              "      <th>14</th>\n",
              "      <td>15</td>\n",
              "      <td>1015</td>\n",
              "      <td>Jesus Christ</td>\n",
              "      <td>1974-08-15</td>\n",
              "      <td>49</td>\n",
              "    </tr>\n",
              "    <tr>\n",
              "      <th>15</th>\n",
              "      <td>16</td>\n",
              "      <td>1016</td>\n",
              "      <td>Doflamingo</td>\n",
              "      <td>1997-06-26</td>\n",
              "      <td>26</td>\n",
              "    </tr>\n",
              "    <tr>\n",
              "      <th>16</th>\n",
              "      <td>17</td>\n",
              "      <td>1017</td>\n",
              "      <td>Bruce Wayne</td>\n",
              "      <td>1996-07-10</td>\n",
              "      <td>27</td>\n",
              "    </tr>\n",
              "    <tr>\n",
              "      <th>17</th>\n",
              "      <td>18</td>\n",
              "      <td>1018</td>\n",
              "      <td>Andrew Tate</td>\n",
              "      <td>1968-08-11</td>\n",
              "      <td>55</td>\n",
              "    </tr>\n",
              "    <tr>\n",
              "      <th>18</th>\n",
              "      <td>19</td>\n",
              "      <td>1019</td>\n",
              "      <td>Elon The Musk</td>\n",
              "      <td>1993-10-09</td>\n",
              "      <td>30</td>\n",
              "    </tr>\n",
              "    <tr>\n",
              "      <th>19</th>\n",
              "      <td>20</td>\n",
              "      <td>1020</td>\n",
              "      <td>Robin Hood</td>\n",
              "      <td>1997-07-07</td>\n",
              "      <td>26</td>\n",
              "    </tr>\n",
              "  </tbody>\n",
              "</table>\n",
              "</div>\n",
              "      <button class=\"colab-df-convert\" onclick=\"convertToInteractive('df-5375fb74-bf6a-46ed-bfce-08af7017688d')\"\n",
              "              title=\"Convert this dataframe to an interactive table.\"\n",
              "              style=\"display:none;\">\n",
              "        \n",
              "  <svg xmlns=\"http://www.w3.org/2000/svg\" height=\"24px\"viewBox=\"0 0 24 24\"\n",
              "       width=\"24px\">\n",
              "    <path d=\"M0 0h24v24H0V0z\" fill=\"none\"/>\n",
              "    <path d=\"M18.56 5.44l.94 2.06.94-2.06 2.06-.94-2.06-.94-.94-2.06-.94 2.06-2.06.94zm-11 1L8.5 8.5l.94-2.06 2.06-.94-2.06-.94L8.5 2.5l-.94 2.06-2.06.94zm10 10l.94 2.06.94-2.06 2.06-.94-2.06-.94-.94-2.06-.94 2.06-2.06.94z\"/><path d=\"M17.41 7.96l-1.37-1.37c-.4-.4-.92-.59-1.43-.59-.52 0-1.04.2-1.43.59L10.3 9.45l-7.72 7.72c-.78.78-.78 2.05 0 2.83L4 21.41c.39.39.9.59 1.41.59.51 0 1.02-.2 1.41-.59l7.78-7.78 2.81-2.81c.8-.78.8-2.07 0-2.86zM5.41 20L4 18.59l7.72-7.72 1.47 1.35L5.41 20z\"/>\n",
              "  </svg>\n",
              "      </button>\n",
              "      \n",
              "  <style>\n",
              "    .colab-df-container {\n",
              "      display:flex;\n",
              "      flex-wrap:wrap;\n",
              "      gap: 12px;\n",
              "    }\n",
              "\n",
              "    .colab-df-convert {\n",
              "      background-color: #E8F0FE;\n",
              "      border: none;\n",
              "      border-radius: 50%;\n",
              "      cursor: pointer;\n",
              "      display: none;\n",
              "      fill: #1967D2;\n",
              "      height: 32px;\n",
              "      padding: 0 0 0 0;\n",
              "      width: 32px;\n",
              "    }\n",
              "\n",
              "    .colab-df-convert:hover {\n",
              "      background-color: #E2EBFA;\n",
              "      box-shadow: 0px 1px 2px rgba(60, 64, 67, 0.3), 0px 1px 3px 1px rgba(60, 64, 67, 0.15);\n",
              "      fill: #174EA6;\n",
              "    }\n",
              "\n",
              "    [theme=dark] .colab-df-convert {\n",
              "      background-color: #3B4455;\n",
              "      fill: #D2E3FC;\n",
              "    }\n",
              "\n",
              "    [theme=dark] .colab-df-convert:hover {\n",
              "      background-color: #434B5C;\n",
              "      box-shadow: 0px 1px 3px 1px rgba(0, 0, 0, 0.15);\n",
              "      filter: drop-shadow(0px 1px 2px rgba(0, 0, 0, 0.3));\n",
              "      fill: #FFFFFF;\n",
              "    }\n",
              "  </style>\n",
              "\n",
              "      <script>\n",
              "        const buttonEl =\n",
              "          document.querySelector('#df-5375fb74-bf6a-46ed-bfce-08af7017688d button.colab-df-convert');\n",
              "        buttonEl.style.display =\n",
              "          google.colab.kernel.accessAllowed ? 'block' : 'none';\n",
              "\n",
              "        async function convertToInteractive(key) {\n",
              "          const element = document.querySelector('#df-5375fb74-bf6a-46ed-bfce-08af7017688d');\n",
              "          const dataTable =\n",
              "            await google.colab.kernel.invokeFunction('convertToInteractive',\n",
              "                                                     [key], {});\n",
              "          if (!dataTable) return;\n",
              "\n",
              "          const docLinkHtml = 'Like what you see? Visit the ' +\n",
              "            '<a target=\"_blank\" href=https://colab.research.google.com/notebooks/data_table.ipynb>data table notebook</a>'\n",
              "            + ' to learn more about interactive tables.';\n",
              "          element.innerHTML = '';\n",
              "          dataTable['output_type'] = 'display_data';\n",
              "          await google.colab.output.renderOutput(dataTable, element);\n",
              "          const docLink = document.createElement('div');\n",
              "          docLink.innerHTML = docLinkHtml;\n",
              "          element.appendChild(docLink);\n",
              "        }\n",
              "      </script>\n",
              "    </div>\n",
              "  </div>\n",
              "  "
            ],
            "text/plain": [
              "    Sr no.  Employee ID          Employee Name Date of birth  Age\n",
              "0        1         1001             Baki Hanma    1999-05-11   24\n",
              "1        2         1002           Yujiro Hanma    2004-02-29   18\n",
              "2        3         1003        Monkey D. Luffy    1976-05-12   47\n",
              "3        4         1004         Monkey D. Garp    1983-07-15   40\n",
              "4        5         1005          Trafalgar Law    1999-10-26   24\n",
              "5        6         1006             Alva Morte    2002-09-21   21\n",
              "6        7         1007       Miyamoto Musashi    1998-07-16   25\n",
              "7        8         1008         Shinmen Takezo    1989-07-18   34\n",
              "8        9         1009  Christopher Fernandez    2000-12-31   23\n",
              "9       10         1010            Virat Kohli    1994-06-08   29\n",
              "10      11         1011           Rohit Sharma    1968-07-03   55\n",
              "11      12         1012              John Wick    2004-02-20   18\n",
              "12      13         1013      Robert Downey Jr.    2004-06-30   18\n",
              "13      14         1014        Christ McCarthy    1998-11-26   25\n",
              "14      15         1015           Jesus Christ    1974-08-15   49\n",
              "15      16         1016             Doflamingo    1997-06-26   26\n",
              "16      17         1017            Bruce Wayne    1996-07-10   27\n",
              "17      18         1018            Andrew Tate    1968-08-11   55\n",
              "18      19         1019          Elon The Musk    1993-10-09   30\n",
              "19      20         1020             Robin Hood    1997-07-07   26"
            ]
          },
          "metadata": {},
          "output_type": "display_data"
        },
        {
          "data": {
            "text/html": [
              "\n",
              "  <div id=\"df-77da2358-c9aa-4b5f-b3c3-0bcfb5213dac\">\n",
              "    <div class=\"colab-df-container\">\n",
              "      <div>\n",
              "<style scoped>\n",
              "    .dataframe tbody tr th:only-of-type {\n",
              "        vertical-align: middle;\n",
              "    }\n",
              "\n",
              "    .dataframe tbody tr th {\n",
              "        vertical-align: top;\n",
              "    }\n",
              "\n",
              "    .dataframe thead th {\n",
              "        text-align: right;\n",
              "    }\n",
              "</style>\n",
              "<table border=\"1\" class=\"dataframe\">\n",
              "  <thead>\n",
              "    <tr style=\"text-align: right;\">\n",
              "      <th></th>\n",
              "      <th>Sr no.</th>\n",
              "      <th>Employee ID</th>\n",
              "      <th>Employee Name</th>\n",
              "      <th>Salary</th>\n",
              "    </tr>\n",
              "  </thead>\n",
              "  <tbody>\n",
              "    <tr>\n",
              "      <th>0</th>\n",
              "      <td>1</td>\n",
              "      <td>1001</td>\n",
              "      <td>Baki Hanma</td>\n",
              "      <td>400000</td>\n",
              "    </tr>\n",
              "    <tr>\n",
              "      <th>1</th>\n",
              "      <td>2</td>\n",
              "      <td>1002</td>\n",
              "      <td>Yujiro Hanma</td>\n",
              "      <td>500000</td>\n",
              "    </tr>\n",
              "    <tr>\n",
              "      <th>2</th>\n",
              "      <td>3</td>\n",
              "      <td>1003</td>\n",
              "      <td>Monkey D. Luffy</td>\n",
              "      <td>600000</td>\n",
              "    </tr>\n",
              "    <tr>\n",
              "      <th>3</th>\n",
              "      <td>4</td>\n",
              "      <td>1004</td>\n",
              "      <td>Monkey D. Garp</td>\n",
              "      <td>700000</td>\n",
              "    </tr>\n",
              "    <tr>\n",
              "      <th>4</th>\n",
              "      <td>5</td>\n",
              "      <td>1005</td>\n",
              "      <td>Trafalgar Law</td>\n",
              "      <td>800000</td>\n",
              "    </tr>\n",
              "    <tr>\n",
              "      <th>5</th>\n",
              "      <td>6</td>\n",
              "      <td>1006</td>\n",
              "      <td>Alva Morte</td>\n",
              "      <td>900000</td>\n",
              "    </tr>\n",
              "    <tr>\n",
              "      <th>6</th>\n",
              "      <td>7</td>\n",
              "      <td>1007</td>\n",
              "      <td>Miyamoto Musashi</td>\n",
              "      <td>1000000</td>\n",
              "    </tr>\n",
              "    <tr>\n",
              "      <th>7</th>\n",
              "      <td>8</td>\n",
              "      <td>1008</td>\n",
              "      <td>Shinmen Takezo</td>\n",
              "      <td>1100000</td>\n",
              "    </tr>\n",
              "    <tr>\n",
              "      <th>8</th>\n",
              "      <td>9</td>\n",
              "      <td>1009</td>\n",
              "      <td>Christopher Fernandez</td>\n",
              "      <td>1200000</td>\n",
              "    </tr>\n",
              "    <tr>\n",
              "      <th>9</th>\n",
              "      <td>10</td>\n",
              "      <td>1010</td>\n",
              "      <td>Virat Kohli</td>\n",
              "      <td>1300000</td>\n",
              "    </tr>\n",
              "    <tr>\n",
              "      <th>10</th>\n",
              "      <td>11</td>\n",
              "      <td>1011</td>\n",
              "      <td>Rohit Sharma</td>\n",
              "      <td>1400000</td>\n",
              "    </tr>\n",
              "    <tr>\n",
              "      <th>11</th>\n",
              "      <td>12</td>\n",
              "      <td>1012</td>\n",
              "      <td>John Wick</td>\n",
              "      <td>1500000</td>\n",
              "    </tr>\n",
              "    <tr>\n",
              "      <th>12</th>\n",
              "      <td>13</td>\n",
              "      <td>1013</td>\n",
              "      <td>Robert Downey Jr.</td>\n",
              "      <td>1600000</td>\n",
              "    </tr>\n",
              "    <tr>\n",
              "      <th>13</th>\n",
              "      <td>14</td>\n",
              "      <td>1014</td>\n",
              "      <td>Christ McCarthy</td>\n",
              "      <td>1700000</td>\n",
              "    </tr>\n",
              "    <tr>\n",
              "      <th>14</th>\n",
              "      <td>15</td>\n",
              "      <td>1015</td>\n",
              "      <td>Jesus Christ</td>\n",
              "      <td>1800000</td>\n",
              "    </tr>\n",
              "    <tr>\n",
              "      <th>15</th>\n",
              "      <td>16</td>\n",
              "      <td>1016</td>\n",
              "      <td>Doflamingo</td>\n",
              "      <td>1900000</td>\n",
              "    </tr>\n",
              "    <tr>\n",
              "      <th>16</th>\n",
              "      <td>17</td>\n",
              "      <td>1017</td>\n",
              "      <td>Bruce Wayne</td>\n",
              "      <td>2000000</td>\n",
              "    </tr>\n",
              "    <tr>\n",
              "      <th>17</th>\n",
              "      <td>18</td>\n",
              "      <td>1018</td>\n",
              "      <td>Andrew Tate</td>\n",
              "      <td>2100000</td>\n",
              "    </tr>\n",
              "    <tr>\n",
              "      <th>18</th>\n",
              "      <td>19</td>\n",
              "      <td>1019</td>\n",
              "      <td>Elon The Musk</td>\n",
              "      <td>2200000</td>\n",
              "    </tr>\n",
              "    <tr>\n",
              "      <th>19</th>\n",
              "      <td>20</td>\n",
              "      <td>1020</td>\n",
              "      <td>Robin Hood</td>\n",
              "      <td>2300000</td>\n",
              "    </tr>\n",
              "  </tbody>\n",
              "</table>\n",
              "</div>\n",
              "      <button class=\"colab-df-convert\" onclick=\"convertToInteractive('df-77da2358-c9aa-4b5f-b3c3-0bcfb5213dac')\"\n",
              "              title=\"Convert this dataframe to an interactive table.\"\n",
              "              style=\"display:none;\">\n",
              "        \n",
              "  <svg xmlns=\"http://www.w3.org/2000/svg\" height=\"24px\"viewBox=\"0 0 24 24\"\n",
              "       width=\"24px\">\n",
              "    <path d=\"M0 0h24v24H0V0z\" fill=\"none\"/>\n",
              "    <path d=\"M18.56 5.44l.94 2.06.94-2.06 2.06-.94-2.06-.94-.94-2.06-.94 2.06-2.06.94zm-11 1L8.5 8.5l.94-2.06 2.06-.94-2.06-.94L8.5 2.5l-.94 2.06-2.06.94zm10 10l.94 2.06.94-2.06 2.06-.94-2.06-.94-.94-2.06-.94 2.06-2.06.94z\"/><path d=\"M17.41 7.96l-1.37-1.37c-.4-.4-.92-.59-1.43-.59-.52 0-1.04.2-1.43.59L10.3 9.45l-7.72 7.72c-.78.78-.78 2.05 0 2.83L4 21.41c.39.39.9.59 1.41.59.51 0 1.02-.2 1.41-.59l7.78-7.78 2.81-2.81c.8-.78.8-2.07 0-2.86zM5.41 20L4 18.59l7.72-7.72 1.47 1.35L5.41 20z\"/>\n",
              "  </svg>\n",
              "      </button>\n",
              "      \n",
              "  <style>\n",
              "    .colab-df-container {\n",
              "      display:flex;\n",
              "      flex-wrap:wrap;\n",
              "      gap: 12px;\n",
              "    }\n",
              "\n",
              "    .colab-df-convert {\n",
              "      background-color: #E8F0FE;\n",
              "      border: none;\n",
              "      border-radius: 50%;\n",
              "      cursor: pointer;\n",
              "      display: none;\n",
              "      fill: #1967D2;\n",
              "      height: 32px;\n",
              "      padding: 0 0 0 0;\n",
              "      width: 32px;\n",
              "    }\n",
              "\n",
              "    .colab-df-convert:hover {\n",
              "      background-color: #E2EBFA;\n",
              "      box-shadow: 0px 1px 2px rgba(60, 64, 67, 0.3), 0px 1px 3px 1px rgba(60, 64, 67, 0.15);\n",
              "      fill: #174EA6;\n",
              "    }\n",
              "\n",
              "    [theme=dark] .colab-df-convert {\n",
              "      background-color: #3B4455;\n",
              "      fill: #D2E3FC;\n",
              "    }\n",
              "\n",
              "    [theme=dark] .colab-df-convert:hover {\n",
              "      background-color: #434B5C;\n",
              "      box-shadow: 0px 1px 3px 1px rgba(0, 0, 0, 0.15);\n",
              "      filter: drop-shadow(0px 1px 2px rgba(0, 0, 0, 0.3));\n",
              "      fill: #FFFFFF;\n",
              "    }\n",
              "  </style>\n",
              "\n",
              "      <script>\n",
              "        const buttonEl =\n",
              "          document.querySelector('#df-77da2358-c9aa-4b5f-b3c3-0bcfb5213dac button.colab-df-convert');\n",
              "        buttonEl.style.display =\n",
              "          google.colab.kernel.accessAllowed ? 'block' : 'none';\n",
              "\n",
              "        async function convertToInteractive(key) {\n",
              "          const element = document.querySelector('#df-77da2358-c9aa-4b5f-b3c3-0bcfb5213dac');\n",
              "          const dataTable =\n",
              "            await google.colab.kernel.invokeFunction('convertToInteractive',\n",
              "                                                     [key], {});\n",
              "          if (!dataTable) return;\n",
              "\n",
              "          const docLinkHtml = 'Like what you see? Visit the ' +\n",
              "            '<a target=\"_blank\" href=https://colab.research.google.com/notebooks/data_table.ipynb>data table notebook</a>'\n",
              "            + ' to learn more about interactive tables.';\n",
              "          element.innerHTML = '';\n",
              "          dataTable['output_type'] = 'display_data';\n",
              "          await google.colab.output.renderOutput(dataTable, element);\n",
              "          const docLink = document.createElement('div');\n",
              "          docLink.innerHTML = docLinkHtml;\n",
              "          element.appendChild(docLink);\n",
              "        }\n",
              "      </script>\n",
              "    </div>\n",
              "  </div>\n",
              "  "
            ],
            "text/plain": [
              "    Sr no.  Employee ID          Employee Name   Salary\n",
              "0        1         1001             Baki Hanma   400000\n",
              "1        2         1002           Yujiro Hanma   500000\n",
              "2        3         1003        Monkey D. Luffy   600000\n",
              "3        4         1004         Monkey D. Garp   700000\n",
              "4        5         1005          Trafalgar Law   800000\n",
              "5        6         1006             Alva Morte   900000\n",
              "6        7         1007       Miyamoto Musashi  1000000\n",
              "7        8         1008         Shinmen Takezo  1100000\n",
              "8        9         1009  Christopher Fernandez  1200000\n",
              "9       10         1010            Virat Kohli  1300000\n",
              "10      11         1011           Rohit Sharma  1400000\n",
              "11      12         1012              John Wick  1500000\n",
              "12      13         1013      Robert Downey Jr.  1600000\n",
              "13      14         1014        Christ McCarthy  1700000\n",
              "14      15         1015           Jesus Christ  1800000\n",
              "15      16         1016             Doflamingo  1900000\n",
              "16      17         1017            Bruce Wayne  2000000\n",
              "17      18         1018            Andrew Tate  2100000\n",
              "18      19         1019          Elon The Musk  2200000\n",
              "19      20         1020             Robin Hood  2300000"
            ]
          },
          "metadata": {},
          "output_type": "display_data"
        }
      ],
      "source": [
        "import pandas as pd\n",
        "df = pd.read_excel(r'/content/drive/MyDrive/employee.xlsx')\n",
        "\n",
        "df1=pd.read_excel('/content/drive/MyDrive/salary.xlsx')\n",
        "\n",
        "display(df,df1)"
      ]
    },
    {
      "cell_type": "code",
      "execution_count": null,
      "metadata": {
        "colab": {
          "base_uri": "https://localhost:8080/",
          "height": 143
        },
        "id": "qTGak6b4bQ1A",
        "outputId": "62d48e8f-3f44-4330-d27d-85e3a8f57664"
      },
      "outputs": [
        {
          "data": {
            "text/html": [
              "\n",
              "  <div id=\"df-a6f5bf8f-ab9a-428a-bfa8-aab0e04d3d43\">\n",
              "    <div class=\"colab-df-container\">\n",
              "      <div>\n",
              "<style scoped>\n",
              "    .dataframe tbody tr th:only-of-type {\n",
              "        vertical-align: middle;\n",
              "    }\n",
              "\n",
              "    .dataframe tbody tr th {\n",
              "        vertical-align: top;\n",
              "    }\n",
              "\n",
              "    .dataframe thead th {\n",
              "        text-align: right;\n",
              "    }\n",
              "</style>\n",
              "<table border=\"1\" class=\"dataframe\">\n",
              "  <thead>\n",
              "    <tr style=\"text-align: right;\">\n",
              "      <th></th>\n",
              "      <th>Name</th>\n",
              "      <th>City</th>\n",
              "      <th>Age</th>\n",
              "    </tr>\n",
              "  </thead>\n",
              "  <tbody>\n",
              "    <tr>\n",
              "      <th>0</th>\n",
              "      <td>Sarthak</td>\n",
              "      <td>Pune</td>\n",
              "      <td>18</td>\n",
              "    </tr>\n",
              "    <tr>\n",
              "      <th>1</th>\n",
              "      <td>Rohan</td>\n",
              "      <td>Latur</td>\n",
              "      <td>45</td>\n",
              "    </tr>\n",
              "    <tr>\n",
              "      <th>2</th>\n",
              "      <td>Akshit</td>\n",
              "      <td>Jalgaon</td>\n",
              "      <td>55</td>\n",
              "    </tr>\n",
              "  </tbody>\n",
              "</table>\n",
              "</div>\n",
              "      <button class=\"colab-df-convert\" onclick=\"convertToInteractive('df-a6f5bf8f-ab9a-428a-bfa8-aab0e04d3d43')\"\n",
              "              title=\"Convert this dataframe to an interactive table.\"\n",
              "              style=\"display:none;\">\n",
              "        \n",
              "  <svg xmlns=\"http://www.w3.org/2000/svg\" height=\"24px\"viewBox=\"0 0 24 24\"\n",
              "       width=\"24px\">\n",
              "    <path d=\"M0 0h24v24H0V0z\" fill=\"none\"/>\n",
              "    <path d=\"M18.56 5.44l.94 2.06.94-2.06 2.06-.94-2.06-.94-.94-2.06-.94 2.06-2.06.94zm-11 1L8.5 8.5l.94-2.06 2.06-.94-2.06-.94L8.5 2.5l-.94 2.06-2.06.94zm10 10l.94 2.06.94-2.06 2.06-.94-2.06-.94-.94-2.06-.94 2.06-2.06.94z\"/><path d=\"M17.41 7.96l-1.37-1.37c-.4-.4-.92-.59-1.43-.59-.52 0-1.04.2-1.43.59L10.3 9.45l-7.72 7.72c-.78.78-.78 2.05 0 2.83L4 21.41c.39.39.9.59 1.41.59.51 0 1.02-.2 1.41-.59l7.78-7.78 2.81-2.81c.8-.78.8-2.07 0-2.86zM5.41 20L4 18.59l7.72-7.72 1.47 1.35L5.41 20z\"/>\n",
              "  </svg>\n",
              "      </button>\n",
              "      \n",
              "  <style>\n",
              "    .colab-df-container {\n",
              "      display:flex;\n",
              "      flex-wrap:wrap;\n",
              "      gap: 12px;\n",
              "    }\n",
              "\n",
              "    .colab-df-convert {\n",
              "      background-color: #E8F0FE;\n",
              "      border: none;\n",
              "      border-radius: 50%;\n",
              "      cursor: pointer;\n",
              "      display: none;\n",
              "      fill: #1967D2;\n",
              "      height: 32px;\n",
              "      padding: 0 0 0 0;\n",
              "      width: 32px;\n",
              "    }\n",
              "\n",
              "    .colab-df-convert:hover {\n",
              "      background-color: #E2EBFA;\n",
              "      box-shadow: 0px 1px 2px rgba(60, 64, 67, 0.3), 0px 1px 3px 1px rgba(60, 64, 67, 0.15);\n",
              "      fill: #174EA6;\n",
              "    }\n",
              "\n",
              "    [theme=dark] .colab-df-convert {\n",
              "      background-color: #3B4455;\n",
              "      fill: #D2E3FC;\n",
              "    }\n",
              "\n",
              "    [theme=dark] .colab-df-convert:hover {\n",
              "      background-color: #434B5C;\n",
              "      box-shadow: 0px 1px 3px 1px rgba(0, 0, 0, 0.15);\n",
              "      filter: drop-shadow(0px 1px 2px rgba(0, 0, 0, 0.3));\n",
              "      fill: #FFFFFF;\n",
              "    }\n",
              "  </style>\n",
              "\n",
              "      <script>\n",
              "        const buttonEl =\n",
              "          document.querySelector('#df-a6f5bf8f-ab9a-428a-bfa8-aab0e04d3d43 button.colab-df-convert');\n",
              "        buttonEl.style.display =\n",
              "          google.colab.kernel.accessAllowed ? 'block' : 'none';\n",
              "\n",
              "        async function convertToInteractive(key) {\n",
              "          const element = document.querySelector('#df-a6f5bf8f-ab9a-428a-bfa8-aab0e04d3d43');\n",
              "          const dataTable =\n",
              "            await google.colab.kernel.invokeFunction('convertToInteractive',\n",
              "                                                     [key], {});\n",
              "          if (!dataTable) return;\n",
              "\n",
              "          const docLinkHtml = 'Like what you see? Visit the ' +\n",
              "            '<a target=\"_blank\" href=https://colab.research.google.com/notebooks/data_table.ipynb>data table notebook</a>'\n",
              "            + ' to learn more about interactive tables.';\n",
              "          element.innerHTML = '';\n",
              "          dataTable['output_type'] = 'display_data';\n",
              "          await google.colab.output.renderOutput(dataTable, element);\n",
              "          const docLink = document.createElement('div');\n",
              "          docLink.innerHTML = docLinkHtml;\n",
              "          element.appendChild(docLink);\n",
              "        }\n",
              "      </script>\n",
              "    </div>\n",
              "  </div>\n",
              "  "
            ],
            "text/plain": [
              "      Name     City  Age\n",
              "0  Sarthak     Pune   18\n",
              "1    Rohan    Latur   45\n",
              "2   Akshit  Jalgaon   55"
            ]
          },
          "execution_count": 29,
          "metadata": {},
          "output_type": "execute_result"
        }
      ],
      "source": [
        "import pandas as pd\n",
        "dict1= {\n",
        "    \"Name\": ['Sarthak','Rohan','Akshit'],\n",
        "    \"City\":['Pune','Latur','Jalgaon'],\n",
        "    \"Age\":[18,45,55]\n",
        "    }\n",
        "df2=pd.DataFrame(dict1)\n",
        "df2"
      ]
    },
    {
      "cell_type": "code",
      "execution_count": null,
      "metadata": {
        "colab": {
          "base_uri": "https://localhost:8080/",
          "height": 300
        },
        "id": "-S9OfcL1FHaR",
        "outputId": "5768181d-bc1f-49ee-ff00-1fbc435243b9"
      },
      "outputs": [
        {
          "data": {
            "text/html": [
              "\n",
              "  <div id=\"df-d15982fa-02b9-4a45-a10f-fb6e775834b8\">\n",
              "    <div class=\"colab-df-container\">\n",
              "      <div>\n",
              "<style scoped>\n",
              "    .dataframe tbody tr th:only-of-type {\n",
              "        vertical-align: middle;\n",
              "    }\n",
              "\n",
              "    .dataframe tbody tr th {\n",
              "        vertical-align: top;\n",
              "    }\n",
              "\n",
              "    .dataframe thead th {\n",
              "        text-align: right;\n",
              "    }\n",
              "</style>\n",
              "<table border=\"1\" class=\"dataframe\">\n",
              "  <thead>\n",
              "    <tr style=\"text-align: right;\">\n",
              "      <th></th>\n",
              "      <th>Marks</th>\n",
              "    </tr>\n",
              "  </thead>\n",
              "  <tbody>\n",
              "    <tr>\n",
              "      <th>count</th>\n",
              "      <td>5.000000</td>\n",
              "    </tr>\n",
              "    <tr>\n",
              "      <th>mean</th>\n",
              "      <td>55.800000</td>\n",
              "    </tr>\n",
              "    <tr>\n",
              "      <th>std</th>\n",
              "      <td>25.955732</td>\n",
              "    </tr>\n",
              "    <tr>\n",
              "      <th>min</th>\n",
              "      <td>30.000000</td>\n",
              "    </tr>\n",
              "    <tr>\n",
              "      <th>25%</th>\n",
              "      <td>45.000000</td>\n",
              "    </tr>\n",
              "    <tr>\n",
              "      <th>50%</th>\n",
              "      <td>49.000000</td>\n",
              "    </tr>\n",
              "    <tr>\n",
              "      <th>75%</th>\n",
              "      <td>56.000000</td>\n",
              "    </tr>\n",
              "    <tr>\n",
              "      <th>max</th>\n",
              "      <td>99.000000</td>\n",
              "    </tr>\n",
              "  </tbody>\n",
              "</table>\n",
              "</div>\n",
              "      <button class=\"colab-df-convert\" onclick=\"convertToInteractive('df-d15982fa-02b9-4a45-a10f-fb6e775834b8')\"\n",
              "              title=\"Convert this dataframe to an interactive table.\"\n",
              "              style=\"display:none;\">\n",
              "        \n",
              "  <svg xmlns=\"http://www.w3.org/2000/svg\" height=\"24px\"viewBox=\"0 0 24 24\"\n",
              "       width=\"24px\">\n",
              "    <path d=\"M0 0h24v24H0V0z\" fill=\"none\"/>\n",
              "    <path d=\"M18.56 5.44l.94 2.06.94-2.06 2.06-.94-2.06-.94-.94-2.06-.94 2.06-2.06.94zm-11 1L8.5 8.5l.94-2.06 2.06-.94-2.06-.94L8.5 2.5l-.94 2.06-2.06.94zm10 10l.94 2.06.94-2.06 2.06-.94-2.06-.94-.94-2.06-.94 2.06-2.06.94z\"/><path d=\"M17.41 7.96l-1.37-1.37c-.4-.4-.92-.59-1.43-.59-.52 0-1.04.2-1.43.59L10.3 9.45l-7.72 7.72c-.78.78-.78 2.05 0 2.83L4 21.41c.39.39.9.59 1.41.59.51 0 1.02-.2 1.41-.59l7.78-7.78 2.81-2.81c.8-.78.8-2.07 0-2.86zM5.41 20L4 18.59l7.72-7.72 1.47 1.35L5.41 20z\"/>\n",
              "  </svg>\n",
              "      </button>\n",
              "      \n",
              "  <style>\n",
              "    .colab-df-container {\n",
              "      display:flex;\n",
              "      flex-wrap:wrap;\n",
              "      gap: 12px;\n",
              "    }\n",
              "\n",
              "    .colab-df-convert {\n",
              "      background-color: #E8F0FE;\n",
              "      border: none;\n",
              "      border-radius: 50%;\n",
              "      cursor: pointer;\n",
              "      display: none;\n",
              "      fill: #1967D2;\n",
              "      height: 32px;\n",
              "      padding: 0 0 0 0;\n",
              "      width: 32px;\n",
              "    }\n",
              "\n",
              "    .colab-df-convert:hover {\n",
              "      background-color: #E2EBFA;\n",
              "      box-shadow: 0px 1px 2px rgba(60, 64, 67, 0.3), 0px 1px 3px 1px rgba(60, 64, 67, 0.15);\n",
              "      fill: #174EA6;\n",
              "    }\n",
              "\n",
              "    [theme=dark] .colab-df-convert {\n",
              "      background-color: #3B4455;\n",
              "      fill: #D2E3FC;\n",
              "    }\n",
              "\n",
              "    [theme=dark] .colab-df-convert:hover {\n",
              "      background-color: #434B5C;\n",
              "      box-shadow: 0px 1px 3px 1px rgba(0, 0, 0, 0.15);\n",
              "      filter: drop-shadow(0px 1px 2px rgba(0, 0, 0, 0.3));\n",
              "      fill: #FFFFFF;\n",
              "    }\n",
              "  </style>\n",
              "\n",
              "      <script>\n",
              "        const buttonEl =\n",
              "          document.querySelector('#df-d15982fa-02b9-4a45-a10f-fb6e775834b8 button.colab-df-convert');\n",
              "        buttonEl.style.display =\n",
              "          google.colab.kernel.accessAllowed ? 'block' : 'none';\n",
              "\n",
              "        async function convertToInteractive(key) {\n",
              "          const element = document.querySelector('#df-d15982fa-02b9-4a45-a10f-fb6e775834b8');\n",
              "          const dataTable =\n",
              "            await google.colab.kernel.invokeFunction('convertToInteractive',\n",
              "                                                     [key], {});\n",
              "          if (!dataTable) return;\n",
              "\n",
              "          const docLinkHtml = 'Like what you see? Visit the ' +\n",
              "            '<a target=\"_blank\" href=https://colab.research.google.com/notebooks/data_table.ipynb>data table notebook</a>'\n",
              "            + ' to learn more about interactive tables.';\n",
              "          element.innerHTML = '';\n",
              "          dataTable['output_type'] = 'display_data';\n",
              "          await google.colab.output.renderOutput(dataTable, element);\n",
              "          const docLink = document.createElement('div');\n",
              "          docLink.innerHTML = docLinkHtml;\n",
              "          element.appendChild(docLink);\n",
              "        }\n",
              "      </script>\n",
              "    </div>\n",
              "  </div>\n",
              "  "
            ],
            "text/plain": [
              "           Marks\n",
              "count   5.000000\n",
              "mean   55.800000\n",
              "std    25.955732\n",
              "min    30.000000\n",
              "25%    45.000000\n",
              "50%    49.000000\n",
              "75%    56.000000\n",
              "max    99.000000"
            ]
          },
          "execution_count": 16,
          "metadata": {},
          "output_type": "execute_result"
        }
      ],
      "source": [
        "import pandas as pd\n",
        "import numpy as np\n",
        "dict1 = {\"Name\" : ['Sarthak','Ritesh','Vijay','Rohit','Om'],\n",
        "    \"Marks\":[99,30,49,45,56],\n",
        "    \"City\":['Pune','Nashik','Latur','Dharshiv','Galapagos']}\n",
        "df=pd.DataFrame(dict1)\n",
        "df.to_csv(\"friends.csv\")\n",
        "df.to_csv(\"fInfalse.csv\",index=False)\n",
        "df.describe()\n",
        "\n"
      ]
    },
    {
      "cell_type": "code",
      "execution_count": null,
      "metadata": {
        "colab": {
          "base_uri": "https://localhost:8080/"
        },
        "id": "v1mXjjjUPnyH",
        "outputId": "004d2053-3c48-488e-8f9d-34bd2dbf1cdc"
      },
      "outputs": [
        {
          "name": "stderr",
          "output_type": "stream",
          "text": [
            "<ipython-input-27-ae76ebf9bdbb>:2: SettingWithCopyWarning: \n",
            "A value is trying to be set on a copy of a slice from a DataFrame\n",
            "\n",
            "See the caveats in the documentation: https://pandas.pydata.org/pandas-docs/stable/user_guide/indexing.html#returning-a-view-versus-a-copy\n",
            "  df5[\"Income\"][0]=1000000000\n"
          ]
        }
      ],
      "source": [
        "df5=pd.read_csv(\"/content/drive/MyDrive/Timegiven.csv\")\n",
        "df5[\"Income\"][0]=1000000000\n",
        "df5\n",
        "df5.to_csv(\"Learning.csv\",index=False)"
      ]
    },
    {
      "cell_type": "code",
      "execution_count": null,
      "metadata": {
        "colab": {
          "base_uri": "https://localhost:8080/",
          "height": 294
        },
        "id": "_WYMZWLsNfYk",
        "outputId": "3ed4d142-5ffe-4b8e-bc65-06cb49692e14"
      },
      "outputs": [
        {
          "data": {
            "text/html": [
              "\n",
              "  <div id=\"df-13b6cf14-2c72-41ee-beb6-104a7698b6ba\">\n",
              "    <div class=\"colab-df-container\">\n",
              "      <div>\n",
              "<style scoped>\n",
              "    .dataframe tbody tr th:only-of-type {\n",
              "        vertical-align: middle;\n",
              "    }\n",
              "\n",
              "    .dataframe tbody tr th {\n",
              "        vertical-align: top;\n",
              "    }\n",
              "\n",
              "    .dataframe thead th {\n",
              "        text-align: right;\n",
              "    }\n",
              "</style>\n",
              "<table border=\"1\" class=\"dataframe\">\n",
              "  <thead>\n",
              "    <tr style=\"text-align: right;\">\n",
              "      <th></th>\n",
              "      <th>longitude</th>\n",
              "      <th>latitude</th>\n",
              "      <th>housing_median_age</th>\n",
              "      <th>total_rooms</th>\n",
              "      <th>total_bedrooms</th>\n",
              "      <th>population</th>\n",
              "      <th>households</th>\n",
              "      <th>median_income</th>\n",
              "      <th>median_house_value</th>\n",
              "    </tr>\n",
              "  </thead>\n",
              "  <tbody>\n",
              "    <tr>\n",
              "      <th>count</th>\n",
              "      <td>17000.000000</td>\n",
              "      <td>17000.000000</td>\n",
              "      <td>17000.000000</td>\n",
              "      <td>17000.000000</td>\n",
              "      <td>17000.000000</td>\n",
              "      <td>17000.000000</td>\n",
              "      <td>17000.000000</td>\n",
              "      <td>17000.000000</td>\n",
              "      <td>17000.000000</td>\n",
              "    </tr>\n",
              "    <tr>\n",
              "      <th>mean</th>\n",
              "      <td>-119.562108</td>\n",
              "      <td>35.625225</td>\n",
              "      <td>28.589353</td>\n",
              "      <td>2643.664412</td>\n",
              "      <td>539.410824</td>\n",
              "      <td>1429.573941</td>\n",
              "      <td>501.221941</td>\n",
              "      <td>3.883578</td>\n",
              "      <td>207300.912353</td>\n",
              "    </tr>\n",
              "    <tr>\n",
              "      <th>std</th>\n",
              "      <td>2.005166</td>\n",
              "      <td>2.137340</td>\n",
              "      <td>12.586937</td>\n",
              "      <td>2179.947071</td>\n",
              "      <td>421.499452</td>\n",
              "      <td>1147.852959</td>\n",
              "      <td>384.520841</td>\n",
              "      <td>1.908157</td>\n",
              "      <td>115983.764387</td>\n",
              "    </tr>\n",
              "    <tr>\n",
              "      <th>min</th>\n",
              "      <td>-124.350000</td>\n",
              "      <td>32.540000</td>\n",
              "      <td>1.000000</td>\n",
              "      <td>2.000000</td>\n",
              "      <td>1.000000</td>\n",
              "      <td>3.000000</td>\n",
              "      <td>1.000000</td>\n",
              "      <td>0.499900</td>\n",
              "      <td>14999.000000</td>\n",
              "    </tr>\n",
              "    <tr>\n",
              "      <th>25%</th>\n",
              "      <td>-121.790000</td>\n",
              "      <td>33.930000</td>\n",
              "      <td>18.000000</td>\n",
              "      <td>1462.000000</td>\n",
              "      <td>297.000000</td>\n",
              "      <td>790.000000</td>\n",
              "      <td>282.000000</td>\n",
              "      <td>2.566375</td>\n",
              "      <td>119400.000000</td>\n",
              "    </tr>\n",
              "    <tr>\n",
              "      <th>50%</th>\n",
              "      <td>-118.490000</td>\n",
              "      <td>34.250000</td>\n",
              "      <td>29.000000</td>\n",
              "      <td>2127.000000</td>\n",
              "      <td>434.000000</td>\n",
              "      <td>1167.000000</td>\n",
              "      <td>409.000000</td>\n",
              "      <td>3.544600</td>\n",
              "      <td>180400.000000</td>\n",
              "    </tr>\n",
              "    <tr>\n",
              "      <th>75%</th>\n",
              "      <td>-118.000000</td>\n",
              "      <td>37.720000</td>\n",
              "      <td>37.000000</td>\n",
              "      <td>3151.250000</td>\n",
              "      <td>648.250000</td>\n",
              "      <td>1721.000000</td>\n",
              "      <td>605.250000</td>\n",
              "      <td>4.767000</td>\n",
              "      <td>265000.000000</td>\n",
              "    </tr>\n",
              "    <tr>\n",
              "      <th>max</th>\n",
              "      <td>-114.310000</td>\n",
              "      <td>41.950000</td>\n",
              "      <td>52.000000</td>\n",
              "      <td>37937.000000</td>\n",
              "      <td>6445.000000</td>\n",
              "      <td>35682.000000</td>\n",
              "      <td>6082.000000</td>\n",
              "      <td>15.000100</td>\n",
              "      <td>500001.000000</td>\n",
              "    </tr>\n",
              "  </tbody>\n",
              "</table>\n",
              "</div>\n",
              "      <button class=\"colab-df-convert\" onclick=\"convertToInteractive('df-13b6cf14-2c72-41ee-beb6-104a7698b6ba')\"\n",
              "              title=\"Convert this dataframe to an interactive table.\"\n",
              "              style=\"display:none;\">\n",
              "        \n",
              "  <svg xmlns=\"http://www.w3.org/2000/svg\" height=\"24px\"viewBox=\"0 0 24 24\"\n",
              "       width=\"24px\">\n",
              "    <path d=\"M0 0h24v24H0V0z\" fill=\"none\"/>\n",
              "    <path d=\"M18.56 5.44l.94 2.06.94-2.06 2.06-.94-2.06-.94-.94-2.06-.94 2.06-2.06.94zm-11 1L8.5 8.5l.94-2.06 2.06-.94-2.06-.94L8.5 2.5l-.94 2.06-2.06.94zm10 10l.94 2.06.94-2.06 2.06-.94-2.06-.94-.94-2.06-.94 2.06-2.06.94z\"/><path d=\"M17.41 7.96l-1.37-1.37c-.4-.4-.92-.59-1.43-.59-.52 0-1.04.2-1.43.59L10.3 9.45l-7.72 7.72c-.78.78-.78 2.05 0 2.83L4 21.41c.39.39.9.59 1.41.59.51 0 1.02-.2 1.41-.59l7.78-7.78 2.81-2.81c.8-.78.8-2.07 0-2.86zM5.41 20L4 18.59l7.72-7.72 1.47 1.35L5.41 20z\"/>\n",
              "  </svg>\n",
              "      </button>\n",
              "      \n",
              "  <style>\n",
              "    .colab-df-container {\n",
              "      display:flex;\n",
              "      flex-wrap:wrap;\n",
              "      gap: 12px;\n",
              "    }\n",
              "\n",
              "    .colab-df-convert {\n",
              "      background-color: #E8F0FE;\n",
              "      border: none;\n",
              "      border-radius: 50%;\n",
              "      cursor: pointer;\n",
              "      display: none;\n",
              "      fill: #1967D2;\n",
              "      height: 32px;\n",
              "      padding: 0 0 0 0;\n",
              "      width: 32px;\n",
              "    }\n",
              "\n",
              "    .colab-df-convert:hover {\n",
              "      background-color: #E2EBFA;\n",
              "      box-shadow: 0px 1px 2px rgba(60, 64, 67, 0.3), 0px 1px 3px 1px rgba(60, 64, 67, 0.15);\n",
              "      fill: #174EA6;\n",
              "    }\n",
              "\n",
              "    [theme=dark] .colab-df-convert {\n",
              "      background-color: #3B4455;\n",
              "      fill: #D2E3FC;\n",
              "    }\n",
              "\n",
              "    [theme=dark] .colab-df-convert:hover {\n",
              "      background-color: #434B5C;\n",
              "      box-shadow: 0px 1px 3px 1px rgba(0, 0, 0, 0.15);\n",
              "      filter: drop-shadow(0px 1px 2px rgba(0, 0, 0, 0.3));\n",
              "      fill: #FFFFFF;\n",
              "    }\n",
              "  </style>\n",
              "\n",
              "      <script>\n",
              "        const buttonEl =\n",
              "          document.querySelector('#df-13b6cf14-2c72-41ee-beb6-104a7698b6ba button.colab-df-convert');\n",
              "        buttonEl.style.display =\n",
              "          google.colab.kernel.accessAllowed ? 'block' : 'none';\n",
              "\n",
              "        async function convertToInteractive(key) {\n",
              "          const element = document.querySelector('#df-13b6cf14-2c72-41ee-beb6-104a7698b6ba');\n",
              "          const dataTable =\n",
              "            await google.colab.kernel.invokeFunction('convertToInteractive',\n",
              "                                                     [key], {});\n",
              "          if (!dataTable) return;\n",
              "\n",
              "          const docLinkHtml = 'Like what you see? Visit the ' +\n",
              "            '<a target=\"_blank\" href=https://colab.research.google.com/notebooks/data_table.ipynb>data table notebook</a>'\n",
              "            + ' to learn more about interactive tables.';\n",
              "          element.innerHTML = '';\n",
              "          dataTable['output_type'] = 'display_data';\n",
              "          await google.colab.output.renderOutput(dataTable, element);\n",
              "          const docLink = document.createElement('div');\n",
              "          docLink.innerHTML = docLinkHtml;\n",
              "          element.appendChild(docLink);\n",
              "        }\n",
              "      </script>\n",
              "    </div>\n",
              "  </div>\n",
              "  "
            ],
            "text/plain": [
              "          longitude      latitude  housing_median_age   total_rooms  \\\n",
              "count  17000.000000  17000.000000        17000.000000  17000.000000   \n",
              "mean    -119.562108     35.625225           28.589353   2643.664412   \n",
              "std        2.005166      2.137340           12.586937   2179.947071   \n",
              "min     -124.350000     32.540000            1.000000      2.000000   \n",
              "25%     -121.790000     33.930000           18.000000   1462.000000   \n",
              "50%     -118.490000     34.250000           29.000000   2127.000000   \n",
              "75%     -118.000000     37.720000           37.000000   3151.250000   \n",
              "max     -114.310000     41.950000           52.000000  37937.000000   \n",
              "\n",
              "       total_bedrooms    population    households  median_income  \\\n",
              "count    17000.000000  17000.000000  17000.000000   17000.000000   \n",
              "mean       539.410824   1429.573941    501.221941       3.883578   \n",
              "std        421.499452   1147.852959    384.520841       1.908157   \n",
              "min          1.000000      3.000000      1.000000       0.499900   \n",
              "25%        297.000000    790.000000    282.000000       2.566375   \n",
              "50%        434.000000   1167.000000    409.000000       3.544600   \n",
              "75%        648.250000   1721.000000    605.250000       4.767000   \n",
              "max       6445.000000  35682.000000   6082.000000      15.000100   \n",
              "\n",
              "       median_house_value  \n",
              "count        17000.000000  \n",
              "mean        207300.912353  \n",
              "std         115983.764387  \n",
              "min          14999.000000  \n",
              "25%         119400.000000  \n",
              "50%         180400.000000  \n",
              "75%         265000.000000  \n",
              "max         500001.000000  "
            ]
          },
          "execution_count": 17,
          "metadata": {},
          "output_type": "execute_result"
        }
      ],
      "source": [
        "import pandas as pd\n",
        "cs=pd.read_csv(r'/content/sample_data/california_housing_train.csv')\n",
        "cs.describe()\n",
        "\n"
      ]
    },
    {
      "cell_type": "code",
      "execution_count": null,
      "metadata": {
        "id": "cDRv_9RJToM8"
      },
      "outputs": [],
      "source": []
    },
    {
      "cell_type": "code",
      "execution_count": null,
      "metadata": {
        "colab": {
          "base_uri": "https://localhost:8080/",
          "height": 294
        },
        "id": "GPnjv0YkUcGy",
        "outputId": "3ed4d142-5ffe-4b8e-bc65-06cb49692e14"
      },
      "outputs": [
        {
          "data": {
            "text/html": [
              "\n",
              "  <div id=\"df-13b6cf14-2c72-41ee-beb6-104a7698b6ba\">\n",
              "    <div class=\"colab-df-container\">\n",
              "      <div>\n",
              "<style scoped>\n",
              "    .dataframe tbody tr th:only-of-type {\n",
              "        vertical-align: middle;\n",
              "    }\n",
              "\n",
              "    .dataframe tbody tr th {\n",
              "        vertical-align: top;\n",
              "    }\n",
              "\n",
              "    .dataframe thead th {\n",
              "        text-align: right;\n",
              "    }\n",
              "</style>\n",
              "<table border=\"1\" class=\"dataframe\">\n",
              "  <thead>\n",
              "    <tr style=\"text-align: right;\">\n",
              "      <th></th>\n",
              "      <th>longitude</th>\n",
              "      <th>latitude</th>\n",
              "      <th>housing_median_age</th>\n",
              "      <th>total_rooms</th>\n",
              "      <th>total_bedrooms</th>\n",
              "      <th>population</th>\n",
              "      <th>households</th>\n",
              "      <th>median_income</th>\n",
              "      <th>median_house_value</th>\n",
              "    </tr>\n",
              "  </thead>\n",
              "  <tbody>\n",
              "    <tr>\n",
              "      <th>count</th>\n",
              "      <td>17000.000000</td>\n",
              "      <td>17000.000000</td>\n",
              "      <td>17000.000000</td>\n",
              "      <td>17000.000000</td>\n",
              "      <td>17000.000000</td>\n",
              "      <td>17000.000000</td>\n",
              "      <td>17000.000000</td>\n",
              "      <td>17000.000000</td>\n",
              "      <td>17000.000000</td>\n",
              "    </tr>\n",
              "    <tr>\n",
              "      <th>mean</th>\n",
              "      <td>-119.562108</td>\n",
              "      <td>35.625225</td>\n",
              "      <td>28.589353</td>\n",
              "      <td>2643.664412</td>\n",
              "      <td>539.410824</td>\n",
              "      <td>1429.573941</td>\n",
              "      <td>501.221941</td>\n",
              "      <td>3.883578</td>\n",
              "      <td>207300.912353</td>\n",
              "    </tr>\n",
              "    <tr>\n",
              "      <th>std</th>\n",
              "      <td>2.005166</td>\n",
              "      <td>2.137340</td>\n",
              "      <td>12.586937</td>\n",
              "      <td>2179.947071</td>\n",
              "      <td>421.499452</td>\n",
              "      <td>1147.852959</td>\n",
              "      <td>384.520841</td>\n",
              "      <td>1.908157</td>\n",
              "      <td>115983.764387</td>\n",
              "    </tr>\n",
              "    <tr>\n",
              "      <th>min</th>\n",
              "      <td>-124.350000</td>\n",
              "      <td>32.540000</td>\n",
              "      <td>1.000000</td>\n",
              "      <td>2.000000</td>\n",
              "      <td>1.000000</td>\n",
              "      <td>3.000000</td>\n",
              "      <td>1.000000</td>\n",
              "      <td>0.499900</td>\n",
              "      <td>14999.000000</td>\n",
              "    </tr>\n",
              "    <tr>\n",
              "      <th>25%</th>\n",
              "      <td>-121.790000</td>\n",
              "      <td>33.930000</td>\n",
              "      <td>18.000000</td>\n",
              "      <td>1462.000000</td>\n",
              "      <td>297.000000</td>\n",
              "      <td>790.000000</td>\n",
              "      <td>282.000000</td>\n",
              "      <td>2.566375</td>\n",
              "      <td>119400.000000</td>\n",
              "    </tr>\n",
              "    <tr>\n",
              "      <th>50%</th>\n",
              "      <td>-118.490000</td>\n",
              "      <td>34.250000</td>\n",
              "      <td>29.000000</td>\n",
              "      <td>2127.000000</td>\n",
              "      <td>434.000000</td>\n",
              "      <td>1167.000000</td>\n",
              "      <td>409.000000</td>\n",
              "      <td>3.544600</td>\n",
              "      <td>180400.000000</td>\n",
              "    </tr>\n",
              "    <tr>\n",
              "      <th>75%</th>\n",
              "      <td>-118.000000</td>\n",
              "      <td>37.720000</td>\n",
              "      <td>37.000000</td>\n",
              "      <td>3151.250000</td>\n",
              "      <td>648.250000</td>\n",
              "      <td>1721.000000</td>\n",
              "      <td>605.250000</td>\n",
              "      <td>4.767000</td>\n",
              "      <td>265000.000000</td>\n",
              "    </tr>\n",
              "    <tr>\n",
              "      <th>max</th>\n",
              "      <td>-114.310000</td>\n",
              "      <td>41.950000</td>\n",
              "      <td>52.000000</td>\n",
              "      <td>37937.000000</td>\n",
              "      <td>6445.000000</td>\n",
              "      <td>35682.000000</td>\n",
              "      <td>6082.000000</td>\n",
              "      <td>15.000100</td>\n",
              "      <td>500001.000000</td>\n",
              "    </tr>\n",
              "  </tbody>\n",
              "</table>\n",
              "</div>\n",
              "      <button class=\"colab-df-convert\" onclick=\"convertToInteractive('df-13b6cf14-2c72-41ee-beb6-104a7698b6ba')\"\n",
              "              title=\"Convert this dataframe to an interactive table.\"\n",
              "              style=\"display:none;\">\n",
              "        \n",
              "  <svg xmlns=\"http://www.w3.org/2000/svg\" height=\"24px\"viewBox=\"0 0 24 24\"\n",
              "       width=\"24px\">\n",
              "    <path d=\"M0 0h24v24H0V0z\" fill=\"none\"/>\n",
              "    <path d=\"M18.56 5.44l.94 2.06.94-2.06 2.06-.94-2.06-.94-.94-2.06-.94 2.06-2.06.94zm-11 1L8.5 8.5l.94-2.06 2.06-.94-2.06-.94L8.5 2.5l-.94 2.06-2.06.94zm10 10l.94 2.06.94-2.06 2.06-.94-2.06-.94-.94-2.06-.94 2.06-2.06.94z\"/><path d=\"M17.41 7.96l-1.37-1.37c-.4-.4-.92-.59-1.43-.59-.52 0-1.04.2-1.43.59L10.3 9.45l-7.72 7.72c-.78.78-.78 2.05 0 2.83L4 21.41c.39.39.9.59 1.41.59.51 0 1.02-.2 1.41-.59l7.78-7.78 2.81-2.81c.8-.78.8-2.07 0-2.86zM5.41 20L4 18.59l7.72-7.72 1.47 1.35L5.41 20z\"/>\n",
              "  </svg>\n",
              "      </button>\n",
              "      \n",
              "  <style>\n",
              "    .colab-df-container {\n",
              "      display:flex;\n",
              "      flex-wrap:wrap;\n",
              "      gap: 12px;\n",
              "    }\n",
              "\n",
              "    .colab-df-convert {\n",
              "      background-color: #E8F0FE;\n",
              "      border: none;\n",
              "      border-radius: 50%;\n",
              "      cursor: pointer;\n",
              "      display: none;\n",
              "      fill: #1967D2;\n",
              "      height: 32px;\n",
              "      padding: 0 0 0 0;\n",
              "      width: 32px;\n",
              "    }\n",
              "\n",
              "    .colab-df-convert:hover {\n",
              "      background-color: #E2EBFA;\n",
              "      box-shadow: 0px 1px 2px rgba(60, 64, 67, 0.3), 0px 1px 3px 1px rgba(60, 64, 67, 0.15);\n",
              "      fill: #174EA6;\n",
              "    }\n",
              "\n",
              "    [theme=dark] .colab-df-convert {\n",
              "      background-color: #3B4455;\n",
              "      fill: #D2E3FC;\n",
              "    }\n",
              "\n",
              "    [theme=dark] .colab-df-convert:hover {\n",
              "      background-color: #434B5C;\n",
              "      box-shadow: 0px 1px 3px 1px rgba(0, 0, 0, 0.15);\n",
              "      filter: drop-shadow(0px 1px 2px rgba(0, 0, 0, 0.3));\n",
              "      fill: #FFFFFF;\n",
              "    }\n",
              "  </style>\n",
              "\n",
              "      <script>\n",
              "        const buttonEl =\n",
              "          document.querySelector('#df-13b6cf14-2c72-41ee-beb6-104a7698b6ba button.colab-df-convert');\n",
              "        buttonEl.style.display =\n",
              "          google.colab.kernel.accessAllowed ? 'block' : 'none';\n",
              "\n",
              "        async function convertToInteractive(key) {\n",
              "          const element = document.querySelector('#df-13b6cf14-2c72-41ee-beb6-104a7698b6ba');\n",
              "          const dataTable =\n",
              "            await google.colab.kernel.invokeFunction('convertToInteractive',\n",
              "                                                     [key], {});\n",
              "          if (!dataTable) return;\n",
              "\n",
              "          const docLinkHtml = 'Like what you see? Visit the ' +\n",
              "            '<a target=\"_blank\" href=https://colab.research.google.com/notebooks/data_table.ipynb>data table notebook</a>'\n",
              "            + ' to learn more about interactive tables.';\n",
              "          element.innerHTML = '';\n",
              "          dataTable['output_type'] = 'display_data';\n",
              "          await google.colab.output.renderOutput(dataTable, element);\n",
              "          const docLink = document.createElement('div');\n",
              "          docLink.innerHTML = docLinkHtml;\n",
              "          element.appendChild(docLink);\n",
              "        }\n",
              "      </script>\n",
              "    </div>\n",
              "  </div>\n",
              "  "
            ],
            "text/plain": [
              "          longitude      latitude  housing_median_age   total_rooms  \\\n",
              "count  17000.000000  17000.000000        17000.000000  17000.000000   \n",
              "mean    -119.562108     35.625225           28.589353   2643.664412   \n",
              "std        2.005166      2.137340           12.586937   2179.947071   \n",
              "min     -124.350000     32.540000            1.000000      2.000000   \n",
              "25%     -121.790000     33.930000           18.000000   1462.000000   \n",
              "50%     -118.490000     34.250000           29.000000   2127.000000   \n",
              "75%     -118.000000     37.720000           37.000000   3151.250000   \n",
              "max     -114.310000     41.950000           52.000000  37937.000000   \n",
              "\n",
              "       total_bedrooms    population    households  median_income  \\\n",
              "count    17000.000000  17000.000000  17000.000000   17000.000000   \n",
              "mean       539.410824   1429.573941    501.221941       3.883578   \n",
              "std        421.499452   1147.852959    384.520841       1.908157   \n",
              "min          1.000000      3.000000      1.000000       0.499900   \n",
              "25%        297.000000    790.000000    282.000000       2.566375   \n",
              "50%        434.000000   1167.000000    409.000000       3.544600   \n",
              "75%        648.250000   1721.000000    605.250000       4.767000   \n",
              "max       6445.000000  35682.000000   6082.000000      15.000100   \n",
              "\n",
              "       median_house_value  \n",
              "count        17000.000000  \n",
              "mean        207300.912353  \n",
              "std         115983.764387  \n",
              "min          14999.000000  \n",
              "25%         119400.000000  \n",
              "50%         180400.000000  \n",
              "75%         265000.000000  \n",
              "max         500001.000000  "
            ]
          },
          "execution_count": 17,
          "metadata": {},
          "output_type": "execute_result"
        }
      ],
      "source": [
        "import pandas as pd\n",
        "cs=pd.read_csv(r'/content/sample_data/california_housing_train.csv')\n",
        "cs.describe()\n",
        "\n"
      ]
    },
    {
      "cell_type": "code",
      "execution_count": null,
      "metadata": {
        "colab": {
          "base_uri": "https://localhost:8080/"
        },
        "id": "TAcWlRbqTLej",
        "outputId": "41509bb7-0b49-4065-e4c9-80b0b28b008d"
      },
      "outputs": [
        {
          "name": "stdout",
          "output_type": "stream",
          "text": [
            "<class 'pandas.core.frame.DataFrame'>\n",
            "RangeIndex: 17000 entries, 0 to 16999\n",
            "Data columns (total 9 columns):\n",
            " #   Column              Non-Null Count  Dtype  \n",
            "---  ------              --------------  -----  \n",
            " 0   longitude           17000 non-null  float64\n",
            " 1   latitude            17000 non-null  float64\n",
            " 2   housing_median_age  17000 non-null  float64\n",
            " 3   total_rooms         17000 non-null  float64\n",
            " 4   total_bedrooms      17000 non-null  float64\n",
            " 5   population          17000 non-null  float64\n",
            " 6   households          17000 non-null  float64\n",
            " 7   median_income       17000 non-null  float64\n",
            " 8   median_house_value  17000 non-null  float64\n",
            "dtypes: float64(9)\n",
            "memory usage: 1.2 MB\n"
          ]
        }
      ],
      "source": [
        "cs.info()"
      ]
    },
    {
      "cell_type": "code",
      "execution_count": null,
      "metadata": {
        "colab": {
          "base_uri": "https://localhost:8080/"
        },
        "id": "XkG_llEYnA2C",
        "outputId": "7b2fe50b-050a-4ab0-c962-812dde9e9ad8"
      },
      "outputs": [
        {
          "name": "stdout",
          "output_type": "stream",
          "text": [
            "125\n",
            "1000\n",
            "314.0\n",
            "200\n",
            "100\n",
            "4186.666666666667\n"
          ]
        }
      ],
      "source": [
        "# Write a lambda function to calculate cube\n",
        "cube= lambda num:num*num*num\n",
        "print(cube(5))\n",
        "print(cube(10))\n",
        "#write a lambda function to find area of circle\n",
        "area= lambda radius:3.14*radius*radius\n",
        "print(area(10))\n",
        "#write a lambda function to find area of rectangle\n",
        "rec_area=lambda l,b: l*b\n",
        "print(rec_area(10,20))\n",
        "# write a lambda function to calculate area of square\n",
        "sq_area = lambda side:side*side\n",
        "print(sq_area(10))\n",
        "#Write a lam\n",
        "vol=lambda r:(4/3)*3.14*r*r*r\n",
        "print(vol(10))"
      ]
    },
    {
      "cell_type": "code",
      "execution_count": null,
      "metadata": {
        "colab": {
          "base_uri": "https://localhost:8080/"
        },
        "id": "uyxssyqHup6k",
        "outputId": "5fb3a9d3-bfe5-4f16-d3b8-fc1cca2ddfd7"
      },
      "outputs": [
        {
          "name": "stdout",
          "output_type": "stream",
          "text": [
            "{'Sarthak': 100, 'Adolf': 1000}\n",
            "2\n",
            "{'Sarthak': 100, 'Adolf': 1000, 'Elon': 999}\n",
            "dict_keys(['Sarthak', 'Adolf', 'Elon'])\n",
            "dict_values([100, 1000, 999])\n",
            "{'Sarthak': 100, 'Elon': 999}\n"
          ]
        }
      ],
      "source": [
        "# Playing with Dictionaries\n",
        "dict1={\"Sarthak\": 100,\"Adolf\":1000}\n",
        "print(dict1)\n",
        "print(dict1.__len__())\n",
        "dict1.update({\"Elon\": 999})\n",
        "print(dict1)\n",
        "print(dict1.keys())\n",
        "print(dict1.values())\n",
        "dict1.pop(\"Adolf\")\n",
        "print(dict1)\n"
      ]
    },
    {
      "cell_type": "code",
      "execution_count": null,
      "metadata": {
        "colab": {
          "base_uri": "https://localhost:8080/"
        },
        "id": "f0RPyWULwsKd",
        "outputId": "a1ace1f2-8fa2-49ca-bffc-8837001d7bf5"
      },
      "outputs": [
        {
          "name": "stdout",
          "output_type": "stream",
          "text": [
            "      Name  Marks       City\n",
            "0  Sarthak     99       Pune\n",
            "1   Ritesh     30     Nashik\n",
            "2    Vijay     98      Latur\n",
            "3    Rohit     99   Dharshiv\n",
            "4       Om     99  Galapagos\n",
            "dict_values([['Sarthak', 'Ritesh', 'Vijay', 'Rohit', 'Om'], [99, 30, 98, 99, 99], ['Pune', 'Nashik', 'Latur', 'Dharshiv', 'Galapagos']])\n",
            "{'Name': ['Sarthak', 'Ritesh', 'Vijay', 'Rohit', 'Om'], 'Marks': [99, 30, 98, 99, 99], 'City': ['Pune', 'Nashik', 'Latur', 'Dharshiv', 'Galapagos'], 'age': [12, 45, 66, 50, 88]}\n"
          ]
        }
      ],
      "source": [
        "import pandas as pd\n",
        "\n",
        "dict2 = {\"Name\" : ['Sarthak','Ritesh','Vijay','Rohit','Om'],\n",
        "    \"Marks\":[99,30,98,99,99],\n",
        "    \"City\":['Pune','Nashik','Latur','Dharshiv','Galapagos']}\n",
        "df=pd.DataFrame(dict2)\n",
        "print(df)\n",
        "print(dict2.values())\n",
        "dict2.update({\"age\":[12,45,66,50,88]})\n",
        "print(dict2)\n"
      ]
    },
    {
      "cell_type": "code",
      "execution_count": null,
      "metadata": {
        "id": "o-bX_qgViqRu"
      },
      "outputs": [],
      "source": []
    },
    {
      "cell_type": "code",
      "source": [
        "list1 = [2,3,4,5,6]\n",
        "\n",
        "print(list1)\n",
        "list1[0] = 5\n",
        "print(list1)\n",
        "list1.append(69)\n",
        "list1\n",
        "list1.extend([\"suresh\",\"rushi\"])\n",
        "list1\n",
        "list1.insert(2,90)\n",
        "list1\n"
      ],
      "metadata": {
        "colab": {
          "base_uri": "https://localhost:8080/",
          "height": 252
        },
        "id": "_mKzuqiSkCO_",
        "outputId": "fadef425-bc9d-458e-a159-10b69a7ed8f1"
      },
      "execution_count": null,
      "outputs": [
        {
          "output_type": "stream",
          "name": "stdout",
          "text": [
            "[2, 3, 4, 5, 6]\n",
            "[5, 3, 4, 5, 6]\n"
          ]
        },
        {
          "output_type": "error",
          "ename": "AttributeError",
          "evalue": "ignored",
          "traceback": [
            "\u001b[0;31m---------------------------------------------------------------------------\u001b[0m",
            "\u001b[0;31mAttributeError\u001b[0m                            Traceback (most recent call last)",
            "\u001b[0;32m<ipython-input-10-3b9f3e8fc785>\u001b[0m in \u001b[0;36m<cell line: 12>\u001b[0;34m()\u001b[0m\n\u001b[1;32m     10\u001b[0m \u001b[0mlist1\u001b[0m\u001b[0;34m.\u001b[0m\u001b[0minsert\u001b[0m\u001b[0;34m(\u001b[0m\u001b[0;36m2\u001b[0m\u001b[0;34m,\u001b[0m\u001b[0;36m90\u001b[0m\u001b[0;34m)\u001b[0m\u001b[0;34m\u001b[0m\u001b[0;34m\u001b[0m\u001b[0m\n\u001b[1;32m     11\u001b[0m \u001b[0mlist1\u001b[0m\u001b[0;34m\u001b[0m\u001b[0;34m\u001b[0m\u001b[0m\n\u001b[0;32m---> 12\u001b[0;31m \u001b[0mlist1\u001b[0m\u001b[0;34m.\u001b[0m\u001b[0mdiscard\u001b[0m\u001b[0;34m(\u001b[0m\u001b[0;36m56\u001b[0m\u001b[0;34m)\u001b[0m\u001b[0;34m\u001b[0m\u001b[0;34m\u001b[0m\u001b[0m\n\u001b[0m\u001b[1;32m     13\u001b[0m \u001b[0mlist1\u001b[0m\u001b[0;34m\u001b[0m\u001b[0;34m\u001b[0m\u001b[0m\n",
            "\u001b[0;31mAttributeError\u001b[0m: 'list' object has no attribute 'discard'"
          ]
        }
      ]
    },
    {
      "cell_type": "code",
      "execution_count": null,
      "metadata": {
        "colab": {
          "base_uri": "https://localhost:8080/"
        },
        "id": "AxoFj2ifmriv",
        "outputId": "51bdf2a2-92e8-4060-cb19-815c08931177"
      },
      "outputs": [
        {
          "name": "stdout",
          "output_type": "stream",
          "text": [
            "[2, 5, 1, 8, 4, 9]\n",
            "[2, 5, 1, 8, 4, 9, 3, 7]\n",
            "[2, 5, 1, 6, 8, 4, 9, 3, 7]\n",
            "[2, 5, 1, 6, 8, 9, 3, 7]\n",
            "7\n",
            "[2, 5, 1, 6, 8, 9, 3]\n",
            "0\n",
            "[]\n",
            "[0, 0, 0, 0, 0]\n",
            "[0, 0, 0, 0, 0]\n",
            "[0, 0, 0, 0, 0]\n",
            "0\n",
            "[0, 0, 0, 0, 0]\n"
          ]
        }
      ],
      "source": [
        "# Create a list of numbers\n",
        "numbers = [2, 5, 1, 8, 4]\n",
        "\n",
        "# Append an element to the end of the list\n",
        "numbers.append(9)\n",
        "print(numbers)\n",
        "\n",
        "# Extend the list with another list\n",
        "numbers.extend([3, 7])\n",
        "print(numbers)\n",
        "\n",
        "# Insert an element at a specific position in the list\n",
        "numbers.insert(3, 6)\n",
        "print(numbers)\n",
        "\n",
        "# Remove the first occurrence of an element from the list\n",
        "numbers.remove(4)\n",
        "print(numbers)\n",
        "\n",
        "# Pop an element from the list (remove and return the last element by default)\n",
        "popped_element = numbers.pop()\n",
        "print(popped_element)\n",
        "print(numbers)\n",
        "index_of_2 = numbers.index(2)\n",
        "print(index_of_2)\n",
        "# Clear all elements from the list\n",
        "numbers.clear()\n",
        "print(numbers)\n",
        "\n",
        "# Fill the list with a specific value\n",
        "numbers = [0] * 5\n",
        "print(numbers)\n",
        "\n",
        "# Reverse the order of the elements in the list\n",
        "numbers.reverse()\n",
        "print(numbers)\n",
        "\n",
        "# Sort the elements in the list in ascending order\n",
        "numbers.sort()\n",
        "print(numbers)\n",
        "\n",
        "# Count the number of occurrences of an element in the list\n",
        "count_of_5 = numbers.count(5)\n",
        "print(count_of_5)\n",
        "\n",
        "# Get the index of the first occurrence of an element in the list\n",
        "# index_of_2 = numbers.index(2)\n",
        "# print(index_of_2)\n",
        "\n",
        "# Copy the list to a new list (not just a reference)\n",
        "new_numbers = numbers.copy()\n",
        "print(new_numbers)\n"
      ]
    },
    {
      "cell_type": "code",
      "execution_count": null,
      "metadata": {
        "id": "9IQWxK0jQqCQ"
      },
      "outputs": [],
      "source": [
        "from google.colab import drive\n",
        "drive.mount('/content/drive')"
      ]
    },
    {
      "cell_type": "code",
      "execution_count": null,
      "metadata": {
        "colab": {
          "base_uri": "https://localhost:8080/"
        },
        "id": "ex29z6SlQtB5",
        "outputId": "ce691787-94d4-4931-df05-79449edc89d6"
      },
      "outputs": [
        {
          "name": "stdout",
          "output_type": "stream",
          "text": [
            "       6  0  0.1  0.2  0.3  0.4  0.5  0.6  0.7  0.8  ...  0.581  0.582  0.583  \\\n",
            "0      5  0    0    0    0    0    0    0    0    0  ...      0      0      0   \n",
            "1      7  0    0    0    0    0    0    0    0    0  ...      0      0      0   \n",
            "2      9  0    0    0    0    0    0    0    0    0  ...      0      0      0   \n",
            "3      5  0    0    0    0    0    0    0    0    0  ...      0      0      0   \n",
            "4      2  0    0    0    0    0    0    0    0    0  ...      0      0      0   \n",
            "...   .. ..  ...  ...  ...  ...  ...  ...  ...  ...  ...    ...    ...    ...   \n",
            "19994  0  0    0    0    0    0    0    0    0    0  ...      0      0      0   \n",
            "19995  1  0    0    0    0    0    0    0    0    0  ...      0      0      0   \n",
            "19996  2  0    0    0    0    0    0    0    0    0  ...      0      0      0   \n",
            "19997  9  0    0    0    0    0    0    0    0    0  ...      0      0      0   \n",
            "19998  5  0    0    0    0    0    0    0    0    0  ...      0      0      0   \n",
            "\n",
            "       0.584  0.585  0.586  0.587  0.588  0.589  0.590  \n",
            "0          0      0      0      0      0      0      0  \n",
            "1          0      0      0      0      0      0      0  \n",
            "2          0      0      0      0      0      0      0  \n",
            "3          0      0      0      0      0      0      0  \n",
            "4          0      0      0      0      0      0      0  \n",
            "...      ...    ...    ...    ...    ...    ...    ...  \n",
            "19994      0      0      0      0      0      0      0  \n",
            "19995      0      0      0      0      0      0      0  \n",
            "19996      0      0      0      0      0      0      0  \n",
            "19997      0      0      0      0      0      0      0  \n",
            "19998      0      0      0      0      0      0      0  \n",
            "\n",
            "[19999 rows x 785 columns]\n"
          ]
        }
      ],
      "source": [
        "import pandas as pd\n",
        "df=pd.read_csv(\"/content/sample_data/mnist_train_small.csv\")\n",
        "print(df)"
      ]
    },
    {
      "cell_type": "code",
      "execution_count": null,
      "metadata": {
        "colab": {
          "base_uri": "https://localhost:8080/",
          "height": 406
        },
        "id": "M3pMzMYqRr3T",
        "outputId": "f7769dca-ddab-431e-e14a-c6670bfedc31"
      },
      "outputs": [
        {
          "data": {
            "image/png": "[encoded data removed]",
            "text/plain": [
              "<Figure size 640x480 with 1 Axes>"
            ]
          },
          "metadata": {},
          "output_type": "display_data"
        }
      ],
      "source": [
        "import pandas as pd\n",
        "import matplotlib.pyplot as plt\n",
        "file =pd.read_excel(\"/content/piemaking.xlsx\")\n",
        "plt.pie(file[\"Age\"],labels=file['Employee Name'])\n",
        "plt.show()"
      ]
    },
    {
      "cell_type": "code",
      "execution_count": null,
      "metadata": {
        "colab": {
          "base_uri": "https://localhost:8080/"
        },
        "id": "4gZDf8OacXuh",
        "outputId": "a052bae5-8a64-477f-d972-ceb14e901434"
      },
      "outputs": [
        {
          "name": "stdout",
          "output_type": "stream",
          "text": [
            "{70, 40, 50, 60, 30}\n"
          ]
        }
      ],
      "source": [
        "#set operations\n",
        "s1={30,60,50,40}\n",
        "s2={50,80,90,20,10}\n",
        "s1.add(70)\n",
        "print(s1)\n"
      ]
    },
    {
      "cell_type": "code",
      "execution_count": null,
      "metadata": {
        "colab": {
          "base_uri": "https://localhost:8080/"
        },
        "id": "_2HAE_WBdA33",
        "outputId": "c4eb4ac4-276c-4af5-c98f-0a15d64c3e94"
      },
      "outputs": [
        {
          "name": "stdout",
          "output_type": "stream",
          "text": [
            "{80, 50, 20, 90, 40, 10, 30}\n"
          ]
        }
      ],
      "source": [
        "s2.update((30,40))\n",
        "print(s2)"
      ]
    },
    {
      "cell_type": "code",
      "execution_count": null,
      "metadata": {
        "colab": {
          "base_uri": "https://localhost:8080/"
        },
        "id": "I8Y5Le_fdULf",
        "outputId": "5645d2fa-658e-45a2-c80a-1875c411510d"
      },
      "outputs": [
        {
          "name": "stdout",
          "output_type": "stream",
          "text": [
            "{70, 40, 60, 30}\n"
          ]
        }
      ],
      "source": [
        "s1.remove(50)\n",
        "print(s1)"
      ]
    },
    {
      "cell_type": "code",
      "execution_count": null,
      "metadata": {
        "colab": {
          "base_uri": "https://localhost:8080/"
        },
        "id": "jwGRyuSadcqY",
        "outputId": "cad05ae3-4951-4ae5-c663-cd516adc90d3"
      },
      "outputs": [
        {
          "name": "stdout",
          "output_type": "stream",
          "text": [
            "{80, 50, 20, 90, 40, 10, 30}\n"
          ]
        }
      ],
      "source": [
        "s2.discard(60)\n",
        "print(s2)"
      ]
    },
    {
      "cell_type": "code",
      "execution_count": null,
      "metadata": {
        "colab": {
          "base_uri": "https://localhost:8080/"
        },
        "id": "q560VuNBduHD",
        "outputId": "15783c13-d12e-4fd5-afa8-8e82ba7d72c5"
      },
      "outputs": [
        {
          "name": "stdout",
          "output_type": "stream",
          "text": [
            "{70, 40, 10, 80, 50, 20, 90, 60, 30}\n",
            "{40, 30}\n",
            "{10, 80, 50, 20, 90}\n",
            "{70, 10, 80, 50, 20, 90, 60}\n"
          ]
        }
      ],
      "source": [
        "#union\n",
        "a=s1|s2\n",
        "print(a)\n",
        "#intersection\n",
        "b=s1&s2\n",
        "print(b)\n",
        "#subtraction\n",
        "c=s2-s1\n",
        "print(c)\n",
        "#symmetric difference\n",
        "d=s2^s1\n",
        "print(d)"
      ]
    },
    {
      "cell_type": "code",
      "execution_count": null,
      "metadata": {
        "colab": {
          "base_uri": "https://localhost:8080/"
        },
        "id": "4UJPZQ5oexss",
        "outputId": "385cfa5c-ffac-4404-aa0e-c0be48d7c040"
      },
      "outputs": [
        {
          "name": "stdout",
          "output_type": "stream",
          "text": [
            "{'shakira', 'gal gadot', 'aishwarya', 'shraddha', 'samantha', 'rashmika', 'zendaya', 'scarlettjohannson', 'priyankachopra'}\n",
            "{'priyankachopra'}\n",
            "{'aishwarya', 'shraddha', 'samantha', 'rashmika'}\n",
            "{'shakira', 'scarlettjohannson', 'gal gadot', 'zendaya'}\n",
            "{'aishwarya', 'samantha', 'shakira', 'gal gadot', 'shraddha', 'zendaya', 'rashmika', 'scarlettjohannson'}\n"
          ]
        }
      ],
      "source": [
        "p1={\"shraddha\",\"aishwarya\",\"samantha\",\"rashmika\",\"priyankachopra\"}\n",
        "p2={\"zendaya\",\"scarlettjohannson\",\"shakira\",\"gal gadot\",\"priyankachopra\"}\n",
        "print(p1|p2)\n",
        "print(p1&p2)\n",
        "print(p1-p2)\n",
        "print(p2-p1)\n",
        "\n"
      ]
    },
    {
      "cell_type": "code",
      "source": [
        "p1={\"shraddha\",\"aishwarya\",\"samantha\",\"rashmika\",\"priyankachopra\"}\n",
        "p2={\"zendaya\",\"scarlettjohannson\",\"shakira\",\"gal gadot\",\"priyankachopra\"}\n",
        "print(p1^p2)"
      ],
      "metadata": {
        "colab": {
          "base_uri": "https://localhost:8080/"
        },
        "id": "KP--LtS-8jLM",
        "outputId": "df209942-e205-4f8b-be19-c2cdd8e4cc24"
      },
      "execution_count": null,
      "outputs": [
        {
          "output_type": "stream",
          "name": "stdout",
          "text": [
            "{'gal gadot', 'shakira', 'zendaya', 'shraddha', 'aishwarya', 'samantha', 'rashmika', 'scarlettjohannson'}\n"
          ]
        }
      ]
    },
    {
      "cell_type": "code",
      "execution_count": null,
      "metadata": {
        "colab": {
          "base_uri": "https://localhost:8080/"
        },
        "id": "KCn3LbbcWVGC",
        "outputId": "647b8bae-bb4c-4827-d1a4-4e67975a6a0f"
      },
      "outputs": [
        {
          "name": "stdout",
          "output_type": "stream",
          "text": [
            "Enter the amount of Bill: Rs.25987\n",
            "what percent of bill amount ,would you like to pay as tip :2\n",
            "The total bill amount is: 26506.74\n",
            "Enter the no. of persons paying:3\n",
            "Each person will pay :Rs. 8835.58\n",
            "Thank You!\n"
          ]
        }
      ],
      "source": [
        "bill=float(input(\"Enter the amount of Bill: Rs.\"))\n",
        "tip=float(input(\"what percent of bill amount ,would you like to pay as tip :\"))\n",
        "bill_with_tip = bill + (tip/100)*bill\n",
        "print(\"The total bill amount is:\",bill_with_tip)\n",
        "people = int(input(\"Enter the no. of persons paying:\"))\n",
        "bill_per_person = bill_with_tip/people\n",
        "print(\"Each person will pay :Rs.\",bill_per_person)\n",
        "print(\"Thank You!\")"
      ]
    },
    {
      "cell_type": "code",
      "execution_count": null,
      "metadata": {
        "id": "yxz5D1jeU2FJ"
      },
      "outputs": [],
      "source": []
    },
    {
      "cell_type": "code",
      "execution_count": null,
      "metadata": {
        "colab": {
          "base_uri": "https://localhost:8080/"
        },
        "id": "jZtr1KqyZOvQ",
        "outputId": "70daf92b-da00-43eb-aa66-8e14843719fc"
      },
      "outputs": [
        {
          "name": "stdout",
          "output_type": "stream",
          "text": [
            "sam\n",
            "we\n",
            "doc\n"
          ]
        }
      ],
      "source": [
        "lst = [\"sam\",'we','doc']\n",
        "for items in lst:\n",
        "  print(items)\n"
      ]
    },
    {
      "cell_type": "code",
      "execution_count": null,
      "metadata": {
        "colab": {
          "base_uri": "https://localhost:8080/"
        },
        "id": "Zh3LyU3Tfd3r",
        "outputId": "48e5bede-c081-4197-902b-3d814c14b938"
      },
      "outputs": [
        {
          "name": "stdout",
          "output_type": "stream",
          "text": [
            "50\n",
            "70\n",
            "90\n",
            "110\n"
          ]
        }
      ],
      "source": [
        "for x in range(50,120,20):\n",
        "  if x%2==0:\n",
        "    print(x)"
      ]
    },
    {
      "cell_type": "code",
      "execution_count": null,
      "metadata": {
        "colab": {
          "base_uri": "https://localhost:8080/"
        },
        "id": "gZOR2UJBaNp9",
        "outputId": "9bb18fcb-87c2-4b39-d074-9d05838e9e88"
      },
      "outputs": [
        {
          "name": "stdout",
          "output_type": "stream",
          "text": [
            "Name,Age,Profession,Native Place,Income\n",
            "Sarthak,18,Entrepreneur,Maharashtra,70000000\n",
            "Ravin,67,Pedlar,Gaziabaad,590000\n",
            "Akhil,76,Batsman,Tamil Nadu,654000\n",
            "Robert,21,Teacher,New York,485110\n",
            "Domey,29,Clerk,Tolstoy,478551\n",
            "Freedy,65,Officer,Delhi,780000\n",
            "Lokesh,32,Speaker,Karnataka,590000\n",
            "Greg,41,Actor,California,780000\n",
            "Andrew,39,Salesman,Netherfarm,900000\n",
            "\n"
          ]
        }
      ],
      "source": [
        "file = open(\"/content/drive/MyDrive/Timegiven.csv\",\"r\")\n",
        "content=file.read()\n",
        "file.close()\n",
        "print(content)"
      ]
    },
    {
      "cell_type": "code",
      "execution_count": null,
      "metadata": {
        "colab": {
          "base_uri": "https://localhost:8080/"
        },
        "id": "27pkYYOWblB2",
        "outputId": "2700c4fa-b2ce-4140-eaa4-9aa8d69b0efa"
      },
      "outputs": [
        {
          "name": "stdout",
          "output_type": "stream",
          "text": [
            "<class 'pandas.core.frame.DataFrame'>\n",
            "RangeIndex: 20 entries, 0 to 19\n",
            "Data columns (total 5 columns):\n",
            " #   Column         Non-Null Count  Dtype         \n",
            "---  ------         --------------  -----         \n",
            " 0   Sr no.         20 non-null     int64         \n",
            " 1   Employee ID    20 non-null     int64         \n",
            " 2   Employee Name  20 non-null     object        \n",
            " 3   Date of birth  20 non-null     datetime64[ns]\n",
            " 4   Age            20 non-null     int64         \n",
            "dtypes: datetime64[ns](1), int64(3), object(1)\n",
            "memory usage: 928.0+ bytes\n",
            "    Sr no.  Employee ID          Employee Name Date of birth  Age\n",
            "0        1         1001             Baki Hanma    1999-05-11   24\n",
            "1        2         1002           Yujiro Hanma    2004-02-29   18\n",
            "2        3         1003        Monkey D. Luffy    1976-05-12   47\n",
            "3        4         1004         Monkey D. Garp    1983-07-15   40\n",
            "4        5         1005          Trafalgar Law    1999-10-26   24\n",
            "5        6         1006             Alva Morte    2002-09-21   21\n",
            "6        7         1007       Miyamoto Musashi    1998-07-16   25\n",
            "7        8         1008         Shinmen Takezo    1989-07-18   34\n",
            "8        9         1009  Christopher Fernandez    2000-12-31   23\n",
            "9       10         1010            Virat Kohli    1994-06-08   29\n",
            "10      11         1011           Rohit Sharma    1968-07-03   55\n",
            "11      12         1012              John Wick    2004-02-20   18\n",
            "12      13         1013      Robert Downey Jr.    2004-06-30   18\n",
            "13      14         1014        Christ McCarthy    1998-11-26   25\n",
            "14      15         1015           Jesus Christ    1974-08-15   49\n",
            "15      16         1016             Doflamingo    1997-06-26   26\n",
            "16      17         1017            Bruce Wayne    1996-07-10   27\n",
            "17      18         1018            Andrew Tate    1968-08-11   55\n",
            "18      19         1019          Elon The Musk    1993-10-09   30\n",
            "19      20         1020             Robin Hood    1997-07-07   26\n"
          ]
        }
      ],
      "source": [
        "import pandas as pd\n",
        "file =pd.read_excel(\"/content/drive/MyDrive/employee.xlsx\")\n",
        "#print(file)\n",
        "file['Age'].std()\n",
        "file['Age'].mean()\n",
        "file.info()\n",
        "file.describe()\n",
        "file['Employee ID'].min()\n",
        "print(file)"
      ]
    },
    {
      "cell_type": "code",
      "execution_count": null,
      "metadata": {
        "colab": {
          "base_uri": "https://localhost:8080/"
        },
        "id": "OlqaYgKogoNZ",
        "outputId": "95f464b2-3292-45ba-d54e-81902e0d3327"
      },
      "outputs": [
        {
          "name": "stdout",
          "output_type": "stream",
          "text": [
            "56\n"
          ]
        }
      ],
      "source": [
        "file = open('/content/drive/MyDrive/example.txt', 'r')\n",
        "content = file.read()\n",
        "file.close()\n",
        "print(content)\n"
      ]
    },
    {
      "cell_type": "code",
      "execution_count": null,
      "metadata": {
        "colab": {
          "base_uri": "https://localhost:8080/"
        },
        "id": "duETBNh_jr0i",
        "outputId": "58897e36-27a5-4ad2-bc84-e7332b1e02b5"
      },
      "outputs": [
        {
          "name": "stdout",
          "output_type": "stream",
          "text": [
            "3\n"
          ]
        }
      ],
      "source": [
        "file = open('/content/drive/MyDrive/example.txt', 'w')\n",
        "neo = file.write(\"Bye\")\n",
        "file.close()\n",
        "print(neo)\n"
      ]
    },
    {
      "cell_type": "code",
      "execution_count": null,
      "metadata": {
        "colab": {
          "base_uri": "https://localhost:8080/"
        },
        "id": "nNeHI7miU3eR",
        "outputId": "f7b5d71d-e40e-42cc-9d84-b7fe578ff4af"
      },
      "outputs": [
        {
          "name": "stdout",
          "output_type": "stream",
          "text": [
            "[10, 'sarthak', 25, 40, 30, 'messi', 8, 45, True]\n"
          ]
        }
      ],
      "source": [
        "l1=[10,\"sarthak\",25,40]\n",
        "l2=[30,\"messi\",8,45,True]\n",
        "l3=l1+l2\n",
        "print(l3)\n"
      ]
    },
    {
      "cell_type": "code",
      "execution_count": null,
      "metadata": {
        "colab": {
          "base_uri": "https://localhost:8080/"
        },
        "id": "kB2RA1XdVqKI",
        "outputId": "30ec39e9-1d41-4a48-dcf7-f05237458860"
      },
      "outputs": [
        {
          "name": "stdout",
          "output_type": "stream",
          "text": [
            "[10, 'sarthak', 25, 40, 30, 'messi', 8, 45, True]\n"
          ]
        }
      ],
      "source": [
        "l4= [*l1,*l2]\n",
        "print(l4)"
      ]
    },
    {
      "cell_type": "code",
      "execution_count": null,
      "metadata": {
        "colab": {
          "base_uri": "https://localhost:8080/"
        },
        "id": "UByCcihzF3Fd",
        "outputId": "6a1115a6-d532-4283-844b-95ae05eb2ffc"
      },
      "outputs": [
        {
          "name": "stdout",
          "output_type": "stream",
          "text": [
            "2023-05-03\n"
          ]
        }
      ],
      "source": [
        "from datetime import date\n",
        "today = date.today()\n",
        "print(today)"
      ]
    },
    {
      "cell_type": "code",
      "execution_count": null,
      "metadata": {
        "colab": {
          "base_uri": "https://localhost:8080/"
        },
        "id": "kzuRHJQNSjQG",
        "outputId": "a34d5a73-639a-4086-df31-502fedadbb20"
      },
      "outputs": [
        {
          "output_type": "stream",
          "name": "stdout",
          "text": [
            "Year : 2023\n",
            "Month : 6\n",
            "Date 23\n"
          ]
        }
      ],
      "source": [
        "\n",
        "Year : 2023\n",
        "Month : 6\n",
        "Date 24"
      ]
    },
    {
      "cell_type": "code",
      "execution_count": null,
      "metadata": {
        "id": "exHAznOXUwWt"
      },
      "outputs": [],
      "source": [
        "from datetime import date\n",
        "def calculateAge(dob):\n",
        "  today = date.today()\n",
        "  age = today.year - dob.year - ((today.month,today.day)<(dob.month,dob.day))\n",
        "  return age\n",
        "print"
      ]
    },
    {
      "cell_type": "code",
      "execution_count": null,
      "metadata": {
        "colab": {
          "base_uri": "https://localhost:8080/",
          "height": 252
        },
        "id": "usRGW3HZwca2",
        "outputId": "0d071bec-9193-4a16-ed21-95b5f9fdc48e"
      },
      "outputs": [
        {
          "name": "stdout",
          "output_type": "stream",
          "text": [
            "Enter atomic number of first element: 45\n",
            "Enter the atomic number of second element44\n"
          ]
        },
        {
          "ename": "AttributeError",
          "evalue": "ignored",
          "output_type": "error",
          "traceback": [
            "\u001b[0;31m---------------------------------------------------------------------------\u001b[0m",
            "\u001b[0;31mAttributeError\u001b[0m                            Traceback (most recent call last)",
            "\u001b[0;32m<ipython-input-17-6062bc27d07e>\u001b[0m in \u001b[0;36m<cell line: 6>\u001b[0;34m()\u001b[0m\n\u001b[1;32m      4\u001b[0m \u001b[0mdf\u001b[0m \u001b[0;34m=\u001b[0m \u001b[0mpd\u001b[0m\u001b[0;34m.\u001b[0m\u001b[0mread_excel\u001b[0m\u001b[0;34m(\u001b[0m\u001b[0;34mr\"/content/drive/MyDrive/Electronegativity.xlsx\"\u001b[0m\u001b[0;34m)\u001b[0m\u001b[0;34m\u001b[0m\u001b[0;34m\u001b[0m\u001b[0m\n\u001b[1;32m      5\u001b[0m \u001b[0mdf2\u001b[0m\u001b[0;34m=\u001b[0m\u001b[0mdf\u001b[0m\u001b[0;34m.\u001b[0m\u001b[0mto_csv\u001b[0m\u001b[0;34m(\u001b[0m\u001b[0mindex\u001b[0m \u001b[0;34m=\u001b[0m \u001b[0;32mFalse\u001b[0m\u001b[0;34m)\u001b[0m\u001b[0;34m\u001b[0m\u001b[0;34m\u001b[0m\u001b[0m\n\u001b[0;32m----> 6\u001b[0;31m \u001b[0mdf3\u001b[0m\u001b[0;34m=\u001b[0m\u001b[0mdf2\u001b[0m\u001b[0;34m.\u001b[0m\u001b[0mto_dict\u001b[0m\u001b[0;34m(\u001b[0m\u001b[0;34m)\u001b[0m\u001b[0;34m\u001b[0m\u001b[0;34m\u001b[0m\u001b[0m\n\u001b[0m\u001b[1;32m      7\u001b[0m \u001b[0mprint\u001b[0m\u001b[0;34m(\u001b[0m\u001b[0mdf3\u001b[0m\u001b[0;34m)\u001b[0m\u001b[0;34m\u001b[0m\u001b[0;34m\u001b[0m\u001b[0m\n",
            "\u001b[0;31mAttributeError\u001b[0m: 'str' object has no attribute 'to_dict'"
          ]
        }
      ],
      "source": [
        "import pandas as pd\n",
        "atomic_num = int(input(\"Enter atomic number of first element: \"))\n",
        "atomic_num2= int(input(\"Enter the atomic number of second element\"))\n",
        "df = pd.read_excel(r\"/content/drive/MyDrive/Electronegativity.xlsx\")\n",
        "df2=df.to_csv(index = False)\n",
        "df3=df2.to_dict()\n",
        "print(df3)\n"
      ]
    },
    {
      "cell_type": "code",
      "execution_count": null,
      "metadata": {
        "id": "KUXyD1X-GRPe"
      },
      "outputs": [],
      "source": [
        "electronegativities = {\n",
        "    1: 2.2,\n",
        "    2: 0.98,\n",
        "    3: 1.57,\n",
        "    4: 2.04,\n",
        "    5: 2.55,\n",
        "    6: 3.04,\n",
        "    7: 3.44,\n",
        "    8: 3.98,\n",
        "    9: 3.0,\n",
        "    10: None,\n",
        "    11: 0.93,\n",
        "    12: 1.31,\n",
        "    13: 1.61,\n",
        "    14: 1.9,\n",
        "    15: 2.19,\n",
        "    16: 2.58,\n",
        "    17: 3.16,\n",
        "    18: None,\n",
        "    19: 0.82,\n",
        "    20: 1.0,\n",
        "    21: 1.36,\n",
        "    22: 1.54,\n",
        "    23: 1.63,\n",
        "    24: 1.66,\n",
        "    25: 1.55,\n",
        "    26: 1.83,\n",
        "    27: 1.88,\n",
        "    28: 1.91,\n",
        "    29: 1.9,\n",
        "    30: 1.65,\n",
        "    31: 1.81,\n",
        "    32: 2.01,\n",
        "    33: 2.18,\n",
        "    34: 2.55,\n",
        "    35: 2.96,\n",
        "    36: None,\n",
        "    37: 0.82,\n",
        "    38: 1.0,\n",
        "    39: 1.1,\n",
        "    40: 1.12,\n",
        "    41: 1.13,\n",
        "    42: 1.14,\n",
        "    43: 1.13,\n",
        "    44: 1.17,\n",
        "    45: 1.2,\n",
        "    46: 1.2,\n",
        "    47: 1.14,\n",
        "    48: 1.17,\n",
        "    49: 1.2,\n",
        "    50: 1.22,\n",
        "    51: 1.23,\n",
        "    52: 1.24,\n",
        "    53: 2.33,\n",
        "    54: None,\n",
        "    55: 0.82,\n",
        "    56: 0.95,\n",
        "    57: 1.1,\n",
        "    58: 1.12,\n",
        "    59: 1.13,\n",
        "    60: 1.14,\n",
        "    61: 1.13,\n",
        "    62: 1.17,\n",
        "    63: 1.2,\n",
        "    64: 1.2,\n",
        "    65: 1.2,\n",
        "    66: 1.22,\n",
        "    67: 1.23,\n",
        "    68: 1.24,\n",
        "    69: 1.25,\n",
        "    70: 1.1,\n",
        "    71: 1.27,\n",
        "    72: 1.3,\n",
        "    73: 1.5,\n",
        "    74: 2.36,\n",
        "    75: 1.9,\n",
        "    76: 2.2,\n",
        "    77: 2.2,\n",
        "    78: 2.28,\n",
        "    79: 2.54,\n",
        "    80: 2.0,\n",
        "    81: 1.62,\n",
        "    82: 2.33}\n"
      ]
    },
    {
      "cell_type": "code",
      "execution_count": null,
      "metadata": {
        "colab": {
          "base_uri": "https://localhost:8080/",
          "height": 942
        },
        "id": "t9wbUCL_iOHX",
        "outputId": "3bf9e83d-77b2-4002-fa3e-22c9525ec124"
      },
      "outputs": [
        {
          "name": "stdout",
          "output_type": "stream",
          "text": [
            "    ID       Name  Work Experience                   Role\n",
            "0    1   Om Borle                5                     HR\n",
            "1    2  Om Bhoyar                3  Jr. Backend Developer\n",
            "2    3   Subbudha                4         Product Tester\n",
            "3    4    Shambhu                4     Frontend Developer\n",
            "4    5      Vijay                3       Quality Incharge\n",
            "5    6     Prasad                5                Manager\n",
            "6    7      Sahil                4          Risk Analyser\n",
            "7    8    Apporva                6   Full Stack Developer\n",
            "8    9  Sudarshan                3              Recruiter\n",
            "9   10     Pranay                4          Data enginner\n",
            "10  11    Sushant                3          Data Analyser\n",
            "11  12      Yash                 6          Administrator\n",
            "   ID   Salary\n",
            "0   1  1025000\n",
            "1   2   780000\n",
            "2   3   890000\n",
            "3   4   700000\n",
            "4   5   650000\n",
            "5   6   850000\n",
            "6   7   710000\n",
            "7   8   650000\n",
            "8   9   412000\n",
            "9  10   900000\n",
            "   ID       Name  Work Experience                   Role   Salary\n",
            "0   1   Om Borle                5                     HR  1025000\n",
            "1   2  Om Bhoyar                3  Jr. Backend Developer   780000\n",
            "2   3   Subbudha                4         Product Tester   890000\n",
            "3   4    Shambhu                4     Frontend Developer   700000\n",
            "4   5      Vijay                3       Quality Incharge   650000\n",
            "5   6     Prasad                5                Manager   850000\n",
            "6   7      Sahil                4          Risk Analyser   710000\n",
            "7   8    Apporva                6   Full Stack Developer   650000\n",
            "8   9  Sudarshan                3              Recruiter   412000\n",
            "9  10     Pranay                4          Data enginner   900000\n",
            "1025000\n",
            "7567000\n"
          ]
        },
        {
          "data": {
            "text/html": [
              "\n",
              "  <div id=\"df-e3362dd2-0877-4815-ae93-92deb4054d43\">\n",
              "    <div class=\"colab-df-container\">\n",
              "      <div>\n",
              "<style scoped>\n",
              "    .dataframe tbody tr th:only-of-type {\n",
              "        vertical-align: middle;\n",
              "    }\n",
              "\n",
              "    .dataframe tbody tr th {\n",
              "        vertical-align: top;\n",
              "    }\n",
              "\n",
              "    .dataframe thead th {\n",
              "        text-align: right;\n",
              "    }\n",
              "</style>\n",
              "<table border=\"1\" class=\"dataframe\">\n",
              "  <thead>\n",
              "    <tr style=\"text-align: right;\">\n",
              "      <th></th>\n",
              "      <th>ID</th>\n",
              "      <th>Work Experience</th>\n",
              "      <th>Salary</th>\n",
              "    </tr>\n",
              "  </thead>\n",
              "  <tbody>\n",
              "    <tr>\n",
              "      <th>count</th>\n",
              "      <td>10.00000</td>\n",
              "      <td>10.000000</td>\n",
              "      <td>1.000000e+01</td>\n",
              "    </tr>\n",
              "    <tr>\n",
              "      <th>mean</th>\n",
              "      <td>5.50000</td>\n",
              "      <td>4.100000</td>\n",
              "      <td>7.567000e+05</td>\n",
              "    </tr>\n",
              "    <tr>\n",
              "      <th>std</th>\n",
              "      <td>3.02765</td>\n",
              "      <td>0.994429</td>\n",
              "      <td>1.720853e+05</td>\n",
              "    </tr>\n",
              "    <tr>\n",
              "      <th>min</th>\n",
              "      <td>1.00000</td>\n",
              "      <td>3.000000</td>\n",
              "      <td>4.120000e+05</td>\n",
              "    </tr>\n",
              "    <tr>\n",
              "      <th>25%</th>\n",
              "      <td>3.25000</td>\n",
              "      <td>3.250000</td>\n",
              "      <td>6.625000e+05</td>\n",
              "    </tr>\n",
              "    <tr>\n",
              "      <th>50%</th>\n",
              "      <td>5.50000</td>\n",
              "      <td>4.000000</td>\n",
              "      <td>7.450000e+05</td>\n",
              "    </tr>\n",
              "    <tr>\n",
              "      <th>75%</th>\n",
              "      <td>7.75000</td>\n",
              "      <td>4.750000</td>\n",
              "      <td>8.800000e+05</td>\n",
              "    </tr>\n",
              "    <tr>\n",
              "      <th>max</th>\n",
              "      <td>10.00000</td>\n",
              "      <td>6.000000</td>\n",
              "      <td>1.025000e+06</td>\n",
              "    </tr>\n",
              "  </tbody>\n",
              "</table>\n",
              "</div>\n",
              "      <button class=\"colab-df-convert\" onclick=\"convertToInteractive('df-e3362dd2-0877-4815-ae93-92deb4054d43')\"\n",
              "              title=\"Convert this dataframe to an interactive table.\"\n",
              "              style=\"display:none;\">\n",
              "        \n",
              "  <svg xmlns=\"http://www.w3.org/2000/svg\" height=\"24px\"viewBox=\"0 0 24 24\"\n",
              "       width=\"24px\">\n",
              "    <path d=\"M0 0h24v24H0V0z\" fill=\"none\"/>\n",
              "    <path d=\"M18.56 5.44l.94 2.06.94-2.06 2.06-.94-2.06-.94-.94-2.06-.94 2.06-2.06.94zm-11 1L8.5 8.5l.94-2.06 2.06-.94-2.06-.94L8.5 2.5l-.94 2.06-2.06.94zm10 10l.94 2.06.94-2.06 2.06-.94-2.06-.94-.94-2.06-.94 2.06-2.06.94z\"/><path d=\"M17.41 7.96l-1.37-1.37c-.4-.4-.92-.59-1.43-.59-.52 0-1.04.2-1.43.59L10.3 9.45l-7.72 7.72c-.78.78-.78 2.05 0 2.83L4 21.41c.39.39.9.59 1.41.59.51 0 1.02-.2 1.41-.59l7.78-7.78 2.81-2.81c.8-.78.8-2.07 0-2.86zM5.41 20L4 18.59l7.72-7.72 1.47 1.35L5.41 20z\"/>\n",
              "  </svg>\n",
              "      </button>\n",
              "      \n",
              "  <style>\n",
              "    .colab-df-container {\n",
              "      display:flex;\n",
              "      flex-wrap:wrap;\n",
              "      gap: 12px;\n",
              "    }\n",
              "\n",
              "    .colab-df-convert {\n",
              "      background-color: #E8F0FE;\n",
              "      border: none;\n",
              "      border-radius: 50%;\n",
              "      cursor: pointer;\n",
              "      display: none;\n",
              "      fill: #1967D2;\n",
              "      height: 32px;\n",
              "      padding: 0 0 0 0;\n",
              "      width: 32px;\n",
              "    }\n",
              "\n",
              "    .colab-df-convert:hover {\n",
              "      background-color: #E2EBFA;\n",
              "      box-shadow: 0px 1px 2px rgba(60, 64, 67, 0.3), 0px 1px 3px 1px rgba(60, 64, 67, 0.15);\n",
              "      fill: #174EA6;\n",
              "    }\n",
              "\n",
              "    [theme=dark] .colab-df-convert {\n",
              "      background-color: #3B4455;\n",
              "      fill: #D2E3FC;\n",
              "    }\n",
              "\n",
              "    [theme=dark] .colab-df-convert:hover {\n",
              "      background-color: #434B5C;\n",
              "      box-shadow: 0px 1px 3px 1px rgba(0, 0, 0, 0.15);\n",
              "      filter: drop-shadow(0px 1px 2px rgba(0, 0, 0, 0.3));\n",
              "      fill: #FFFFFF;\n",
              "    }\n",
              "  </style>\n",
              "\n",
              "      <script>\n",
              "        const buttonEl =\n",
              "          document.querySelector('#df-e3362dd2-0877-4815-ae93-92deb4054d43 button.colab-df-convert');\n",
              "        buttonEl.style.display =\n",
              "          google.colab.kernel.accessAllowed ? 'block' : 'none';\n",
              "\n",
              "        async function convertToInteractive(key) {\n",
              "          const element = document.querySelector('#df-e3362dd2-0877-4815-ae93-92deb4054d43');\n",
              "          const dataTable =\n",
              "            await google.colab.kernel.invokeFunction('convertToInteractive',\n",
              "                                                     [key], {});\n",
              "          if (!dataTable) return;\n",
              "\n",
              "          const docLinkHtml = 'Like what you see? Visit the ' +\n",
              "            '<a target=\"_blank\" href=https://colab.research.google.com/notebooks/data_table.ipynb>data table notebook</a>'\n",
              "            + ' to learn more about interactive tables.';\n",
              "          element.innerHTML = '';\n",
              "          dataTable['output_type'] = 'display_data';\n",
              "          await google.colab.output.renderOutput(dataTable, element);\n",
              "          const docLink = document.createElement('div');\n",
              "          docLink.innerHTML = docLinkHtml;\n",
              "          element.appendChild(docLink);\n",
              "        }\n",
              "      </script>\n",
              "    </div>\n",
              "  </div>\n",
              "  "
            ],
            "text/plain": [
              "             ID  Work Experience        Salary\n",
              "count  10.00000        10.000000  1.000000e+01\n",
              "mean    5.50000         4.100000  7.567000e+05\n",
              "std     3.02765         0.994429  1.720853e+05\n",
              "min     1.00000         3.000000  4.120000e+05\n",
              "25%     3.25000         3.250000  6.625000e+05\n",
              "50%     5.50000         4.000000  7.450000e+05\n",
              "75%     7.75000         4.750000  8.800000e+05\n",
              "max    10.00000         6.000000  1.025000e+06"
            ]
          },
          "execution_count": 1,
          "metadata": {},
          "output_type": "execute_result"
        }
      ],
      "source": [
        "import pandas as pd\n",
        "df = pd.read_csv(\"/content/drive/MyDrive/exmp.csv\")\n",
        "df1 = pd.read_csv(\"/content/drive/MyDrive/exmp2.csv\")\n",
        "df2 = pd.merge(df,df1,on = \"ID\")\n",
        "df2.to_csv('df2.csv',index = False)\n",
        "print(df)\n",
        "print(df1)\n",
        "print(df2)\n",
        "print(df2[\"Salary\"].max())\n",
        "print(df2[\"Salary\"].sum())\n",
        "df2.describe()"
      ]
    },
    {
      "cell_type": "code",
      "execution_count": null,
      "metadata": {
        "colab": {
          "base_uri": "https://localhost:8080/"
        },
        "id": "DuZjsAmKQekZ",
        "outputId": "08656633-31e1-4951-fbd2-c75cc7264479"
      },
      "outputs": [
        {
          "name": "stdout",
          "output_type": "stream",
          "text": [
            "   ID       Name  Work Experience                   Role   Salary\n",
            "0   1   Om Borle                5                     HR  1025000\n",
            "1   2  Om Bhoyar                3  Jr. Backend Developer   780000\n",
            "2   3   Subbudha                4         Product Tester   890000\n",
            "3   4    Shambhu                4     Frontend Developer   700000\n",
            "4   5      Vijay                3       Quality Incharge   650000\n",
            "5   6     Prasad                5                Manager   850000\n",
            "6   7      Sahil                4          Risk Analyser   710000\n",
            "7   8    Apporva                6   Full Stack Developer   650000\n",
            "8   9  Sudarshan                3              Recruiter   412000\n",
            "9  10     Pranay                4          Data enginner   900000\n",
            "Average:\n",
            " ID                      5.5\n",
            "Work Experience         4.1\n",
            "Salary             756700.0\n",
            "dtype: float64\n",
            "Max:\n",
            " ID                            10\n",
            "Name                       Vijay\n",
            "Work Experience                6\n",
            "Role               Risk Analyser\n",
            "Salary                   1025000\n",
            "dtype: object\n",
            "Min:\n",
            " ID                             1\n",
            "Name                    Om Borle\n",
            "Work Experience                3\n",
            "Role               Data enginner\n",
            "Salary                    412000\n",
            "dtype: object\n",
            "Count:\n",
            " ID                 10\n",
            "Name               10\n",
            "Work Experience    10\n",
            "Role               10\n",
            "Salary             10\n",
            "dtype: int64\n",
            "Sum:\n",
            " ID                                                                55\n",
            "Name                Om BorleOm BhoyarSubbudhaShambhuVijayPrasadSa...\n",
            "Work Experience                                                   41\n",
            "Role               HRJr. Backend DeveloperProduct TesterFrontend ...\n",
            "Salary                                                       7567000\n",
            "dtype: object\n",
            "Percentage:\n",
            " ID                      55.0\n",
            "Name                     NaN\n",
            "Role                     NaN\n",
            "Salary             7567000.0\n",
            "Work Experience         41.0\n",
            "dtype: float64\n"
          ]
        },
        {
          "name": "stderr",
          "output_type": "stream",
          "text": [
            "<ipython-input-6-3d60d0bb2846>:8: FutureWarning: The default value of numeric_only in DataFrame.mean is deprecated. In a future version, it will default to False. In addition, specifying 'numeric_only=None' is deprecated. Select only valid columns or specify the value of numeric_only to silence this warning.\n",
            "  avg = merged_df.mean()\n",
            "<ipython-input-6-3d60d0bb2846>:13: FutureWarning: The default value of numeric_only in DataFrame.mean is deprecated. In a future version, it will default to False. In addition, specifying 'numeric_only=None' is deprecated. Select only valid columns or specify the value of numeric_only to silence this warning.\n",
            "  percent = merged_df.mean() / merged_df.count() * 100\n"
          ]
        }
      ],
      "source": [
        "import pandas as pd\n",
        "df = pd.read_csv(\"/content/drive/MyDrive/exmp.csv\")\n",
        "df1 = pd.read_csv(\"/content/drive/MyDrive/exmp2.csv\")\n",
        "df2 = pd.merge(df,df1,on = \"ID\")\n",
        "df2.to_csv(\"EmployeesDetails.csv\",index = False)\n",
        "merged_df =pd.read_csv('/content/EmployeesDetails.csv')\n",
        "print(merged_df)\n",
        "avg = merged_df.mean()\n",
        "max = merged_df.max()\n",
        "min = merged_df.min()\n",
        "count = merged_df.count()\n",
        "sum = merged_df.sum()\n",
        "percent = merged_df.mean() / merged_df.count() * 100\n",
        "# RESULTS\n",
        "print(\"Average:\\n\", avg)\n",
        "print(\"Max:\\n\", max)\n",
        "print(\"Min:\\n\", min)\n",
        "print(\"Count:\\n\", count)\n",
        "print(\"Sum:\\n\", sum)\n",
        "print(\"Percentage:\\n\", percent)"
      ]
    },
    {
      "cell_type": "code",
      "execution_count": null,
      "metadata": {
        "id": "Kf0qi2l5SDkF"
      },
      "outputs": [],
      "source": [
        "\n"
      ]
    },
    {
      "cell_type": "code",
      "execution_count": null,
      "metadata": {
        "id": "5l7SIQWJWAUH"
      },
      "outputs": [],
      "source": [
        "t =(10,20,30)\n",
        "t1"
      ]
    },
    {
      "cell_type": "code",
      "execution_count": null,
      "metadata": {
        "colab": {
          "base_uri": "https://localhost:8080/"
        },
        "id": "_OBeg2JeQpad",
        "outputId": "58019163-9fa2-4df4-b67c-f15275711ae9"
      },
      "outputs": [
        {
          "name": "stdout",
          "output_type": "stream",
          "text": [
            "Enter Number of matches: 4\n",
            "Enter score: 100\n",
            "Enter score: 200\n",
            "Enter score: 300\n",
            "Enter score: 400\n",
            "[100, 200, 300, 400]\n",
            "100\n",
            "400\n",
            "250.0\n"
          ]
        }
      ],
      "source": [
        "n = int(input(\"Enter Number of matches: \"))\n",
        "scores = []\n",
        "for i in range (n) :\n",
        "    z = int(input(\"Enter score: \"))\n",
        "    scores.append(z)\n",
        "print(scores)\n",
        "print(min(scores))\n",
        "print(max(scores))\n",
        "print(sum(scores)/len(scores))"
      ]
    },
    {
      "cell_type": "code",
      "execution_count": null,
      "metadata": {
        "colab": {
          "base_uri": "https://localhost:8080/"
        },
        "id": "i6strVACTyKE",
        "outputId": "fccb44ae-45cf-4739-c51f-aa1a5dd735ab"
      },
      "outputs": [
        {
          "name": "stdout",
          "output_type": "stream",
          "text": [
            "412\n"
          ]
        }
      ],
      "source": [
        "nu=[10,34,323,45]\n",
        "print(sum(nu))"
      ]
    },
    {
      "cell_type": "code",
      "execution_count": null,
      "metadata": {
        "colab": {
          "base_uri": "https://localhost:8080/"
        },
        "id": "Myy-qoTSg0Ly",
        "outputId": "4804d92d-1895-43ff-aa57-c15eed939245"
      },
      "outputs": [
        {
          "name": "stdout",
          "output_type": "stream",
          "text": [
            "134217728.0\n"
          ]
        }
      ],
      "source": [
        "import math\n",
        "print(math.pow(2,27))"
      ]
    },
    {
      "cell_type": "code",
      "execution_count": null,
      "metadata": {
        "colab": {
          "base_uri": "https://localhost:8080/"
        },
        "id": "hU9h2df1hrBp",
        "outputId": "62ef706b-5edd-4a9f-ca4c-cf5569338059"
      },
      "outputs": [
        {
          "name": "stdout",
          "output_type": "stream",
          "text": [
            "3.0\n"
          ]
        }
      ],
      "source": [
        "import math\n",
        "print(math.pow(9,0.5))"
      ]
    },
    {
      "cell_type": "code",
      "execution_count": null,
      "metadata": {
        "colab": {
          "base_uri": "https://localhost:8080/"
        },
        "id": "3TglBlGIhvjd",
        "outputId": "53f00687-e116-4acc-956f-054130f42521"
      },
      "outputs": [
        {
          "name": "stdout",
          "output_type": "stream",
          "text": [
            "3\n",
            "5\n",
            "7\n",
            "9\n",
            "11\n"
          ]
        }
      ],
      "source": [
        "from itertools import count\n",
        "for i in count(start=3,step=2):\n",
        "  if i>11:\n",
        "    break\n",
        "  print(i)\n"
      ]
    },
    {
      "cell_type": "code",
      "execution_count": null,
      "metadata": {
        "colab": {
          "base_uri": "https://localhost:8080/"
        },
        "id": "g6R1PJ_OjDDX",
        "outputId": "058f7997-94c7-4826-d5c6-a2036d9b0e1b"
      },
      "outputs": [
        {
          "data": {
            "text/plain": [
              "2"
            ]
          },
          "execution_count": 8,
          "metadata": {},
          "output_type": "execute_result"
        }
      ],
      "source": [
        "a=8//3\n",
        "a"
      ]
    },
    {
      "cell_type": "code",
      "execution_count": null,
      "metadata": {
        "colab": {
          "base_uri": "https://localhost:8080/"
        },
        "id": "3oprGd6bjU1n",
        "outputId": "03a14052-3b61-44cb-ccca-fba97ce2cab7"
      },
      "outputs": [
        {
          "output_type": "stream",
          "name": "stdout",
          "text": [
            "3\n",
            "7\n"
          ]
        }
      ],
      "source": [
        "x=range(3,10,4)\n",
        "for i in x:\n",
        "  print(i)"
      ]
    },
    {
      "cell_type": "code",
      "execution_count": null,
      "metadata": {
        "colab": {
          "base_uri": "https://localhost:8080/"
        },
        "id": "VTWxshqNlC_Q",
        "outputId": "95edcaa5-bac5-4803-e7c7-954c67944ffb"
      },
      "outputs": [
        {
          "name": "stdout",
          "output_type": "stream",
          "text": [
            "3.0\n",
            "3\n"
          ]
        }
      ],
      "source": [
        "import decimal\n",
        "float_div=21/7\n",
        "dec_div=decimal.Decimal(21)/decimal.Decimal(7)\n",
        "print(float_div)\n",
        "print(dec_div)\n",
        "\n"
      ]
    },
    {
      "cell_type": "code",
      "execution_count": null,
      "metadata": {
        "colab": {
          "base_uri": "https://localhost:8080/"
        },
        "id": "2pq4QLqkl-eD",
        "outputId": "bc0318ab-8904-4336-a94b-5345c3064725"
      },
      "outputs": [
        {
          "name": "stdout",
          "output_type": "stream",
          "text": [
            "4\n",
            "85/21\n",
            "29/7\n",
            "4\n"
          ]
        }
      ],
      "source": [
        "from fractions import Fraction\n",
        "print(Fraction(84,21))\n",
        "print(Fraction(85,21))\n",
        "print(Fraction(87,21))\n",
        "print(Fraction(80,20))"
      ]
    },
    {
      "cell_type": "code",
      "execution_count": null,
      "metadata": {
        "colab": {
          "base_uri": "https://localhost:8080/"
        },
        "id": "Jni-WN0-mj9b",
        "outputId": "11ff4661-6599-4ba3-b6a3-c27145944e2f"
      },
      "outputs": [
        {
          "name": "stdout",
          "output_type": "stream",
          "text": [
            "775.3999999999999523936367041\n"
          ]
        }
      ],
      "source": [
        "import decimal\n",
        "from decimal import Decimal\n",
        "x=Decimal(8.8)\n",
        "y=Decimal(67.8)\n",
        "z=Decimal(698.8)\n",
        "print(x+y+z)"
      ]
    },
    {
      "cell_type": "code",
      "execution_count": null,
      "metadata": {
        "colab": {
          "base_uri": "https://localhost:8080/"
        },
        "id": "H18kGO9wm_Gu",
        "outputId": "ed043338-94df-46ad-83d9-a56a3e6520c2"
      },
      "outputs": [
        {
          "name": "stdout",
          "output_type": "stream",
          "text": [
            "7\n",
            "12\n",
            "-1\n",
            "0\n",
            "0.5\n",
            "1\n"
          ]
        }
      ],
      "source": [
        "import operator\n",
        "a=4\n",
        "b=3\n",
        "c=8\n",
        "print(operator.add(a,b))\n",
        "print(operator.mul(a,b))\n",
        "print(operator.sub(b,a))\n",
        "print(operator.floordiv(a,c))\n",
        "print(operator.truediv(a,c))\n",
        "print(operator.mod(a,b))"
      ]
    },
    {
      "cell_type": "code",
      "execution_count": null,
      "metadata": {
        "colab": {
          "base_uri": "https://localhost:8080/"
        },
        "id": "JQvhtmBjpt3o",
        "outputId": "a98c1232-423c-406a-fa81-d274a00d278a"
      },
      "outputs": [
        {
          "name": "stdout",
          "output_type": "stream",
          "text": [
            "<class 'float'>\n",
            "<class 'int'>\n"
          ]
        }
      ],
      "source": [
        "print(type(5/2))\n",
        "print(type(5//2))"
      ]
    },
    {
      "cell_type": "code",
      "execution_count": null,
      "metadata": {
        "colab": {
          "base_uri": "https://localhost:8080/"
        },
        "id": "2Kp9T9lhp73m",
        "outputId": "cc2d2bcd-340a-4204-960b-01295af578bf"
      },
      "outputs": [
        {
          "name": "stdout",
          "output_type": "stream",
          "text": [
            "2.5\n",
            "2\n"
          ]
        }
      ],
      "source": [
        "print(5/2)\n",
        "print(5//2)"
      ]
    },
    {
      "cell_type": "code",
      "execution_count": null,
      "metadata": {
        "colab": {
          "base_uri": "https://localhost:8080/"
        },
        "id": "yEBj9QSNpX5g",
        "outputId": "7aa8dcde-6f4e-4654-8b82-83ec2e64a6ff"
      },
      "outputs": [
        {
          "name": "stdout",
          "output_type": "stream",
          "text": [
            "[[1 1001 'Baki Hanma' Timestamp('1999-05-11 00:00:00') 24]\n",
            " [2 1002 'Yujiro Hanma' Timestamp('2004-02-29 00:00:00') 18]\n",
            " [3 1003 'Monkey D. Luffy' Timestamp('1976-05-12 00:00:00') 47]\n",
            " [4 1004 'Monkey D. Garp' Timestamp('1983-07-15 00:00:00') 40]\n",
            " [5 1005 'Trafalgar Law' Timestamp('1999-10-26 00:00:00') 24]\n",
            " [6 1006 'Alva Morte' Timestamp('2002-09-21 00:00:00') 21]\n",
            " [7 1007 'Miyamoto Musashi' Timestamp('1998-07-16 00:00:00') 25]\n",
            " [8 1008 'Shinmen Takezo' Timestamp('1989-07-18 00:00:00') 34]\n",
            " [9 1009 'Christopher Fernandez' Timestamp('2000-12-31 00:00:00') 23]\n",
            " [10 1010 'Virat Kohli' Timestamp('1994-06-08 00:00:00') 29]\n",
            " [11 1011 'Rohit Sharma' Timestamp('1968-07-03 00:00:00') 55]\n",
            " [12 1012 'John Wick' Timestamp('2004-02-20 00:00:00') 18]\n",
            " [13 1013 'Robert Downey Jr.' Timestamp('2004-06-30 00:00:00') 18]\n",
            " [14 1014 'Christ McCarthy' Timestamp('1998-11-26 00:00:00') 25]\n",
            " [15 1015 'Jesus Christ' Timestamp('1974-08-15 00:00:00') 49]\n",
            " [16 1016 'Doflamingo' Timestamp('1997-06-26 00:00:00') 26]\n",
            " [17 1017 'Bruce Wayne' Timestamp('1996-07-10 00:00:00') 27]\n",
            " [18 1018 'Andrew Tate' Timestamp('1968-08-11 00:00:00') 55]\n",
            " [19 1019 'Elon The Musk' Timestamp('1993-10-09 00:00:00') 30]\n",
            " [20 1020 'Robin Hood' Timestamp('1997-07-07 00:00:00') 26]]\n"
          ]
        }
      ],
      "source": [
        "import pandas as pd\n",
        "import numpy as np\n",
        "df = pd.read_excel('/content/drive/MyDrive/employee.xlsx')\n",
        "array = df.to_numpy()\n",
        "print(array)"
      ]
    },
    {
      "cell_type": "code",
      "execution_count": null,
      "metadata": {
        "colab": {
          "base_uri": "https://localhost:8080/"
        },
        "id": "2jM6nkkgAq9Y",
        "outputId": "30ff6d9a-1e66-4bef-c0f3-11ebcc361dd6"
      },
      "outputs": [
        {
          "data": {
            "text/plain": [
              "0    24\n",
              "1    18\n",
              "2    47\n",
              "3    40\n",
              "4    24\n",
              "5    21\n",
              "Name: Age, dtype: int64"
            ]
          },
          "execution_count": 3,
          "metadata": {},
          "output_type": "execute_result"
        }
      ],
      "source": [
        "df['Age'].head(6)"
      ]
    },
    {
      "cell_type": "code",
      "execution_count": null,
      "metadata": {
        "id": "M5kBddaJCfUQ"
      },
      "outputs": [],
      "source": []
    },
    {
      "cell_type": "code",
      "execution_count": null,
      "metadata": {
        "colab": {
          "base_uri": "https://localhost:8080/"
        },
        "id": "bmMWgYVElb3T",
        "outputId": "dad1cc89-cb4a-48e4-d729-1f6bbbf6e562"
      },
      "outputs": [
        {
          "output_type": "stream",
          "name": "stdout",
          "text": [
            "['Lenovo Laptop', 'Samsung M31', 'Realmi 10pro', 'Oppo F21', 'Lenovo Laptop', 'Samsung M31', 'LG TV 32\"', 'Oppo F21', 'Lenovo Laptop', 'Samsung M31', 'LG TV 32\"', 'Lenovo Laptop', 'Samsung M31', 'Realmi 10pro', 'Lenovo Laptop', 'Oppo F21', 'LG TV 32\"', 'Lenovo Laptop', 'Samsung M31', 'LG TV 32\"']\n",
            "The most popular product is Lenovo Laptop\n",
            "6\n",
            "The number of females is 6\n",
            "The Customer who buys most products is Siddhi Kiwale\n",
            "{0: 'Raka Ele.', 1: 'Vijay Sales', 2: 'Gada Ele.', 3: 'Surya Ele.', 4: 'Raka Ele.', 5: 'Gada Ele.', 6: 'Vijay Sales', 7: 'Surya Ele.', 8: 'Raka Ele.', 9: 'Gada Ele.', 10: 'Surya Ele.', 11: 'Raka Ele.', 12: 'Surya Ele.', 13: 'Raka Ele.', 14: 'Gada Ele.', 15: 'Vijay Sales', 16: 'Deshmukh sales', 17: 'Raka Ele.', 18: 'Deshmukh sales', 19: 'Gada Ele.'}\n",
            "The best supplier is Raka Ele.\n"
          ]
        }
      ],
      "source": [
        "import pandas as pd\n",
        "df = pd.read_excel(\"/content/drive/MyDrive/Sales.xlsx\")\n",
        "lst = df['Product details'].to_list()\n",
        "print(lst)\n",
        "\n",
        "def most_frequent(lst):\n",
        "\treturn max(set(lst), key = lst.count)\n",
        "print(\"The most popular product is\",most_frequent(lst))\n",
        "genco=df['Gender'].to_list()\n",
        "print(genco.count('Female'))\n",
        "gend = df.iloc[:,4]\n",
        "fem = (gend ==\"Female\")\n",
        "print(\"The number of females is\" ,fem.sum())\n",
        "tup = tuple(df[\"Customer Details\"])\n",
        "\n",
        "def most_frequent(tup):\n",
        "\treturn max(set(tup), key = tup.count)\n",
        "print('The Customer who buys most products is',most_frequent(tup))\n",
        "\n",
        "dict1 = df[\"Supplier Details\"].to_dict()\n",
        "print(dict1)\n",
        "from statistics import mode\n",
        "best_supp = mode(dict1.values())\n",
        "print('The best supplier is',best_supp)"
      ]
    },
    {
      "cell_type": "code",
      "source": [],
      "metadata": {
        "id": "qnc2a5l4atBQ",
        "colab": {
          "base_uri": "https://localhost:8080/",
          "height": 341
        },
        "outputId": "d7a9afcb-ba0a-4478-e176-8348026fcdd8"
      },
      "execution_count": null,
      "outputs": [
        {
          "output_type": "stream",
          "name": "stderr",
          "text": [
            "<ipython-input-14-bdf947b29a69>:1: FutureWarning: Using the level keyword in DataFrame and Series aggregations is deprecated and will be removed in a future version. Use groupby instead. ser.count(level=1) should use ser.groupby(level=1).count().\n",
            "  df['Gender'].count('Male')\n"
          ]
        },
        {
          "output_type": "error",
          "ename": "ValueError",
          "evalue": "ignored",
          "traceback": [
            "\u001b[0;31m---------------------------------------------------------------------------\u001b[0m",
            "\u001b[0;31mValueError\u001b[0m                                Traceback (most recent call last)",
            "\u001b[0;32m<ipython-input-14-bdf947b29a69>\u001b[0m in \u001b[0;36m<cell line: 1>\u001b[0;34m()\u001b[0m\n\u001b[0;32m----> 1\u001b[0;31m \u001b[0mdf\u001b[0m\u001b[0;34m[\u001b[0m\u001b[0;34m'Gender'\u001b[0m\u001b[0;34m]\u001b[0m\u001b[0;34m.\u001b[0m\u001b[0mcount\u001b[0m\u001b[0;34m(\u001b[0m\u001b[0;34m'Male'\u001b[0m\u001b[0;34m)\u001b[0m\u001b[0;34m\u001b[0m\u001b[0;34m\u001b[0m\u001b[0m\n\u001b[0m",
            "\u001b[0;32m/usr/local/lib/python3.10/dist-packages/pandas/core/series.py\u001b[0m in \u001b[0;36mcount\u001b[0;34m(self, level)\u001b[0m\n\u001b[1;32m   2127\u001b[0m             )\n\u001b[1;32m   2128\u001b[0m             \u001b[0;32mif\u001b[0m \u001b[0;32mnot\u001b[0m \u001b[0misinstance\u001b[0m\u001b[0;34m(\u001b[0m\u001b[0mself\u001b[0m\u001b[0;34m.\u001b[0m\u001b[0mindex\u001b[0m\u001b[0;34m,\u001b[0m \u001b[0mMultiIndex\u001b[0m\u001b[0;34m)\u001b[0m\u001b[0;34m:\u001b[0m\u001b[0;34m\u001b[0m\u001b[0;34m\u001b[0m\u001b[0m\n\u001b[0;32m-> 2129\u001b[0;31m                 \u001b[0;32mraise\u001b[0m \u001b[0mValueError\u001b[0m\u001b[0;34m(\u001b[0m\u001b[0;34m\"Series.count level is only valid with a MultiIndex\"\u001b[0m\u001b[0;34m)\u001b[0m\u001b[0;34m\u001b[0m\u001b[0;34m\u001b[0m\u001b[0m\n\u001b[0m\u001b[1;32m   2130\u001b[0m \u001b[0;34m\u001b[0m\u001b[0m\n\u001b[1;32m   2131\u001b[0m         \u001b[0mindex\u001b[0m \u001b[0;34m=\u001b[0m \u001b[0mself\u001b[0m\u001b[0;34m.\u001b[0m\u001b[0mindex\u001b[0m\u001b[0;34m\u001b[0m\u001b[0;34m\u001b[0m\u001b[0m\n",
            "\u001b[0;31mValueError\u001b[0m: Series.count level is only valid with a MultiIndex"
          ]
        }
      ]
    },
    {
      "cell_type": "code",
      "source": [
        "tup = tuple(df[\"Customer Details\"])\n",
        "\n",
        "\n",
        "def most_frequent(tup):\n",
        "\treturn max(set(tup), key = tup.count)\n",
        "print('The Customer who buys most products is',most_frequent(tup))"
      ],
      "metadata": {
        "colab": {
          "base_uri": "https://localhost:8080/"
        },
        "id": "t_DkgzYAd6uK",
        "outputId": "86e2e609-14b7-429e-ba10-c8c51b7c67d4"
      },
      "execution_count": null,
      "outputs": [
        {
          "output_type": "stream",
          "name": "stdout",
          "text": [
            "The Customer who buys most products is Kaustubh Mahajan\n"
          ]
        }
      ]
    },
    {
      "cell_type": "code",
      "source": [
        "dict1 = df[\"Supplier Details\"].to_dict()\n",
        "print(dict1)\n",
        "from statistics import mode\n",
        "best_supp = mode(dict1.values())\n",
        "print('The best supplier is',best_supp)"
      ],
      "metadata": {
        "colab": {
          "base_uri": "https://localhost:8080/"
        },
        "id": "Uh_8XvTXieSx",
        "outputId": "c8f9c7da-c94a-40cb-baaa-3f0049b4a7af"
      },
      "execution_count": null,
      "outputs": [
        {
          "output_type": "stream",
          "name": "stdout",
          "text": [
            "{0: 'Raka Ele.', 1: 'Vijay Sales', 2: 'Gada Ele.', 3: 'Surya Ele.', 4: 'Raka Ele.', 5: 'Gada Ele.', 6: 'Vijay Sales', 7: 'Surya Ele.', 8: 'Raka Ele.', 9: 'Gada Ele.', 10: 'Surya Ele.', 11: 'Raka Ele.', 12: 'Surya Ele.', 13: 'Raka Ele.', 14: 'Gada Ele.', 15: 'Vijay Sales', 16: 'Deshmukh sales', 17: 'Raka Ele.', 18: 'Deshmukh sales', 19: 'Gada Ele.'}\n",
            "The best supplier is Raka Ele.\n"
          ]
        }
      ]
    },
    {
      "cell_type": "code",
      "source": [
        "print(df)"
      ],
      "metadata": {
        "id": "vaqT8dVXtxSs",
        "colab": {
          "base_uri": "https://localhost:8080/"
        },
        "outputId": "d2b4ad90-eff4-4956-bbc7-3aa1815b5b59"
      },
      "execution_count": null,
      "outputs": [
        {
          "output_type": "stream",
          "name": "stdout",
          "text": [
            "   Product ID Product details Supplier Details  Customer Details  Gender\n",
            "0      P00001   Lenovo Laptop        Raka Ele.  Kaustubh Mahajan    Male\n",
            "1      P00002     Samsung M31      Vijay Sales     Siddhi Kiwale  Female\n",
            "2      P00003    Realmi 10pro        Gada Ele.  Sanket Kandalkar    Male\n",
            "3      P00004        Oppo F21       Surya Ele.         Yash Mali    Male\n",
            "4      P00005   Lenovo Laptop        Raka Ele.        Yash Bagul    Male\n",
            "5      P00006     Samsung M31        Gada Ele.     Siddhi Kiwale  Female\n",
            "6      P00007       LG TV 32\"      Vijay Sales  Sanket Kandalkar    Male\n",
            "7      P00008        Oppo F21       Surya Ele.  Kaustubh Mahajan    Male\n",
            "8      P00009   Lenovo Laptop        Raka Ele.         Yash Mali    Male\n",
            "9      P00010     Samsung M31        Gada Ele.     Siddhi Kiwale  Female\n",
            "10     P00011       LG TV 32\"       Surya Ele.  Sanket Kandalkar    Male\n",
            "11     P00012   Lenovo Laptop        Raka Ele.  Kaustubh Mahajan    Male\n",
            "12     P00013     Samsung M31       Surya Ele.         Yash Mali    Male\n",
            "13     P00014    Realmi 10pro        Raka Ele.     Siddhi Kiwale  Female\n",
            "14     P00015   Lenovo Laptop        Gada Ele.       Tanuja Mali  Female\n",
            "15     P00016        Oppo F21      Vijay Sales  Kaustubh Mahajan    Male\n",
            "16     P00017       LG TV 32\"   Deshmukh sales  Sanket Kandalkar    Male\n",
            "17     P00018   Lenovo Laptop        Raka Ele.     Siddhi Kiwale  Female\n",
            "18     P00019     Samsung M31   Deshmukh sales  Kaustubh Mahajan    Male\n",
            "19     P00020       LG TV 32\"        Gada Ele.         Yash Mali    Male\n"
          ]
        }
      ]
    },
    {
      "cell_type": "code",
      "source": [
        "lst2 = [1,True,34,323,23,1,45,45,23,True]\n",
        "lst2.count(True)"
      ],
      "metadata": {
        "colab": {
          "base_uri": "https://localhost:8080/"
        },
        "id": "zqTNp-5xCPZT",
        "outputId": "7f7d89ff-8028-4d72-b3c3-8776e54e22a2"
      },
      "execution_count": null,
      "outputs": [
        {
          "output_type": "execute_result",
          "data": {
            "text/plain": [
              "4"
            ]
          },
          "metadata": {},
          "execution_count": 3
        }
      ]
    },
    {
      "cell_type": "code",
      "source": [
        "# Task 1 fetch Data\n",
        "import pandas as pd\n",
        "df = pd.read_csv(\"/content/311_EDS_prac.csv\")\n",
        "print(df)\n",
        "\n",
        "#list Operations\n",
        "lst = df['Price'].to_list()\n",
        "print(lst)\n",
        "lst.append(500)\n",
        "lst.remove(1500)\n",
        "lst.extend('Start')\n",
        "lst.pop()\n",
        "print(lst)\n",
        "#Task 3 Print\n",
        "print(df['Price']<=15000)\n",
        "# Task 4 count no.of systems not having Wifi\n",
        "wi=df['Wifi support'].to_list()\n",
        "print(' No.of systems not having Wifi :')\n",
        "print(wi.count(0))\n",
        "#Task 5 Sort Price\n",
        "df3 =df[\"Price\"].sort_values()\n",
        "print(df3)"
      ],
      "metadata": {
        "id": "nzlGdgSj-VVJ",
        "colab": {
          "base_uri": "https://localhost:8080/",
          "height": 397
        },
        "outputId": "7317d4b7-6fe1-4bdb-e504-0cf5391165f3"
      },
      "execution_count": null,
      "outputs": [
        {
          "output_type": "error",
          "ename": "FileNotFoundError",
          "evalue": "ignored",
          "traceback": [
            "\u001b[0;31m---------------------------------------------------------------------------\u001b[0m",
            "\u001b[0;31mFileNotFoundError\u001b[0m                         Traceback (most recent call last)",
            "\u001b[0;32m<ipython-input-1-32657e2d0d11>\u001b[0m in \u001b[0;36m<cell line: 3>\u001b[0;34m()\u001b[0m\n\u001b[1;32m      1\u001b[0m \u001b[0;31m# Task 1 fetch Data\u001b[0m\u001b[0;34m\u001b[0m\u001b[0;34m\u001b[0m\u001b[0m\n\u001b[1;32m      2\u001b[0m \u001b[0;32mimport\u001b[0m \u001b[0mpandas\u001b[0m \u001b[0;32mas\u001b[0m \u001b[0mpd\u001b[0m\u001b[0;34m\u001b[0m\u001b[0;34m\u001b[0m\u001b[0m\n\u001b[0;32m----> 3\u001b[0;31m \u001b[0mdf\u001b[0m \u001b[0;34m=\u001b[0m \u001b[0mpd\u001b[0m\u001b[0;34m.\u001b[0m\u001b[0mread_csv\u001b[0m\u001b[0;34m(\u001b[0m\u001b[0;34m\"/content/311_EDS_prac.csv\"\u001b[0m\u001b[0;34m)\u001b[0m\u001b[0;34m\u001b[0m\u001b[0;34m\u001b[0m\u001b[0m\n\u001b[0m\u001b[1;32m      4\u001b[0m \u001b[0mprint\u001b[0m\u001b[0;34m(\u001b[0m\u001b[0mdf\u001b[0m\u001b[0;34m)\u001b[0m\u001b[0;34m\u001b[0m\u001b[0;34m\u001b[0m\u001b[0m\n\u001b[1;32m      5\u001b[0m \u001b[0;34m\u001b[0m\u001b[0m\n",
            "\u001b[0;32m/usr/local/lib/python3.10/dist-packages/pandas/util/_decorators.py\u001b[0m in \u001b[0;36mwrapper\u001b[0;34m(*args, **kwargs)\u001b[0m\n\u001b[1;32m    209\u001b[0m                 \u001b[0;32melse\u001b[0m\u001b[0;34m:\u001b[0m\u001b[0;34m\u001b[0m\u001b[0;34m\u001b[0m\u001b[0m\n\u001b[1;32m    210\u001b[0m                     \u001b[0mkwargs\u001b[0m\u001b[0;34m[\u001b[0m\u001b[0mnew_arg_name\u001b[0m\u001b[0;34m]\u001b[0m \u001b[0;34m=\u001b[0m \u001b[0mnew_arg_value\u001b[0m\u001b[0;34m\u001b[0m\u001b[0;34m\u001b[0m\u001b[0m\n\u001b[0;32m--> 211\u001b[0;31m             \u001b[0;32mreturn\u001b[0m \u001b[0mfunc\u001b[0m\u001b[0;34m(\u001b[0m\u001b[0;34m*\u001b[0m\u001b[0margs\u001b[0m\u001b[0;34m,\u001b[0m \u001b[0;34m**\u001b[0m\u001b[0mkwargs\u001b[0m\u001b[0;34m)\u001b[0m\u001b[0;34m\u001b[0m\u001b[0;34m\u001b[0m\u001b[0m\n\u001b[0m\u001b[1;32m    212\u001b[0m \u001b[0;34m\u001b[0m\u001b[0m\n\u001b[1;32m    213\u001b[0m         \u001b[0;32mreturn\u001b[0m \u001b[0mcast\u001b[0m\u001b[0;34m(\u001b[0m\u001b[0mF\u001b[0m\u001b[0;34m,\u001b[0m \u001b[0mwrapper\u001b[0m\u001b[0;34m)\u001b[0m\u001b[0;34m\u001b[0m\u001b[0;34m\u001b[0m\u001b[0m\n",
            "\u001b[0;32m/usr/local/lib/python3.10/dist-packages/pandas/util/_decorators.py\u001b[0m in \u001b[0;36mwrapper\u001b[0;34m(*args, **kwargs)\u001b[0m\n\u001b[1;32m    329\u001b[0m                     \u001b[0mstacklevel\u001b[0m\u001b[0;34m=\u001b[0m\u001b[0mfind_stack_level\u001b[0m\u001b[0;34m(\u001b[0m\u001b[0;34m)\u001b[0m\u001b[0;34m,\u001b[0m\u001b[0;34m\u001b[0m\u001b[0;34m\u001b[0m\u001b[0m\n\u001b[1;32m    330\u001b[0m                 )\n\u001b[0;32m--> 331\u001b[0;31m             \u001b[0;32mreturn\u001b[0m \u001b[0mfunc\u001b[0m\u001b[0;34m(\u001b[0m\u001b[0;34m*\u001b[0m\u001b[0margs\u001b[0m\u001b[0;34m,\u001b[0m \u001b[0;34m**\u001b[0m\u001b[0mkwargs\u001b[0m\u001b[0;34m)\u001b[0m\u001b[0;34m\u001b[0m\u001b[0;34m\u001b[0m\u001b[0m\n\u001b[0m\u001b[1;32m    332\u001b[0m \u001b[0;34m\u001b[0m\u001b[0m\n\u001b[1;32m    333\u001b[0m         \u001b[0;31m# error: \"Callable[[VarArg(Any), KwArg(Any)], Any]\" has no\u001b[0m\u001b[0;34m\u001b[0m\u001b[0;34m\u001b[0m\u001b[0m\n",
            "\u001b[0;32m/usr/local/lib/python3.10/dist-packages/pandas/io/parsers/readers.py\u001b[0m in \u001b[0;36mread_csv\u001b[0;34m(filepath_or_buffer, sep, delimiter, header, names, index_col, usecols, squeeze, prefix, mangle_dupe_cols, dtype, engine, converters, true_values, false_values, skipinitialspace, skiprows, skipfooter, nrows, na_values, keep_default_na, na_filter, verbose, skip_blank_lines, parse_dates, infer_datetime_format, keep_date_col, date_parser, dayfirst, cache_dates, iterator, chunksize, compression, thousands, decimal, lineterminator, quotechar, quoting, doublequote, escapechar, comment, encoding, encoding_errors, dialect, error_bad_lines, warn_bad_lines, on_bad_lines, delim_whitespace, low_memory, memory_map, float_precision, storage_options)\u001b[0m\n\u001b[1;32m    948\u001b[0m     \u001b[0mkwds\u001b[0m\u001b[0;34m.\u001b[0m\u001b[0mupdate\u001b[0m\u001b[0;34m(\u001b[0m\u001b[0mkwds_defaults\u001b[0m\u001b[0;34m)\u001b[0m\u001b[0;34m\u001b[0m\u001b[0;34m\u001b[0m\u001b[0m\n\u001b[1;32m    949\u001b[0m \u001b[0;34m\u001b[0m\u001b[0m\n\u001b[0;32m--> 950\u001b[0;31m     \u001b[0;32mreturn\u001b[0m \u001b[0m_read\u001b[0m\u001b[0;34m(\u001b[0m\u001b[0mfilepath_or_buffer\u001b[0m\u001b[0;34m,\u001b[0m \u001b[0mkwds\u001b[0m\u001b[0;34m)\u001b[0m\u001b[0;34m\u001b[0m\u001b[0;34m\u001b[0m\u001b[0m\n\u001b[0m\u001b[1;32m    951\u001b[0m \u001b[0;34m\u001b[0m\u001b[0m\n\u001b[1;32m    952\u001b[0m \u001b[0;34m\u001b[0m\u001b[0m\n",
            "\u001b[0;32m/usr/local/lib/python3.10/dist-packages/pandas/io/parsers/readers.py\u001b[0m in \u001b[0;36m_read\u001b[0;34m(filepath_or_buffer, kwds)\u001b[0m\n\u001b[1;32m    603\u001b[0m \u001b[0;34m\u001b[0m\u001b[0m\n\u001b[1;32m    604\u001b[0m     \u001b[0;31m# Create the parser.\u001b[0m\u001b[0;34m\u001b[0m\u001b[0;34m\u001b[0m\u001b[0m\n\u001b[0;32m--> 605\u001b[0;31m     \u001b[0mparser\u001b[0m \u001b[0;34m=\u001b[0m \u001b[0mTextFileReader\u001b[0m\u001b[0;34m(\u001b[0m\u001b[0mfilepath_or_buffer\u001b[0m\u001b[0;34m,\u001b[0m \u001b[0;34m**\u001b[0m\u001b[0mkwds\u001b[0m\u001b[0;34m)\u001b[0m\u001b[0;34m\u001b[0m\u001b[0;34m\u001b[0m\u001b[0m\n\u001b[0m\u001b[1;32m    606\u001b[0m \u001b[0;34m\u001b[0m\u001b[0m\n\u001b[1;32m    607\u001b[0m     \u001b[0;32mif\u001b[0m \u001b[0mchunksize\u001b[0m \u001b[0;32mor\u001b[0m \u001b[0miterator\u001b[0m\u001b[0;34m:\u001b[0m\u001b[0;34m\u001b[0m\u001b[0;34m\u001b[0m\u001b[0m\n",
            "\u001b[0;32m/usr/local/lib/python3.10/dist-packages/pandas/io/parsers/readers.py\u001b[0m in \u001b[0;36m__init__\u001b[0;34m(self, f, engine, **kwds)\u001b[0m\n\u001b[1;32m   1440\u001b[0m \u001b[0;34m\u001b[0m\u001b[0m\n\u001b[1;32m   1441\u001b[0m         \u001b[0mself\u001b[0m\u001b[0;34m.\u001b[0m\u001b[0mhandles\u001b[0m\u001b[0;34m:\u001b[0m \u001b[0mIOHandles\u001b[0m \u001b[0;34m|\u001b[0m \u001b[0;32mNone\u001b[0m \u001b[0;34m=\u001b[0m \u001b[0;32mNone\u001b[0m\u001b[0;34m\u001b[0m\u001b[0;34m\u001b[0m\u001b[0m\n\u001b[0;32m-> 1442\u001b[0;31m         \u001b[0mself\u001b[0m\u001b[0;34m.\u001b[0m\u001b[0m_engine\u001b[0m \u001b[0;34m=\u001b[0m \u001b[0mself\u001b[0m\u001b[0;34m.\u001b[0m\u001b[0m_make_engine\u001b[0m\u001b[0;34m(\u001b[0m\u001b[0mf\u001b[0m\u001b[0;34m,\u001b[0m \u001b[0mself\u001b[0m\u001b[0;34m.\u001b[0m\u001b[0mengine\u001b[0m\u001b[0;34m)\u001b[0m\u001b[0;34m\u001b[0m\u001b[0;34m\u001b[0m\u001b[0m\n\u001b[0m\u001b[1;32m   1443\u001b[0m \u001b[0;34m\u001b[0m\u001b[0m\n\u001b[1;32m   1444\u001b[0m     \u001b[0;32mdef\u001b[0m \u001b[0mclose\u001b[0m\u001b[0;34m(\u001b[0m\u001b[0mself\u001b[0m\u001b[0;34m)\u001b[0m \u001b[0;34m->\u001b[0m \u001b[0;32mNone\u001b[0m\u001b[0;34m:\u001b[0m\u001b[0;34m\u001b[0m\u001b[0;34m\u001b[0m\u001b[0m\n",
            "\u001b[0;32m/usr/local/lib/python3.10/dist-packages/pandas/io/parsers/readers.py\u001b[0m in \u001b[0;36m_make_engine\u001b[0;34m(self, f, engine)\u001b[0m\n\u001b[1;32m   1733\u001b[0m                 \u001b[0;32mif\u001b[0m \u001b[0;34m\"b\"\u001b[0m \u001b[0;32mnot\u001b[0m \u001b[0;32min\u001b[0m \u001b[0mmode\u001b[0m\u001b[0;34m:\u001b[0m\u001b[0;34m\u001b[0m\u001b[0;34m\u001b[0m\u001b[0m\n\u001b[1;32m   1734\u001b[0m                     \u001b[0mmode\u001b[0m \u001b[0;34m+=\u001b[0m \u001b[0;34m\"b\"\u001b[0m\u001b[0;34m\u001b[0m\u001b[0;34m\u001b[0m\u001b[0m\n\u001b[0;32m-> 1735\u001b[0;31m             self.handles = get_handle(\n\u001b[0m\u001b[1;32m   1736\u001b[0m                 \u001b[0mf\u001b[0m\u001b[0;34m,\u001b[0m\u001b[0;34m\u001b[0m\u001b[0;34m\u001b[0m\u001b[0m\n\u001b[1;32m   1737\u001b[0m                 \u001b[0mmode\u001b[0m\u001b[0;34m,\u001b[0m\u001b[0;34m\u001b[0m\u001b[0;34m\u001b[0m\u001b[0m\n",
            "\u001b[0;32m/usr/local/lib/python3.10/dist-packages/pandas/io/common.py\u001b[0m in \u001b[0;36mget_handle\u001b[0;34m(path_or_buf, mode, encoding, compression, memory_map, is_text, errors, storage_options)\u001b[0m\n\u001b[1;32m    854\u001b[0m         \u001b[0;32mif\u001b[0m \u001b[0mioargs\u001b[0m\u001b[0;34m.\u001b[0m\u001b[0mencoding\u001b[0m \u001b[0;32mand\u001b[0m \u001b[0;34m\"b\"\u001b[0m \u001b[0;32mnot\u001b[0m \u001b[0;32min\u001b[0m \u001b[0mioargs\u001b[0m\u001b[0;34m.\u001b[0m\u001b[0mmode\u001b[0m\u001b[0;34m:\u001b[0m\u001b[0;34m\u001b[0m\u001b[0;34m\u001b[0m\u001b[0m\n\u001b[1;32m    855\u001b[0m             \u001b[0;31m# Encoding\u001b[0m\u001b[0;34m\u001b[0m\u001b[0;34m\u001b[0m\u001b[0m\n\u001b[0;32m--> 856\u001b[0;31m             handle = open(\n\u001b[0m\u001b[1;32m    857\u001b[0m                 \u001b[0mhandle\u001b[0m\u001b[0;34m,\u001b[0m\u001b[0;34m\u001b[0m\u001b[0;34m\u001b[0m\u001b[0m\n\u001b[1;32m    858\u001b[0m                 \u001b[0mioargs\u001b[0m\u001b[0;34m.\u001b[0m\u001b[0mmode\u001b[0m\u001b[0;34m,\u001b[0m\u001b[0;34m\u001b[0m\u001b[0;34m\u001b[0m\u001b[0m\n",
            "\u001b[0;31mFileNotFoundError\u001b[0m: [Errno 2] No such file or directory: '/content/311_EDS_prac.csv'"
          ]
        }
      ]
    },
    {
      "cell_type": "code",
      "source": [
        "import pandas as pd\n",
        "tr = pd.read_csv(\"/content/sample_data/california_housing_train.csv\")\n",
        "print(tr)\n",
        "tr.columns"
      ],
      "metadata": {
        "id": "QXtknoNq_BR4",
        "colab": {
          "base_uri": "https://localhost:8080/"
        },
        "outputId": "5dc2fc54-050b-4c6e-8003-b7ae0473e05c"
      },
      "execution_count": null,
      "outputs": [
        {
          "output_type": "stream",
          "name": "stdout",
          "text": [
            "       longitude  latitude  housing_median_age  total_rooms  total_bedrooms  \\\n",
            "0        -114.31     34.19                15.0       5612.0          1283.0   \n",
            "1        -114.47     34.40                19.0       7650.0          1901.0   \n",
            "2        -114.56     33.69                17.0        720.0           174.0   \n",
            "3        -114.57     33.64                14.0       1501.0           337.0   \n",
            "4        -114.57     33.57                20.0       1454.0           326.0   \n",
            "...          ...       ...                 ...          ...             ...   \n",
            "16995    -124.26     40.58                52.0       2217.0           394.0   \n",
            "16996    -124.27     40.69                36.0       2349.0           528.0   \n",
            "16997    -124.30     41.84                17.0       2677.0           531.0   \n",
            "16998    -124.30     41.80                19.0       2672.0           552.0   \n",
            "16999    -124.35     40.54                52.0       1820.0           300.0   \n",
            "\n",
            "       population  households  median_income  median_house_value  \n",
            "0          1015.0       472.0         1.4936             66900.0  \n",
            "1          1129.0       463.0         1.8200             80100.0  \n",
            "2           333.0       117.0         1.6509             85700.0  \n",
            "3           515.0       226.0         3.1917             73400.0  \n",
            "4           624.0       262.0         1.9250             65500.0  \n",
            "...           ...         ...            ...                 ...  \n",
            "16995       907.0       369.0         2.3571            111400.0  \n",
            "16996      1194.0       465.0         2.5179             79000.0  \n",
            "16997      1244.0       456.0         3.0313            103600.0  \n",
            "16998      1298.0       478.0         1.9797             85800.0  \n",
            "16999       806.0       270.0         3.0147             94600.0  \n",
            "\n",
            "[17000 rows x 9 columns]\n"
          ]
        },
        {
          "output_type": "execute_result",
          "data": {
            "text/plain": [
              "Index(['longitude', 'latitude', 'housing_median_age', 'total_rooms',\n",
              "       'total_bedrooms', 'population', 'households', 'median_income',\n",
              "       'median_house_value'],\n",
              "      dtype='object')"
            ]
          },
          "metadata": {},
          "execution_count": 32
        }
      ]
    },
    {
      "cell_type": "code",
      "source": [
        "import pandas as pd\n",
        "poke = pd.read_excel(\"/content/pokemon.xlsx\")\n",
        "print(poke)"
      ],
      "metadata": {
        "colab": {
          "base_uri": "https://localhost:8080/",
          "height": 365
        },
        "id": "JkTFbPR9gqnW",
        "outputId": "b404d881-d1ed-4465-c945-1ee03b68ba59"
      },
      "execution_count": null,
      "outputs": [
        {
          "output_type": "error",
          "ename": "FileNotFoundError",
          "evalue": "ignored",
          "traceback": [
            "\u001b[0;31m---------------------------------------------------------------------------\u001b[0m",
            "\u001b[0;31mFileNotFoundError\u001b[0m                         Traceback (most recent call last)",
            "\u001b[0;32m<ipython-input-7-7141bf6c4596>\u001b[0m in \u001b[0;36m<cell line: 2>\u001b[0;34m()\u001b[0m\n\u001b[1;32m      1\u001b[0m \u001b[0;32mimport\u001b[0m \u001b[0mpandas\u001b[0m \u001b[0;32mas\u001b[0m \u001b[0mpd\u001b[0m\u001b[0;34m\u001b[0m\u001b[0;34m\u001b[0m\u001b[0m\n\u001b[0;32m----> 2\u001b[0;31m \u001b[0mpoke\u001b[0m \u001b[0;34m=\u001b[0m \u001b[0mpd\u001b[0m\u001b[0;34m.\u001b[0m\u001b[0mread_excel\u001b[0m\u001b[0;34m(\u001b[0m\u001b[0;34m\"/content/pokemon.xlsx\"\u001b[0m\u001b[0;34m)\u001b[0m\u001b[0;34m\u001b[0m\u001b[0;34m\u001b[0m\u001b[0m\n\u001b[0m\u001b[1;32m      3\u001b[0m \u001b[0mprint\u001b[0m\u001b[0;34m(\u001b[0m\u001b[0mpoke\u001b[0m\u001b[0;34m)\u001b[0m\u001b[0;34m\u001b[0m\u001b[0;34m\u001b[0m\u001b[0m\n",
            "\u001b[0;32m/usr/local/lib/python3.10/dist-packages/pandas/util/_decorators.py\u001b[0m in \u001b[0;36mwrapper\u001b[0;34m(*args, **kwargs)\u001b[0m\n\u001b[1;32m    209\u001b[0m                 \u001b[0;32melse\u001b[0m\u001b[0;34m:\u001b[0m\u001b[0;34m\u001b[0m\u001b[0;34m\u001b[0m\u001b[0m\n\u001b[1;32m    210\u001b[0m                     \u001b[0mkwargs\u001b[0m\u001b[0;34m[\u001b[0m\u001b[0mnew_arg_name\u001b[0m\u001b[0;34m]\u001b[0m \u001b[0;34m=\u001b[0m \u001b[0mnew_arg_value\u001b[0m\u001b[0;34m\u001b[0m\u001b[0;34m\u001b[0m\u001b[0m\n\u001b[0;32m--> 211\u001b[0;31m             \u001b[0;32mreturn\u001b[0m \u001b[0mfunc\u001b[0m\u001b[0;34m(\u001b[0m\u001b[0;34m*\u001b[0m\u001b[0margs\u001b[0m\u001b[0;34m,\u001b[0m \u001b[0;34m**\u001b[0m\u001b[0mkwargs\u001b[0m\u001b[0;34m)\u001b[0m\u001b[0;34m\u001b[0m\u001b[0;34m\u001b[0m\u001b[0m\n\u001b[0m\u001b[1;32m    212\u001b[0m \u001b[0;34m\u001b[0m\u001b[0m\n\u001b[1;32m    213\u001b[0m         \u001b[0;32mreturn\u001b[0m \u001b[0mcast\u001b[0m\u001b[0;34m(\u001b[0m\u001b[0mF\u001b[0m\u001b[0;34m,\u001b[0m \u001b[0mwrapper\u001b[0m\u001b[0;34m)\u001b[0m\u001b[0;34m\u001b[0m\u001b[0;34m\u001b[0m\u001b[0m\n",
            "\u001b[0;32m/usr/local/lib/python3.10/dist-packages/pandas/util/_decorators.py\u001b[0m in \u001b[0;36mwrapper\u001b[0;34m(*args, **kwargs)\u001b[0m\n\u001b[1;32m    329\u001b[0m                     \u001b[0mstacklevel\u001b[0m\u001b[0;34m=\u001b[0m\u001b[0mfind_stack_level\u001b[0m\u001b[0;34m(\u001b[0m\u001b[0;34m)\u001b[0m\u001b[0;34m,\u001b[0m\u001b[0;34m\u001b[0m\u001b[0;34m\u001b[0m\u001b[0m\n\u001b[1;32m    330\u001b[0m                 )\n\u001b[0;32m--> 331\u001b[0;31m             \u001b[0;32mreturn\u001b[0m \u001b[0mfunc\u001b[0m\u001b[0;34m(\u001b[0m\u001b[0;34m*\u001b[0m\u001b[0margs\u001b[0m\u001b[0;34m,\u001b[0m \u001b[0;34m**\u001b[0m\u001b[0mkwargs\u001b[0m\u001b[0;34m)\u001b[0m\u001b[0;34m\u001b[0m\u001b[0;34m\u001b[0m\u001b[0m\n\u001b[0m\u001b[1;32m    332\u001b[0m \u001b[0;34m\u001b[0m\u001b[0m\n\u001b[1;32m    333\u001b[0m         \u001b[0;31m# error: \"Callable[[VarArg(Any), KwArg(Any)], Any]\" has no\u001b[0m\u001b[0;34m\u001b[0m\u001b[0;34m\u001b[0m\u001b[0m\n",
            "\u001b[0;32m/usr/local/lib/python3.10/dist-packages/pandas/io/excel/_base.py\u001b[0m in \u001b[0;36mread_excel\u001b[0;34m(io, sheet_name, header, names, index_col, usecols, squeeze, dtype, engine, converters, true_values, false_values, skiprows, nrows, na_values, keep_default_na, na_filter, verbose, parse_dates, date_parser, thousands, decimal, comment, skipfooter, convert_float, mangle_dupe_cols, storage_options)\u001b[0m\n\u001b[1;32m    480\u001b[0m     \u001b[0;32mif\u001b[0m \u001b[0;32mnot\u001b[0m \u001b[0misinstance\u001b[0m\u001b[0;34m(\u001b[0m\u001b[0mio\u001b[0m\u001b[0;34m,\u001b[0m \u001b[0mExcelFile\u001b[0m\u001b[0;34m)\u001b[0m\u001b[0;34m:\u001b[0m\u001b[0;34m\u001b[0m\u001b[0;34m\u001b[0m\u001b[0m\n\u001b[1;32m    481\u001b[0m         \u001b[0mshould_close\u001b[0m \u001b[0;34m=\u001b[0m \u001b[0;32mTrue\u001b[0m\u001b[0;34m\u001b[0m\u001b[0;34m\u001b[0m\u001b[0m\n\u001b[0;32m--> 482\u001b[0;31m         \u001b[0mio\u001b[0m \u001b[0;34m=\u001b[0m \u001b[0mExcelFile\u001b[0m\u001b[0;34m(\u001b[0m\u001b[0mio\u001b[0m\u001b[0;34m,\u001b[0m \u001b[0mstorage_options\u001b[0m\u001b[0;34m=\u001b[0m\u001b[0mstorage_options\u001b[0m\u001b[0;34m,\u001b[0m \u001b[0mengine\u001b[0m\u001b[0;34m=\u001b[0m\u001b[0mengine\u001b[0m\u001b[0;34m)\u001b[0m\u001b[0;34m\u001b[0m\u001b[0;34m\u001b[0m\u001b[0m\n\u001b[0m\u001b[1;32m    483\u001b[0m     \u001b[0;32melif\u001b[0m \u001b[0mengine\u001b[0m \u001b[0;32mand\u001b[0m \u001b[0mengine\u001b[0m \u001b[0;34m!=\u001b[0m \u001b[0mio\u001b[0m\u001b[0;34m.\u001b[0m\u001b[0mengine\u001b[0m\u001b[0;34m:\u001b[0m\u001b[0;34m\u001b[0m\u001b[0;34m\u001b[0m\u001b[0m\n\u001b[1;32m    484\u001b[0m         raise ValueError(\n",
            "\u001b[0;32m/usr/local/lib/python3.10/dist-packages/pandas/io/excel/_base.py\u001b[0m in \u001b[0;36m__init__\u001b[0;34m(self, path_or_buffer, engine, storage_options)\u001b[0m\n\u001b[1;32m   1650\u001b[0m                 \u001b[0mext\u001b[0m \u001b[0;34m=\u001b[0m \u001b[0;34m\"xls\"\u001b[0m\u001b[0;34m\u001b[0m\u001b[0;34m\u001b[0m\u001b[0m\n\u001b[1;32m   1651\u001b[0m             \u001b[0;32melse\u001b[0m\u001b[0;34m:\u001b[0m\u001b[0;34m\u001b[0m\u001b[0;34m\u001b[0m\u001b[0m\n\u001b[0;32m-> 1652\u001b[0;31m                 ext = inspect_excel_format(\n\u001b[0m\u001b[1;32m   1653\u001b[0m                     \u001b[0mcontent_or_path\u001b[0m\u001b[0;34m=\u001b[0m\u001b[0mpath_or_buffer\u001b[0m\u001b[0;34m,\u001b[0m \u001b[0mstorage_options\u001b[0m\u001b[0;34m=\u001b[0m\u001b[0mstorage_options\u001b[0m\u001b[0;34m\u001b[0m\u001b[0;34m\u001b[0m\u001b[0m\n\u001b[1;32m   1654\u001b[0m                 )\n",
            "\u001b[0;32m/usr/local/lib/python3.10/dist-packages/pandas/io/excel/_base.py\u001b[0m in \u001b[0;36minspect_excel_format\u001b[0;34m(content_or_path, storage_options)\u001b[0m\n\u001b[1;32m   1523\u001b[0m         \u001b[0mcontent_or_path\u001b[0m \u001b[0;34m=\u001b[0m \u001b[0mBytesIO\u001b[0m\u001b[0;34m(\u001b[0m\u001b[0mcontent_or_path\u001b[0m\u001b[0;34m)\u001b[0m\u001b[0;34m\u001b[0m\u001b[0;34m\u001b[0m\u001b[0m\n\u001b[1;32m   1524\u001b[0m \u001b[0;34m\u001b[0m\u001b[0m\n\u001b[0;32m-> 1525\u001b[0;31m     with get_handle(\n\u001b[0m\u001b[1;32m   1526\u001b[0m         \u001b[0mcontent_or_path\u001b[0m\u001b[0;34m,\u001b[0m \u001b[0;34m\"rb\"\u001b[0m\u001b[0;34m,\u001b[0m \u001b[0mstorage_options\u001b[0m\u001b[0;34m=\u001b[0m\u001b[0mstorage_options\u001b[0m\u001b[0;34m,\u001b[0m \u001b[0mis_text\u001b[0m\u001b[0;34m=\u001b[0m\u001b[0;32mFalse\u001b[0m\u001b[0;34m\u001b[0m\u001b[0;34m\u001b[0m\u001b[0m\n\u001b[1;32m   1527\u001b[0m     ) as handle:\n",
            "\u001b[0;32m/usr/local/lib/python3.10/dist-packages/pandas/io/common.py\u001b[0m in \u001b[0;36mget_handle\u001b[0;34m(path_or_buf, mode, encoding, compression, memory_map, is_text, errors, storage_options)\u001b[0m\n\u001b[1;32m    863\u001b[0m         \u001b[0;32melse\u001b[0m\u001b[0;34m:\u001b[0m\u001b[0;34m\u001b[0m\u001b[0;34m\u001b[0m\u001b[0m\n\u001b[1;32m    864\u001b[0m             \u001b[0;31m# Binary mode\u001b[0m\u001b[0;34m\u001b[0m\u001b[0;34m\u001b[0m\u001b[0m\n\u001b[0;32m--> 865\u001b[0;31m             \u001b[0mhandle\u001b[0m \u001b[0;34m=\u001b[0m \u001b[0mopen\u001b[0m\u001b[0;34m(\u001b[0m\u001b[0mhandle\u001b[0m\u001b[0;34m,\u001b[0m \u001b[0mioargs\u001b[0m\u001b[0;34m.\u001b[0m\u001b[0mmode\u001b[0m\u001b[0;34m)\u001b[0m\u001b[0;34m\u001b[0m\u001b[0;34m\u001b[0m\u001b[0m\n\u001b[0m\u001b[1;32m    866\u001b[0m         \u001b[0mhandles\u001b[0m\u001b[0;34m.\u001b[0m\u001b[0mappend\u001b[0m\u001b[0;34m(\u001b[0m\u001b[0mhandle\u001b[0m\u001b[0;34m)\u001b[0m\u001b[0;34m\u001b[0m\u001b[0;34m\u001b[0m\u001b[0m\n\u001b[1;32m    867\u001b[0m \u001b[0;34m\u001b[0m\u001b[0m\n",
            "\u001b[0;31mFileNotFoundError\u001b[0m: [Errno 2] No such file or directory: '/content/pokemon.xlsx'"
          ]
        }
      ]
    },
    {
      "cell_type": "code",
      "source": [
        "poke['Total'] = poke['Attack']+poke['Defense']+poke['Speed']+poke['Sp. Atk']\n",
        "poke"
      ],
      "metadata": {
        "colab": {
          "base_uri": "https://localhost:8080/",
          "height": 185
        },
        "id": "9EUHKzbfhqv4",
        "outputId": "3fc1c421-a27d-4ae4-997e-dd4ab290b988"
      },
      "execution_count": null,
      "outputs": [
        {
          "output_type": "error",
          "ename": "NameError",
          "evalue": "ignored",
          "traceback": [
            "\u001b[0;31m---------------------------------------------------------------------------\u001b[0m",
            "\u001b[0;31mNameError\u001b[0m                                 Traceback (most recent call last)",
            "\u001b[0;32m<ipython-input-5-26c4797c9ba2>\u001b[0m in \u001b[0;36m<cell line: 1>\u001b[0;34m()\u001b[0m\n\u001b[0;32m----> 1\u001b[0;31m \u001b[0mpoke\u001b[0m\u001b[0;34m[\u001b[0m\u001b[0;34m'Total'\u001b[0m\u001b[0;34m]\u001b[0m \u001b[0;34m=\u001b[0m \u001b[0mpoke\u001b[0m\u001b[0;34m[\u001b[0m\u001b[0;34m'Attack'\u001b[0m\u001b[0;34m]\u001b[0m\u001b[0;34m+\u001b[0m\u001b[0mpoke\u001b[0m\u001b[0;34m[\u001b[0m\u001b[0;34m'Defense'\u001b[0m\u001b[0;34m]\u001b[0m\u001b[0;34m+\u001b[0m\u001b[0mpoke\u001b[0m\u001b[0;34m[\u001b[0m\u001b[0;34m'Speed'\u001b[0m\u001b[0;34m]\u001b[0m\u001b[0;34m+\u001b[0m\u001b[0mpoke\u001b[0m\u001b[0;34m[\u001b[0m\u001b[0;34m'Sp. Atk'\u001b[0m\u001b[0;34m]\u001b[0m\u001b[0;34m\u001b[0m\u001b[0;34m\u001b[0m\u001b[0m\n\u001b[0m\u001b[1;32m      2\u001b[0m \u001b[0mpoke\u001b[0m\u001b[0;34m\u001b[0m\u001b[0;34m\u001b[0m\u001b[0m\n",
            "\u001b[0;31mNameError\u001b[0m: name 'poke' is not defined"
          ]
        }
      ]
    },
    {
      "cell_type": "code",
      "source": [
        "sort = poke['Attack','Name'].sort_values()\n",
        "sort"
      ],
      "metadata": {
        "colab": {
          "base_uri": "https://localhost:8080/",
          "height": 501
        },
        "id": "Q5DKjZJSjQZR",
        "outputId": "bf1c468c-ee5c-462e-8f9a-fdd4e6b1cc0b"
      },
      "execution_count": null,
      "outputs": [
        {
          "output_type": "error",
          "ename": "KeyError",
          "evalue": "ignored",
          "traceback": [
            "\u001b[0;31m---------------------------------------------------------------------------\u001b[0m",
            "\u001b[0;31mKeyError\u001b[0m                                  Traceback (most recent call last)",
            "\u001b[0;32m/usr/local/lib/python3.10/dist-packages/pandas/core/indexes/base.py\u001b[0m in \u001b[0;36mget_loc\u001b[0;34m(self, key, method, tolerance)\u001b[0m\n\u001b[1;32m   3801\u001b[0m             \u001b[0;32mtry\u001b[0m\u001b[0;34m:\u001b[0m\u001b[0;34m\u001b[0m\u001b[0;34m\u001b[0m\u001b[0m\n\u001b[0;32m-> 3802\u001b[0;31m                 \u001b[0;32mreturn\u001b[0m \u001b[0mself\u001b[0m\u001b[0;34m.\u001b[0m\u001b[0m_engine\u001b[0m\u001b[0;34m.\u001b[0m\u001b[0mget_loc\u001b[0m\u001b[0;34m(\u001b[0m\u001b[0mcasted_key\u001b[0m\u001b[0;34m)\u001b[0m\u001b[0;34m\u001b[0m\u001b[0;34m\u001b[0m\u001b[0m\n\u001b[0m\u001b[1;32m   3803\u001b[0m             \u001b[0;32mexcept\u001b[0m \u001b[0mKeyError\u001b[0m \u001b[0;32mas\u001b[0m \u001b[0merr\u001b[0m\u001b[0;34m:\u001b[0m\u001b[0;34m\u001b[0m\u001b[0;34m\u001b[0m\u001b[0m\n",
            "\u001b[0;32m/usr/local/lib/python3.10/dist-packages/pandas/_libs/index.pyx\u001b[0m in \u001b[0;36mpandas._libs.index.IndexEngine.get_loc\u001b[0;34m()\u001b[0m\n",
            "\u001b[0;32m/usr/local/lib/python3.10/dist-packages/pandas/_libs/index.pyx\u001b[0m in \u001b[0;36mpandas._libs.index.IndexEngine.get_loc\u001b[0;34m()\u001b[0m\n",
            "\u001b[0;32mpandas/_libs/hashtable_class_helper.pxi\u001b[0m in \u001b[0;36mpandas._libs.hashtable.PyObjectHashTable.get_item\u001b[0;34m()\u001b[0m\n",
            "\u001b[0;32mpandas/_libs/hashtable_class_helper.pxi\u001b[0m in \u001b[0;36mpandas._libs.hashtable.PyObjectHashTable.get_item\u001b[0;34m()\u001b[0m\n",
            "\u001b[0;31mKeyError\u001b[0m: ('Attack', 'Name')",
            "\nThe above exception was the direct cause of the following exception:\n",
            "\u001b[0;31mKeyError\u001b[0m                                  Traceback (most recent call last)",
            "\u001b[0;32m<ipython-input-4-2b2fb7536432>\u001b[0m in \u001b[0;36m<cell line: 1>\u001b[0;34m()\u001b[0m\n\u001b[0;32m----> 1\u001b[0;31m \u001b[0msort\u001b[0m \u001b[0;34m=\u001b[0m \u001b[0mpoke\u001b[0m\u001b[0;34m[\u001b[0m\u001b[0;34m'Attack'\u001b[0m\u001b[0;34m,\u001b[0m\u001b[0;34m'Name'\u001b[0m\u001b[0;34m]\u001b[0m\u001b[0;34m.\u001b[0m\u001b[0msort_values\u001b[0m\u001b[0;34m(\u001b[0m\u001b[0;34m)\u001b[0m\u001b[0;34m\u001b[0m\u001b[0;34m\u001b[0m\u001b[0m\n\u001b[0m\u001b[1;32m      2\u001b[0m \u001b[0msort\u001b[0m\u001b[0;34m\u001b[0m\u001b[0;34m\u001b[0m\u001b[0m\n",
            "\u001b[0;32m/usr/local/lib/python3.10/dist-packages/pandas/core/frame.py\u001b[0m in \u001b[0;36m__getitem__\u001b[0;34m(self, key)\u001b[0m\n\u001b[1;32m   3805\u001b[0m             \u001b[0;32mif\u001b[0m \u001b[0mself\u001b[0m\u001b[0;34m.\u001b[0m\u001b[0mcolumns\u001b[0m\u001b[0;34m.\u001b[0m\u001b[0mnlevels\u001b[0m \u001b[0;34m>\u001b[0m \u001b[0;36m1\u001b[0m\u001b[0;34m:\u001b[0m\u001b[0;34m\u001b[0m\u001b[0;34m\u001b[0m\u001b[0m\n\u001b[1;32m   3806\u001b[0m                 \u001b[0;32mreturn\u001b[0m \u001b[0mself\u001b[0m\u001b[0;34m.\u001b[0m\u001b[0m_getitem_multilevel\u001b[0m\u001b[0;34m(\u001b[0m\u001b[0mkey\u001b[0m\u001b[0;34m)\u001b[0m\u001b[0;34m\u001b[0m\u001b[0;34m\u001b[0m\u001b[0m\n\u001b[0;32m-> 3807\u001b[0;31m             \u001b[0mindexer\u001b[0m \u001b[0;34m=\u001b[0m \u001b[0mself\u001b[0m\u001b[0;34m.\u001b[0m\u001b[0mcolumns\u001b[0m\u001b[0;34m.\u001b[0m\u001b[0mget_loc\u001b[0m\u001b[0;34m(\u001b[0m\u001b[0mkey\u001b[0m\u001b[0;34m)\u001b[0m\u001b[0;34m\u001b[0m\u001b[0;34m\u001b[0m\u001b[0m\n\u001b[0m\u001b[1;32m   3808\u001b[0m             \u001b[0;32mif\u001b[0m \u001b[0mis_integer\u001b[0m\u001b[0;34m(\u001b[0m\u001b[0mindexer\u001b[0m\u001b[0;34m)\u001b[0m\u001b[0;34m:\u001b[0m\u001b[0;34m\u001b[0m\u001b[0;34m\u001b[0m\u001b[0m\n\u001b[1;32m   3809\u001b[0m                 \u001b[0mindexer\u001b[0m \u001b[0;34m=\u001b[0m \u001b[0;34m[\u001b[0m\u001b[0mindexer\u001b[0m\u001b[0;34m]\u001b[0m\u001b[0;34m\u001b[0m\u001b[0;34m\u001b[0m\u001b[0m\n",
            "\u001b[0;32m/usr/local/lib/python3.10/dist-packages/pandas/core/indexes/base.py\u001b[0m in \u001b[0;36mget_loc\u001b[0;34m(self, key, method, tolerance)\u001b[0m\n\u001b[1;32m   3802\u001b[0m                 \u001b[0;32mreturn\u001b[0m \u001b[0mself\u001b[0m\u001b[0;34m.\u001b[0m\u001b[0m_engine\u001b[0m\u001b[0;34m.\u001b[0m\u001b[0mget_loc\u001b[0m\u001b[0;34m(\u001b[0m\u001b[0mcasted_key\u001b[0m\u001b[0;34m)\u001b[0m\u001b[0;34m\u001b[0m\u001b[0;34m\u001b[0m\u001b[0m\n\u001b[1;32m   3803\u001b[0m             \u001b[0;32mexcept\u001b[0m \u001b[0mKeyError\u001b[0m \u001b[0;32mas\u001b[0m \u001b[0merr\u001b[0m\u001b[0;34m:\u001b[0m\u001b[0;34m\u001b[0m\u001b[0;34m\u001b[0m\u001b[0m\n\u001b[0;32m-> 3804\u001b[0;31m                 \u001b[0;32mraise\u001b[0m \u001b[0mKeyError\u001b[0m\u001b[0;34m(\u001b[0m\u001b[0mkey\u001b[0m\u001b[0;34m)\u001b[0m \u001b[0;32mfrom\u001b[0m \u001b[0merr\u001b[0m\u001b[0;34m\u001b[0m\u001b[0;34m\u001b[0m\u001b[0m\n\u001b[0m\u001b[1;32m   3805\u001b[0m             \u001b[0;32mexcept\u001b[0m \u001b[0mTypeError\u001b[0m\u001b[0;34m:\u001b[0m\u001b[0;34m\u001b[0m\u001b[0;34m\u001b[0m\u001b[0m\n\u001b[1;32m   3806\u001b[0m                 \u001b[0;31m# If we have a listlike key, _check_indexing_error will raise\u001b[0m\u001b[0;34m\u001b[0m\u001b[0;34m\u001b[0m\u001b[0m\n",
            "\u001b[0;31mKeyError\u001b[0m: ('Attack', 'Name')"
          ]
        }
      ]
    },
    {
      "cell_type": "code",
      "source": [
        "import pandas as pd\n",
        "\n",
        "dict1 = {'Roll_No': [1,2,3,4,5],'Name':['Leo','Anu','Minu','Pashu','Mandar']}\n",
        "df = pd.DataFrame.from_dict(dict1)\n",
        "print(df)\n",
        "a= df['Roll_No']\n",
        "b=df['Name']\n",
        "df.Roll_No = df.Roll_No.astype('int64')\n",
        "c = df.groupby('Name')['Roll_No'].count()==2\n",
        "e = df.groupby('Name')['Roll_No'].head()\n",
        "d= df.aggregate(['sum','min','max'])\n",
        "print(d)\n",
        "\n",
        "def student(d):\n",
        "  print(d)\n",
        "student(d)"
      ],
      "metadata": {
        "colab": {
          "base_uri": "https://localhost:8080/"
        },
        "id": "F7DNEjTCoQD9",
        "outputId": "55c9be92-7541-4b9b-8d50-25826203cb18"
      },
      "execution_count": null,
      "outputs": [
        {
          "output_type": "stream",
          "name": "stdout",
          "text": [
            "   Roll_No    Name\n",
            "0        1     Leo\n",
            "1        2     Anu\n",
            "2        3    Minu\n",
            "3        4   Pashu\n",
            "4        5  Mandar\n",
            "     Roll_No                   Name\n",
            "sum       15  LeoAnuMinuPashuMandar\n",
            "min        1                    Anu\n",
            "max        5                  Pashu\n",
            "     Roll_No                   Name\n",
            "sum       15  LeoAnuMinuPashuMandar\n",
            "min        1                    Anu\n",
            "max        5                  Pashu\n"
          ]
        }
      ]
    },
    {
      "cell_type": "code",
      "source": [
        "import matplotlib.pyplot as plt\n",
        "import pandas as pd\n",
        "v = df['Name'].head(3)\n",
        "l = df['Roll_No'].head(3)\n",
        "plt.pie(l, labels=v,\n",
        "autopct='%1.1f%%', startangle=140)\n",
        "plt.show()"
      ],
      "metadata": {
        "id": "pOUIipZoz0tX",
        "colab": {
          "base_uri": "https://localhost:8080/",
          "height": 406
        },
        "outputId": "ad3bcbbc-54e8-4974-b538-88f4a1ababdc"
      },
      "execution_count": null,
      "outputs": [
        {
          "output_type": "display_data",
          "data": {
            "text/plain": [
              "<Figure size 640x480 with 1 Axes>"
            ],
            "image/png": "[encoded data removed]"
          },
          "metadata": {}
        }
      ]
    },
    {
      "cell_type": "code",
      "source": [
        "d.plot()"
      ],
      "metadata": {
        "colab": {
          "base_uri": "https://localhost:8080/",
          "height": 447
        },
        "id": "8Scx4D1b3g5L",
        "outputId": "37cfc3b9-4160-4315-ce5b-e48a80172b82"
      },
      "execution_count": null,
      "outputs": [
        {
          "output_type": "execute_result",
          "data": {
            "text/plain": [
              "<Axes: >"
            ]
          },
          "metadata": {},
          "execution_count": 16
        },
        {
          "output_type": "display_data",
          "data": {
            "text/plain": [
              "<Figure size 640x480 with 1 Axes>"
            ],
            "image/png": "[encoded data removed]"
          },
          "metadata": {}
        }
      ]
    },
    {
      "cell_type": "code",
      "source": [
        "\n",
        "import pandas as pd\n",
        "details = pd.DataFrame({\n",
        "\t'ID': [101, 102, 103, 104, 105, 106,\n",
        "\t\t107, 108, 109, 110],\n",
        "\t'NAME': ['Jagroop', 'Praveen', 'Harjot',\n",
        "\t\t\t'Pooja', 'Rahul', 'Nikita',\n",
        "\t\t\t'Saurabh', 'Ayush', 'Dolly', \"Mohit\"],\n",
        "\t'BRANCH': ['CSE', 'CSE', 'CSE', 'CSE', 'CSE',\n",
        "\t\t\t'CSE', 'CSE', 'CSE', 'CSE', 'CSE']})\n",
        "\n",
        "# printing details\n",
        "print(details)\n"
      ],
      "metadata": {
        "id": "dPRGRd_a-N8D",
        "colab": {
          "base_uri": "https://localhost:8080/"
        },
        "outputId": "4d0a9e7f-f871-4e62-8d61-717a052503c0"
      },
      "execution_count": null,
      "outputs": [
        {
          "output_type": "stream",
          "name": "stdout",
          "text": [
            "    ID     NAME BRANCH\n",
            "0  101  Jagroop    CSE\n",
            "1  102  Praveen    CSE\n",
            "2  103   Harjot    CSE\n",
            "3  104    Pooja    CSE\n",
            "4  105    Rahul    CSE\n",
            "5  106   Nikita    CSE\n",
            "6  107  Saurabh    CSE\n",
            "7  108    Ayush    CSE\n",
            "8  109    Dolly    CSE\n",
            "9  110    Mohit    CSE\n"
          ]
        }
      ]
    },
    {
      "cell_type": "code",
      "source": [
        "details.plot()"
      ],
      "metadata": {
        "colab": {
          "base_uri": "https://localhost:8080/",
          "height": 447
        },
        "id": "3aLakBvlYWzq",
        "outputId": "94d4ef15-1f8d-4693-c0c2-1cba2dbf7508"
      },
      "execution_count": null,
      "outputs": [
        {
          "output_type": "execute_result",
          "data": {
            "text/plain": [
              "<Axes: >"
            ]
          },
          "metadata": {},
          "execution_count": 3
        },
        {
          "output_type": "display_data",
          "data": {
            "text/plain": [
              "<Figure size 640x480 with 1 Axes>"
            ],
            "image/png": "[encoded data removed]"
          },
          "metadata": {}
        }
      ]
    },
    {
      "cell_type": "code",
      "source": [
        "# import pandas and matplotlib\n",
        "import pandas as pd\n",
        "import matplotlib.pyplot as plt\n",
        "\n",
        "# create 2D array of table given above\n",
        "data = [['1', 'M', 34, 'Normal', 350],\n",
        "\t\t['2', 'F', 40, 'Overweight', 450],\n",
        "\t\t['3', 'F', 37,  'Obesity', 169],\n",
        "\t\t['4', 'M', 30, 'Underweight', 189],\n",
        "\t\t['5', 'F', 44, 'Underweight', 183],\n",
        "\t\t['6', 'M', 36,'Normal', 80],\n",
        "\t\t['7', 'M', 32, 133, 'Obesity', 166],\n",
        "\t\t['8', 'F', 26, 140, 'Normal', 120],\n",
        "\t\t['9', 'M', 32, 133, 'Normal', 75],\n",
        "\t\t['10', 'M', 36, 133, 'Underweight', 40] ]\n",
        "\n",
        "# dataframe created with\n",
        "# the above data array\n",
        "df = pd.DataFrame(data, columns = ['EMPID', 'Gender',\n",
        "\t\t\t\t\t\t\t\t\t'Age', 'Sales',\n",
        "\t\t\t\t\t\t\t\t\t'BMI', 'Income'] )\n",
        "\n",
        "# create histogram for numeric data\n",
        "df.hist()\n",
        "\n",
        "# show plot\n",
        "plt.show()\n"
      ],
      "metadata": {
        "colab": {
          "base_uri": "https://localhost:8080/",
          "height": 452
        },
        "id": "X1iLJzkwZFKS",
        "outputId": "fe521c9b-99b2-41fe-cfbb-95407382d47c"
      },
      "execution_count": null,
      "outputs": [
        {
          "output_type": "display_data",
          "data": {
            "text/plain": [
              "<Figure size 640x480 with 4 Axes>"
            ],
            "image/png": "[encoded data removed]"
          },
          "metadata": {}
        }
      ]
    },
    {
      "cell_type": "code",
      "source": [
        "import pandas as pd\n",
        "df = pd.read_csv('/content/drive/MyDrive/mm.csv')\n",
        "print(df)\n",
        "df = df.dropna()"
      ],
      "metadata": {
        "colab": {
          "base_uri": "https://localhost:8080/"
        },
        "id": "_X5D6J2SbwjC",
        "outputId": "122c22a1-407b-49d7-c3b4-ea728b94f230"
      },
      "execution_count": null,
      "outputs": [
        {
          "output_type": "stream",
          "name": "stdout",
          "text": [
            "     Name   Age Profession Native Place    Income\n",
            "0     NaN   NaN        NaN          NaN       NaN\n",
            "1   Ravin  67.0     Pedlar    Gaziabaad  590000.0\n",
            "2   Akhil  76.0    Batsman   Tamil Nadu  654000.0\n",
            "3  Robert  21.0    Teacher     New York  485110.0\n",
            "4   Domey  29.0      Clerk      Tolstoy  478551.0\n",
            "5  Freedy  65.0    Officer        Delhi  780000.0\n",
            "6  Lokesh  32.0    Speaker    Karnataka  590000.0\n",
            "7    Greg  41.0      Actor   California  780000.0\n",
            "8  Andrew  39.0   Salesman   Netherfarm  900000.0\n"
          ]
        }
      ]
    },
    {
      "cell_type": "code",
      "source": [
        "a = df['Age'].dropna()\n",
        "\n",
        "\n"
      ],
      "metadata": {
        "id": "tG3yM-MucAVK"
      },
      "execution_count": null,
      "outputs": []
    },
    {
      "cell_type": "code",
      "source": [
        "import matplotlib.pyplot as plt\n",
        "import pandas as pd\n",
        "\n",
        "l = df['Name']\n",
        "plt.pie(a, labels=l,\n",
        "autopct='%1.1f%%', shadow=True, startangle=140)\n",
        "plt.show()"
      ],
      "metadata": {
        "colab": {
          "base_uri": "https://localhost:8080/",
          "height": 406
        },
        "id": "CXu037FHfOss",
        "outputId": "9d680800-4b10-4987-968f-2e38ed6ec60c"
      },
      "execution_count": null,
      "outputs": [
        {
          "output_type": "display_data",
          "data": {
            "text/plain": [
              "<Figure size 640x480 with 1 Axes>"
            ],
            "image/png": "[encoded data removed]"
          },
          "metadata": {}
        }
      ]
    },
    {
      "cell_type": "code",
      "source": [
        "!pip install pymysql"
      ],
      "metadata": {
        "colab": {
          "base_uri": "https://localhost:8080/"
        },
        "id": "qS2sm0Cf9v4i",
        "outputId": "f52046fc-8b97-4d29-deb0-679cd6353777"
      },
      "execution_count": null,
      "outputs": [
        {
          "output_type": "stream",
          "name": "stdout",
          "text": [
            "Looking in indexes: https://pypi.org/simple, https://us-python.pkg.dev/colab-wheels/public/simple/\n",
            "Collecting pymysql\n",
            "  Downloading PyMySQL-1.0.3-py3-none-any.whl (43 kB)\n",
            "\u001b[?25l     \u001b[90m━━━━━━━━━━━━━━━━━━━━━━━━━━━━━━━━━━━━━━━━\u001b[0m \u001b[32m0.0/43.7 kB\u001b[0m \u001b[31m?\u001b[0m eta \u001b[36m-:--:--\u001b[0m\r\u001b[2K     \u001b[90m━━━━━━━━━━━━━━━━━━━━━━━━━━━━━━━━━━━━━━━━\u001b[0m \u001b[32m43.7/43.7 kB\u001b[0m \u001b[31m2.0 MB/s\u001b[0m eta \u001b[36m0:00:00\u001b[0m\n",
            "\u001b[?25hInstalling collected packages: pymysql\n",
            "Successfully installed pymysql-1.0.3\n"
          ]
        }
      ]
    },
    {
      "cell_type": "code",
      "source": [
        "from tkinter import *\n",
        "from PIL import ImageTk,Image\n",
        "import pymysql\n",
        "from tkinter import messagebox\n",
        "from AddBook import *\n",
        "from DeleteBook import *\n",
        "from ViewBooks import *\n",
        "from IssueBook import *\n",
        "from ReturnBook import *\n",
        "# Add your own database name and password here to reflect in the code\n",
        "mypass = \"root\"\n",
        "mydatabase=\"db\"\n",
        "\n",
        "con = pymysql.connect(host=\"localhost\",user=\"root\",password=mypass,database=mydatabase)\n",
        "cur = con.cursor()\n",
        "\n",
        "root = Tk()\n",
        "root.title(\"Library\")\n",
        "root.minsize(width=400,height=400)\n",
        "root.geometry(\"600x500\")\n",
        "\n",
        "# Take n greater than 0.25 and less than 5\n",
        "same=True\n",
        "n=0.25\n",
        "\n",
        "# Adding a background image\n",
        "background_image =Image.open(\"lib.jpg\")\n",
        "[imageSizeWidth, imageSizeHeight] = background_image.size\n",
        "\n",
        "newImageSizeWidth = int(imageSizeWidth*n)\n",
        "if same:\n",
        "    newImageSizeHeight = int(imageSizeHeight*n)\n",
        "else:\n",
        "    newImageSizeHeight = int(imageSizeHeight/n)\n",
        "\n",
        "background_image = background_image.resize((newImageSizeWidth,newImageSizeHeight),Image.ANTIALIAS)\n",
        "img = ImageTk.PhotoImage(background_image)\n",
        "\n",
        "Canvas1 = Canvas(root)\n",
        "\n",
        "Canvas1.create_image(300,340,image = img)\n",
        "Canvas1.config(bg=\"white\",width = newImageSizeWidth, height = newImageSizeHeight)\n",
        "Canvas1.pack(expand=True,fill=BOTH)\n",
        "\n",
        "headingFrame1 = Frame(root,bg=\"#FFBB00\",bd=5)\n",
        "headingFrame1.place(relx=0.2,rely=0.1,relwidth=0.6,relheight=0.16)\n",
        "\n",
        "headingLabel = Label(headingFrame1, text=\"Welcome to \\n DataFlair Library\", bg='black', fg='white', font=('Courier',15))\n",
        "headingLabel.place(relx=0,rely=0, relwidth=1, relheight=1)\n",
        "\n",
        "btn1 = Button(root,text=\"Add Book Details\",bg='black', fg='white', command=addBook)\n",
        "btn1.place(relx=0.28,rely=0.4, relwidth=0.45,relheight=0.1)\n",
        "\n",
        "btn2 = Button(root,text=\"Delete Book\",bg='black', fg='white', command=delete)\n",
        "btn2.place(relx=0.28,rely=0.5, relwidth=0.45,relheight=0.1)\n",
        "\n",
        "btn3 = Button(root,text=\"View Book List\",bg='black', fg='white', command=View)\n",
        "btn3.place(relx=0.28,rely=0.6, relwidth=0.45,relheight=0.1)\n",
        "\n",
        "btn4 = Button(root,text=\"Issue Book to Student\",bg='black', fg='white', command = issueBook)\n",
        "btn4.place(relx=0.28,rely=0.7, relwidth=0.45,relheight=0.1)\n",
        "\n",
        "btn5 = Button(root,text=\"Return Book\",bg='black', fg='white', command = returnBook)\n",
        "btn5.place(relx=0.28,rely=0.8, relwidth=0.45,relheight=0.1)\n",
        "\n",
        "root.mainloop()\n"
      ],
      "metadata": {
        "colab": {
          "base_uri": "https://localhost:8080/",
          "height": 374
        },
        "id": "kT_rKxg59GMy",
        "outputId": "d6a936c5-65b4-44f9-ed9a-36c802cb41f3"
      },
      "execution_count": null,
      "outputs": [
        {
          "output_type": "error",
          "ename": "ModuleNotFoundError",
          "evalue": "ignored",
          "traceback": [
            "\u001b[0;31m---------------------------------------------------------------------------\u001b[0m",
            "\u001b[0;31mModuleNotFoundError\u001b[0m                       Traceback (most recent call last)",
            "\u001b[0;32m<ipython-input-6-f418fd22a0ff>\u001b[0m in \u001b[0;36m<cell line: 5>\u001b[0;34m()\u001b[0m\n\u001b[1;32m      3\u001b[0m \u001b[0;32mimport\u001b[0m \u001b[0mpymysql\u001b[0m\u001b[0;34m\u001b[0m\u001b[0;34m\u001b[0m\u001b[0m\n\u001b[1;32m      4\u001b[0m \u001b[0;32mfrom\u001b[0m \u001b[0mtkinter\u001b[0m \u001b[0;32mimport\u001b[0m \u001b[0mmessagebox\u001b[0m\u001b[0;34m\u001b[0m\u001b[0;34m\u001b[0m\u001b[0m\n\u001b[0;32m----> 5\u001b[0;31m \u001b[0;32mfrom\u001b[0m \u001b[0mAddBook\u001b[0m \u001b[0;32mimport\u001b[0m \u001b[0;34m*\u001b[0m\u001b[0;34m\u001b[0m\u001b[0;34m\u001b[0m\u001b[0m\n\u001b[0m\u001b[1;32m      6\u001b[0m \u001b[0;32mfrom\u001b[0m \u001b[0mDeleteBook\u001b[0m \u001b[0;32mimport\u001b[0m \u001b[0;34m*\u001b[0m\u001b[0;34m\u001b[0m\u001b[0;34m\u001b[0m\u001b[0m\n\u001b[1;32m      7\u001b[0m \u001b[0;32mfrom\u001b[0m \u001b[0mViewBooks\u001b[0m \u001b[0;32mimport\u001b[0m \u001b[0;34m*\u001b[0m\u001b[0;34m\u001b[0m\u001b[0;34m\u001b[0m\u001b[0m\n",
            "\u001b[0;31mModuleNotFoundError\u001b[0m: No module named 'AddBook'",
            "",
            "\u001b[0;31m---------------------------------------------------------------------------\u001b[0;32m\nNOTE: If your import is failing due to a missing package, you can\nmanually install dependencies using either !pip or !apt.\n\nTo view examples of installing some common dependencies, click the\n\"Open Examples\" button below.\n\u001b[0;31m---------------------------------------------------------------------------\u001b[0m\n"
          ],
          "errorDetails": {
            "actions": [
              {
                "action": "open_url",
                "actionText": "Open Examples",
                "url": "/notebooks/snippets/importing_libraries.ipynb"
              }
            ]
          }
        }
      ]
    },
    {
      "cell_type": "code",
      "source": [
        "from tkinter import *\n",
        "from PIL import ImageTk,Image\n",
        "from tkinter import messagebox\n",
        "import pymysql\n",
        "\n",
        "def bookRegister():\n",
        "\n",
        "    bid = bookInfo1.get()\n",
        "    title = bookInfo2.get()\n",
        "    author = bookInfo3.get()\n",
        "    status = bookInfo4.get()\n",
        "    status = status.lower()\n",
        "\n",
        "    insertBooks = \"insert into \"+bookTable+\" values('\"+bid+\"','\"+title+\"','\"+author+\"','\"+status+\"')\"\n",
        "    try:\n",
        "        cur.execute(insertBooks)\n",
        "        con.commit()\n",
        "        messagebox.showinfo('Success',\"Book added successfully\")\n",
        "    except:\n",
        "        messagebox.showinfo(\"Error\",\"Can't add data into Database\")\n",
        "\n",
        "    print(bid)\n",
        "    print(title)\n",
        "    print(author)\n",
        "    print(status)\n",
        "\n",
        "\n",
        "    root.destroy()\n",
        "\n",
        "def addBook():\n",
        "\n",
        "    global bookInfo1,bookInfo2,bookInfo3,bookInfo4,Canvas1,con,cur,bookTable,root\n",
        "\n",
        "    root = Tk()\n",
        "    root.title(\"Library\")\n",
        "    root.minsize(width=400,height=400)\n",
        "    root.geometry(\"600x500\")\n",
        "\n",
        "    # Add your own database name and password here to reflect in the code\n",
        "    mypass = \"root\"\n",
        "    mydatabase=\"db\"\n",
        "\n",
        "    con = pymysql.connect(host=\"localhost\",user=\"root\",password=mypass,database=mydatabase)\n",
        "    cur = con.cursor()\n",
        "\n",
        "    # Enter Table Names here\n",
        "    bookTable = \"books\" # Book Table\n",
        "\n",
        "    Canvas1 = Canvas(root)\n",
        "\n",
        "    Canvas1.config(bg=\"#ff6e40\")\n",
        "    Canvas1.pack(expand=True,fill=BOTH)\n",
        "\n",
        "    headingFrame1 = Frame(root,bg=\"#FFBB00\",bd=5)\n",
        "    headingFrame1.place(relx=0.25,rely=0.1,relwidth=0.5,relheight=0.13)\n",
        "\n",
        "    headingLabel = Label(headingFrame1, text=\"Add Books\", bg='black', fg='white', font=('Courier',15))\n",
        "    headingLabel.place(relx=0,rely=0, relwidth=1, relheight=1)\n",
        "\n",
        "\n",
        "    labelFrame = Frame(root,bg='black')\n",
        "    labelFrame.place(relx=0.1,rely=0.4,relwidth=0.8,relheight=0.4)\n",
        "\n",
        "    # Book ID\n",
        "    lb1 = Label(labelFrame,text=\"Book ID : \", bg='black', fg='white')\n",
        "    lb1.place(relx=0.05,rely=0.2, relheight=0.08)\n",
        "\n",
        "    bookInfo1 = Entry(labelFrame)\n",
        "    bookInfo1.place(relx=0.3,rely=0.2, relwidth=0.62, relheight=0.08)\n",
        "\n",
        "    # Title\n",
        "    lb2 = Label(labelFrame,text=\"Title : \", bg='black', fg='white')\n",
        "    lb2.place(relx=0.05,rely=0.35, relheight=0.08)\n",
        "\n",
        "    bookInfo2 = Entry(labelFrame)\n",
        "    bookInfo2.place(relx=0.3,rely=0.35, relwidth=0.62, relheight=0.08)\n",
        "\n",
        "    # Book Author\n",
        "    lb3 = Label(labelFrame,text=\"Author : \", bg='black', fg='white')\n",
        "    lb3.place(relx=0.05,rely=0.50, relheight=0.08)\n",
        "\n",
        "    bookInfo3 = Entry(labelFrame)\n",
        "    bookInfo3.place(relx=0.3,rely=0.50, relwidth=0.62, relheight=0.08)\n",
        "\n",
        "    # Book Status\n",
        "    lb4 = Label(labelFrame,text=\"Status(Avail/issued) : \", bg='black', fg='white')\n",
        "    lb4.place(relx=0.05,rely=0.65, relheight=0.08)\n",
        "\n",
        "    bookInfo4 = Entry(labelFrame)\n",
        "    bookInfo4.place(relx=0.3,rely=0.65, relwidth=0.62, relheight=0.08)\n",
        "\n",
        "    #Submit Button\n",
        "    SubmitBtn = Button(root,text=\"SUBMIT\",bg='#d1ccc0', fg='black',command=bookRegister)\n",
        "    SubmitBtn.place(relx=0.28,rely=0.9, relwidth=0.18,relheight=0.08)\n",
        "\n",
        "    quitBtn = Button(root,text=\"Quit\",bg='#f7f1e3', fg='black', command=root.destroy)\n",
        "    quitBtn.place(relx=0.53,rely=0.9, relwidth=0.18,relheight=0.08)\n",
        "\n",
        "    root.mainloop()"
      ],
      "metadata": {
        "id": "V2wzKml0-T1f"
      },
      "execution_count": null,
      "outputs": []
    },
    {
      "cell_type": "code",
      "source": [
        "print(5&3)"
      ],
      "metadata": {
        "id": "G0cncnfYXd48",
        "outputId": "eb1c4c1b-7ba1-4bf7-cc78-81c8ffdd6525",
        "colab": {
          "base_uri": "https://localhost:8080/"
        }
      },
      "execution_count": null,
      "outputs": [
        {
          "output_type": "stream",
          "name": "stdout",
          "text": [
            "1\n"
          ]
        }
      ]
    },
    {
      "cell_type": "code",
      "source": [
        "numbers = [1, 2, 3, 4, 5]\n",
        "for i in range(len(numbers)):\n",
        "    numbers[i] *= 2\n",
        "print(numbers)\n"
      ],
      "metadata": {
        "colab": {
          "base_uri": "https://localhost:8080/"
        },
        "id": "fSia8tVCnCtv",
        "outputId": "8324e0b1-fe00-4b09-f834-afa93335336b"
      },
      "execution_count": null,
      "outputs": [
        {
          "output_type": "stream",
          "name": "stdout",
          "text": [
            "[2, 4, 6, 8, 10]\n"
          ]
        }
      ]
    },
    {
      "cell_type": "code",
      "source": [
        "my_list = [1, 2, 3, 4, 5]\n",
        "for i in my_list:\n",
        "    my_list.remove(i)\n",
        "print(my_list)\n"
      ],
      "metadata": {
        "colab": {
          "base_uri": "https://localhost:8080/"
        },
        "id": "fk2uRCXInblY",
        "outputId": "caf46f13-5779-436a-cd1b-c1ad9bac83ca"
      },
      "execution_count": null,
      "outputs": [
        {
          "output_type": "stream",
          "name": "stdout",
          "text": [
            "[2, 4]\n"
          ]
        }
      ]
    },
    {
      "cell_type": "code",
      "source": [
        "def code_output():\n",
        "    for row in range(7):\n",
        "        for col in range(7):\n",
        "            if row == 0 or col == 3:\n",
        "                print(\"*\", end=\" \")\n",
        "            else:\n",
        "                print(\" \", end=\" \")\n",
        "        print()\n",
        "\n",
        "code_output()"
      ],
      "metadata": {
        "id": "U_SV-kZKrvhc",
        "outputId": "4edc3090-9b53-452e-c142-9153a57664f0",
        "colab": {
          "base_uri": "https://localhost:8080/"
        }
      },
      "execution_count": null,
      "outputs": [
        {
          "output_type": "stream",
          "name": "stdout",
          "text": [
            "* * * * * * * \n",
            "      *       \n",
            "      *       \n",
            "      *       \n",
            "      *       \n",
            "      *       \n",
            "      *       \n"
          ]
        }
      ]
    },
    {
      "cell_type": "code",
      "source": [
        "z = 2\n",
        "def fun1():\n",
        "    z = 4\n",
        "\n",
        "def fun2(x, y):\n",
        "    global z\n",
        "    return x+y**z\n",
        "fun1()\n",
        "output = fun2(3,5)\n",
        "print(output)"
      ],
      "metadata": {
        "colab": {
          "base_uri": "https://localhost:8080/"
        },
        "id": "O3z_W17NxUJh",
        "outputId": "43458382-f3c8-4bcd-f93c-30ecc89d26d8"
      },
      "execution_count": null,
      "outputs": [
        {
          "output_type": "stream",
          "name": "stdout",
          "text": [
            "28\n"
          ]
        }
      ]
    },
    {
      "cell_type": "code",
      "source": [
        "r = lambda p: p * 4\n",
        "s = lambda q: q // 3\n",
        "x = 2\n",
        "x = r(x)\n",
        "x = s(x)\n",
        "print (x)"
      ],
      "metadata": {
        "colab": {
          "base_uri": "https://localhost:8080/"
        },
        "id": "zDgfOQRks97I",
        "outputId": "ce170fea-8f7c-453d-9154-b7ccd25162ca"
      },
      "execution_count": null,
      "outputs": [
        {
          "output_type": "stream",
          "name": "stdout",
          "text": [
            "2\n"
          ]
        }
      ]
    },
    {
      "cell_type": "code",
      "source": [
        "my_dict = {\"a\": 1, \"b\": 2, \"c\": 3}\n",
        "for key in my_dict:\n",
        "    my_dict[key] += 1\n",
        "print(my_dict)\n"
      ],
      "metadata": {
        "colab": {
          "base_uri": "https://localhost:8080/"
        },
        "id": "-bQ2TCrtzO58",
        "outputId": "f1c47ee5-c08d-47de-aa64-9c8cc7c72c24"
      },
      "execution_count": null,
      "outputs": [
        {
          "output_type": "stream",
          "name": "stdout",
          "text": [
            "{'a': 2, 'b': 3, 'c': 4}\n"
          ]
        }
      ]
    },
    {
      "cell_type": "code",
      "source": [
        "def greet(name):\n",
        "    print(f\"Hello, {name}!\")\n",
        "greet(\"John\")"
      ],
      "metadata": {
        "colab": {
          "base_uri": "https://localhost:8080/"
        },
        "id": "HwP384p25Asm",
        "outputId": "cf585a69-c0cb-480c-d945-dd793b92fbba"
      },
      "execution_count": null,
      "outputs": [
        {
          "output_type": "stream",
          "name": "stdout",
          "text": [
            "Hello, John!\n"
          ]
        }
      ]
    },
    {
      "cell_type": "code",
      "source": [
        "\n",
        "def multiply(a, b):\n",
        "    return a * b\n",
        "result = multiply(3, 4)\n",
        "print(result)\n"
      ],
      "metadata": {
        "id": "K_f3v3ok6enH",
        "outputId": "32b469d0-9792-410f-9106-37f6a082f063",
        "colab": {
          "base_uri": "https://localhost:8080/"
        }
      },
      "execution_count": null,
      "outputs": [
        {
          "output_type": "stream",
          "name": "stdout",
          "text": [
            "12\n"
          ]
        }
      ]
    },
    {
      "cell_type": "code",
      "source": [
        "lst = [1,95,45,345,56,75]\n",
        "lst[2:5]"
      ],
      "metadata": {
        "id": "PDECzXxYpXnz",
        "colab": {
          "base_uri": "https://localhost:8080/"
        },
        "outputId": "19184d65-fe2e-423f-e4a0-19b66304da73"
      },
      "execution_count": null,
      "outputs": [
        {
          "output_type": "execute_result",
          "data": {
            "text/plain": [
              "[45, 345, 56]"
            ]
          },
          "metadata": {},
          "execution_count": 1
        }
      ]
    },
    {
      "cell_type": "code",
      "source": [
        "lst[1:-1:2]"
      ],
      "metadata": {
        "colab": {
          "base_uri": "https://localhost:8080/"
        },
        "id": "QNsaDI9xlNCv",
        "outputId": "62b25bfb-fbcc-44ea-f4de-b81fe8572ada"
      },
      "execution_count": null,
      "outputs": [
        {
          "output_type": "execute_result",
          "data": {
            "text/plain": [
              "[95, 345]"
            ]
          },
          "metadata": {},
          "execution_count": 4
        }
      ]
    },
    {
      "cell_type": "code",
      "source": [
        "len(lst)"
      ],
      "metadata": {
        "colab": {
          "base_uri": "https://localhost:8080/"
        },
        "id": "QFX2kJSslpSs",
        "outputId": "f4411fa1-d78a-41cd-d89d-9089a49c0405"
      },
      "execution_count": null,
      "outputs": [
        {
          "output_type": "execute_result",
          "data": {
            "text/plain": [
              "6"
            ]
          },
          "metadata": {},
          "execution_count": 5
        }
      ]
    },
    {
      "cell_type": "code",
      "source": [
        "a = ['a', 'b', 'c']\n",
        "n = [1, 2, 3]\n",
        "x = [a, n]\n",
        "print(x)\n",
        "x[0][:]"
      ],
      "metadata": {
        "colab": {
          "base_uri": "https://localhost:8080/"
        },
        "id": "950vaALSlzyw",
        "outputId": "6a834903-c44c-4411-f194-c5bc6b8717e1"
      },
      "execution_count": null,
      "outputs": [
        {
          "output_type": "stream",
          "name": "stdout",
          "text": [
            "[['a', 'b', 'c'], [1, 2, 3]]\n"
          ]
        },
        {
          "output_type": "execute_result",
          "data": {
            "text/plain": [
              "['a', 'b', 'c']"
            ]
          },
          "metadata": {},
          "execution_count": 9
        }
      ]
    },
    {
      "cell_type": "code",
      "source": [
        "y = a + n\n",
        "y"
      ],
      "metadata": {
        "colab": {
          "base_uri": "https://localhost:8080/"
        },
        "id": "E25eaZREl3Mg",
        "outputId": "97db8e07-5f68-4c69-9794-ee6e95be8d20"
      },
      "execution_count": null,
      "outputs": [
        {
          "output_type": "execute_result",
          "data": {
            "text/plain": [
              "['a', 'b', 'c', 1, 2, 3]"
            ]
          },
          "metadata": {},
          "execution_count": 7
        }
      ]
    },
    {
      "cell_type": "code",
      "source": [
        "a, b = 0, 1\n",
        "while a < 10:\n",
        "    print(a)\n",
        "    a, b = b, a+b"
      ],
      "metadata": {
        "colab": {
          "base_uri": "https://localhost:8080/"
        },
        "id": "K_z69_FCnbjS",
        "outputId": "c7f0ff5a-713f-42f6-c725-1f879a3ddb07"
      },
      "execution_count": null,
      "outputs": [
        {
          "output_type": "stream",
          "name": "stdout",
          "text": [
            "0\n",
            "1\n",
            "1\n",
            "2\n",
            "3\n",
            "5\n",
            "8\n"
          ]
        }
      ]
    },
    {
      "cell_type": "code",
      "source": [],
      "metadata": {
        "id": "-rHUZT6upb73"
      },
      "execution_count": null,
      "outputs": []
    },
    {
      "cell_type": "code",
      "source": [
        "a,b = 0,1\n",
        "while a < 100:\n",
        "  print(a)\n",
        "  a,b=b,a+b"
      ],
      "metadata": {
        "colab": {
          "base_uri": "https://localhost:8080/"
        },
        "id": "Yf6OwKYGpURz",
        "outputId": "fddf4c1b-7b88-4e82-e588-5f89050c5184"
      },
      "execution_count": null,
      "outputs": [
        {
          "output_type": "stream",
          "name": "stdout",
          "text": [
            "0\n",
            "1\n",
            "1\n",
            "2\n",
            "3\n",
            "5\n",
            "8\n",
            "13\n",
            "21\n",
            "34\n",
            "55\n",
            "89\n"
          ]
        }
      ]
    },
    {
      "cell_type": "code",
      "source": [
        "names = ['Sarthak','Ashutosh','Pratham','Viju']\n",
        "for n in names:\n",
        "  print(n,len(n))"
      ],
      "metadata": {
        "colab": {
          "base_uri": "https://localhost:8080/"
        },
        "id": "mwZ7O-HyzhxT",
        "outputId": "a29ab976-0e41-4938-b713-8f00a6eb7973"
      },
      "execution_count": null,
      "outputs": [
        {
          "output_type": "stream",
          "name": "stdout",
          "text": [
            "Sarthak 7\n",
            "Ashutosh 8\n",
            "Pratham 7\n",
            "Viju 4\n"
          ]
        }
      ]
    },
    {
      "cell_type": "code",
      "source": [
        "dictm= {'Akash':33,'Dakar':90,'akshita': 34,'kamna':94,'lila': 89}\n",
        "for name,marks in dictm.copy().items():\n",
        "  if marks <80:\n",
        "    del dictm[name]\n",
        "dictm"
      ],
      "metadata": {
        "colab": {
          "base_uri": "https://localhost:8080/"
        },
        "id": "j7vMlm0x0rD3",
        "outputId": "96fea099-3ea4-4429-c2b9-3445ef248558"
      },
      "execution_count": null,
      "outputs": [
        {
          "output_type": "execute_result",
          "data": {
            "text/plain": [
              "{'Dakar': 90, 'kamna': 94, 'lila': 89}"
            ]
          },
          "metadata": {},
          "execution_count": 17
        }
      ]
    },
    {
      "cell_type": "code",
      "source": [
        "a = ['Sarthak', 'had', 'a', 'big', 'dinosaur']\n",
        "for i in range(len(a)):\n",
        "    print(i, a[i])"
      ],
      "metadata": {
        "colab": {
          "base_uri": "https://localhost:8080/"
        },
        "id": "0lFwTafA5E1Q",
        "outputId": "68432dbf-bd18-407c-fd68-427efe9e3da3"
      },
      "execution_count": null,
      "outputs": [
        {
          "output_type": "stream",
          "name": "stdout",
          "text": [
            "0 Sarthak\n",
            "1 had\n",
            "2 a\n",
            "3 big\n",
            "4 dinosaur\n"
          ]
        }
      ]
    },
    {
      "cell_type": "code",
      "source": [
        "range(10)"
      ],
      "metadata": {
        "colab": {
          "base_uri": "https://localhost:8080/"
        },
        "id": "JO4npAH_6EAT",
        "outputId": "429ae73d-4a1b-4055-e13d-b66266a6030b"
      },
      "execution_count": null,
      "outputs": [
        {
          "output_type": "execute_result",
          "data": {
            "text/plain": [
              "range(0, 10)"
            ]
          },
          "metadata": {},
          "execution_count": 23
        }
      ]
    },
    {
      "cell_type": "code",
      "source": [
        "sum(range(1,11))"
      ],
      "metadata": {
        "colab": {
          "base_uri": "https://localhost:8080/"
        },
        "id": "8HUib-z46P1R",
        "outputId": "a1f65e8d-a419-4d57-e8ab-ee8e13747908"
      },
      "execution_count": null,
      "outputs": [
        {
          "output_type": "execute_result",
          "data": {
            "text/plain": [
              "55"
            ]
          },
          "metadata": {},
          "execution_count": 26
        }
      ]
    },
    {
      "cell_type": "code",
      "source": [],
      "metadata": {
        "colab": {
          "base_uri": "https://localhost:8080/",
          "height": 131
        },
        "id": "p_2BLKde6kvs",
        "outputId": "bda4c3cb-3d42-48f5-8f07-0697b1e854ae"
      },
      "execution_count": null,
      "outputs": [
        {
          "output_type": "error",
          "ename": "SyntaxError",
          "evalue": "ignored",
          "traceback": [
            "\u001b[0;36m  File \u001b[0;32m\"<ipython-input-28-3a956e96b3e2>\"\u001b[0;36m, line \u001b[0;32m1\u001b[0m\n\u001b[0;31m    sum([1:10])\u001b[0m\n\u001b[0m          ^\u001b[0m\n\u001b[0;31mSyntaxError\u001b[0m\u001b[0;31m:\u001b[0m invalid syntax\n"
          ]
        }
      ]
    }
  ],
  "metadata": {
    "colab": {
      "provenance": [],
      "toc_visible": true
    },
    "kernelspec": {
      "display_name": "Python 3",
      "name": "python3"
    },
    "language_info": {
      "name": "python"
    }
  },
  "nbformat": 4,
  "nbformat_minor": 0
}